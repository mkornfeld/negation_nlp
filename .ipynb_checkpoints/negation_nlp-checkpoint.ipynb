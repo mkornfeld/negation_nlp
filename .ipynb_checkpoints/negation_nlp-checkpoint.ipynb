{
 "cells": [
  {
   "cell_type": "code",
   "execution_count": 29,
   "id": "c2427d53",
   "metadata": {},
   "outputs": [
    {
     "name": "stderr",
     "output_type": "stream",
     "text": [
      "[nltk_data] Downloading package punkt to\n",
      "[nltk_data]     /Users/myleskornfeld/nltk_data...\n",
      "[nltk_data]   Package punkt is already up-to-date!\n",
      "[nltk_data] Downloading package brown to\n",
      "[nltk_data]     /Users/myleskornfeld/nltk_data...\n",
      "[nltk_data]   Package brown is already up-to-date!\n",
      "[nltk_data] Downloading package stopwords to\n",
      "[nltk_data]     /Users/myleskornfeld/nltk_data...\n",
      "[nltk_data]   Package stopwords is already up-to-date!\n",
      "[nltk_data] Downloading package wordnet to\n",
      "[nltk_data]     /Users/myleskornfeld/nltk_data...\n",
      "[nltk_data]   Package wordnet is already up-to-date!\n",
      "[nltk_data] Downloading package averaged_perceptron_tagger to\n",
      "[nltk_data]     /Users/myleskornfeld/nltk_data...\n",
      "[nltk_data]   Package averaged_perceptron_tagger is already up-to-\n",
      "[nltk_data]       date!\n"
     ]
    }
   ],
   "source": [
    "import tensorflow as tf\n",
    "from tensorflow.keras.preprocessing.sequence import pad_sequences\n",
    "from tensorflow.keras.preprocessing.text import text_to_word_sequence\n",
    "from tensorflow.keras.preprocessing.text import one_hot\n",
    "import pandas as pd\n",
    "import numpy as np\n",
    "from tensorflow.keras.preprocessing.text import Tokenizer\n",
    "import tensorflow_datasets as tfds\n",
    "import matplotlib.pyplot as plt\n",
    "import difflib\n",
    "import nltk\n",
    "from sklearn.model_selection import train_test_split\n",
    "nltk.download('punkt')\n",
    "nltk.download('brown')\n",
    "from nltk.corpus import stopwords\n",
    "nltk.download('stopwords')\n",
    "nltk.download('wordnet')\n",
    "nltk.download('averaged_perceptron_tagger')\n",
    "stop = stopwords.words('english')\n",
    "stop = set(stopwords.words('english')) - {'no', 'not','never',\"don't\",'never','nor'}\n",
    "pd.set_option(\"display.max_rows\", None)\n",
    "pd.set_option(\"display.max_columns\", None)\n",
    "from nltk.tag import pos_tag\n",
    "from nltk.stem.wordnet import WordNetLemmatizer\n",
    "from textblob import TextBlob\n",
    "from nltk import classify\n",
    "from nltk import NaiveBayesClassifier"
   ]
  },
  {
   "cell_type": "code",
   "execution_count": 5,
   "id": "dc65652c",
   "metadata": {},
   "outputs": [
    {
     "name": "stdout",
     "output_type": "stream",
     "text": [
      "{'how', 'is', 'in', 're', 'between', 'but', 'off', 'because', 'isn', 'before', \"won't\", 'am', 'she', 'd', 'over', 'own', 'will', 'an', 'out', 'doesn', \"isn't\", 'with', 'for', 'me', \"mightn't\", 'them', 'and', 'who', \"wouldn't\", 'only', 'such', \"she's\", 'same', 'than', 've', 'haven', 'do', 'herself', \"it's\", 'both', 'of', 'now', 'my', 'ain', 'a', 'yours', 't', 'at', 'hadn', 'most', 'too', 'did', 'each', 'down', 'which', \"that'll\", \"hadn't\", 'that', 'about', 'are', 'few', 'they', \"you'll\", 'hasn', 'here', 'shouldn', 'if', 'as', 'after', 'very', 'up', \"shouldn't\", 'does', 'itself', 'themselves', 'those', 'other', \"couldn't\", 'don', 'until', \"doesn't\", 'further', 'there', \"mustn't\", 'he', 'should', 'while', 'o', \"should've\", 'ma', 'his', 'below', 'once', 'through', 'some', 'we', 'm', \"you'd\", 'on', 'wasn', 'our', 'wouldn', \"wasn't\", \"aren't\", 'you', 'it', 'more', 'himself', 'when', 'to', 'why', 'any', 'can', 'by', 'mustn', 'into', 'didn', 'whom', \"haven't\", 'being', 'where', 'just', \"shan't\", 'myself', 'll', 'him', \"needn't\", 'i', 'doing', 'were', 'all', 'ours', 'shan', 'above', 'couldn', 'aren', 'or', 'having', \"weren't\", 'hers', 'yourselves', 'theirs', 'during', 'the', 'has', 'won', 'so', 'your', 'mightn', 'this', 'weren', \"didn't\", 'y', 'her', 's', 'then', 'needn', 'been', 'these', 'what', 'was', \"you've\", \"hasn't\", 'against', \"you're\", 'ourselves', 'yourself', 'its', 'be', 'from', 'under', 'their', 'had', 'again', 'have'}\n"
     ]
    }
   ],
   "source": [
    "print(stop)"
   ]
  },
  {
   "cell_type": "code",
   "execution_count": 30,
   "id": "325e1421",
   "metadata": {},
   "outputs": [],
   "source": [
    "df_train = pd.read_csv('../training.1600000.processed.noemoticon.csv',encoding='latin-1')\n",
    "df_test = pd.read_csv('../testdata.manual.2009.06.14.csv',encoding='latin-1')\n",
    "df_test = df_test[df_test['sentiment']!=2]"
   ]
  },
  {
   "cell_type": "code",
   "execution_count": 31,
   "id": "7fdbf029",
   "metadata": {
    "scrolled": true
   },
   "outputs": [
    {
     "data": {
      "text/plain": [
       "sentiment    217486\n",
       "user_id      217486\n",
       "date         217486\n",
       "query        217486\n",
       "user         217486\n",
       "text         217486\n",
       "dtype: int64"
      ]
     },
     "execution_count": 31,
     "metadata": {},
     "output_type": "execute_result"
    }
   ],
   "source": [
    "df_train[(df_train['text'].str.contains(r'no|not|never|didnt',regex=True))&(df_train['sentiment']==0)].count()"
   ]
  },
  {
   "cell_type": "code",
   "execution_count": 32,
   "id": "c3964a6b",
   "metadata": {
    "scrolled": true
   },
   "outputs": [
    {
     "data": {
      "text/plain": [
       "sentiment    0\n",
       "user_id      0\n",
       "date         0\n",
       "query        0\n",
       "user         0\n",
       "text         0\n",
       "dtype: int64"
      ]
     },
     "execution_count": 32,
     "metadata": {},
     "output_type": "execute_result"
    }
   ],
   "source": [
    "df_train[(df_train['text'].str.contains(r'no|not|never|didnt|nor',regex=True))&(df_train['sentiment']==2)].count()"
   ]
  },
  {
   "cell_type": "code",
   "execution_count": 33,
   "id": "e3140ba2",
   "metadata": {},
   "outputs": [
    {
     "data": {
      "text/html": [
       "<div>\n",
       "<style scoped>\n",
       "    .dataframe tbody tr th:only-of-type {\n",
       "        vertical-align: middle;\n",
       "    }\n",
       "\n",
       "    .dataframe tbody tr th {\n",
       "        vertical-align: top;\n",
       "    }\n",
       "\n",
       "    .dataframe thead th {\n",
       "        text-align: right;\n",
       "    }\n",
       "</style>\n",
       "<table border=\"1\" class=\"dataframe\">\n",
       "  <thead>\n",
       "    <tr style=\"text-align: right;\">\n",
       "      <th></th>\n",
       "      <th>sentiment</th>\n",
       "      <th>user_id</th>\n",
       "      <th>date</th>\n",
       "      <th>query</th>\n",
       "      <th>user</th>\n",
       "      <th>text</th>\n",
       "    </tr>\n",
       "  </thead>\n",
       "  <tbody>\n",
       "    <tr>\n",
       "      <th>0</th>\n",
       "      <td>0</td>\n",
       "      <td>1467810369</td>\n",
       "      <td>Mon Apr 06 22:19:45 PDT 2009</td>\n",
       "      <td>NO_QUERY</td>\n",
       "      <td>_TheSpecialOne_</td>\n",
       "      <td>@switchfoot http://twitpic.com/2y1zl - Awww, t...</td>\n",
       "    </tr>\n",
       "    <tr>\n",
       "      <th>1</th>\n",
       "      <td>0</td>\n",
       "      <td>1467810672</td>\n",
       "      <td>Mon Apr 06 22:19:49 PDT 2009</td>\n",
       "      <td>NO_QUERY</td>\n",
       "      <td>scotthamilton</td>\n",
       "      <td>is upset that he can't update his Facebook by ...</td>\n",
       "    </tr>\n",
       "    <tr>\n",
       "      <th>2</th>\n",
       "      <td>0</td>\n",
       "      <td>1467810917</td>\n",
       "      <td>Mon Apr 06 22:19:53 PDT 2009</td>\n",
       "      <td>NO_QUERY</td>\n",
       "      <td>mattycus</td>\n",
       "      <td>@Kenichan I dived many times for the ball. Man...</td>\n",
       "    </tr>\n",
       "    <tr>\n",
       "      <th>3</th>\n",
       "      <td>0</td>\n",
       "      <td>1467811184</td>\n",
       "      <td>Mon Apr 06 22:19:57 PDT 2009</td>\n",
       "      <td>NO_QUERY</td>\n",
       "      <td>ElleCTF</td>\n",
       "      <td>my whole body feels itchy and like its on fire</td>\n",
       "    </tr>\n",
       "    <tr>\n",
       "      <th>4</th>\n",
       "      <td>0</td>\n",
       "      <td>1467811193</td>\n",
       "      <td>Mon Apr 06 22:19:57 PDT 2009</td>\n",
       "      <td>NO_QUERY</td>\n",
       "      <td>Karoli</td>\n",
       "      <td>@nationwideclass no, it's not behaving at all....</td>\n",
       "    </tr>\n",
       "  </tbody>\n",
       "</table>\n",
       "</div>"
      ],
      "text/plain": [
       "   sentiment     user_id                          date     query  \\\n",
       "0          0  1467810369  Mon Apr 06 22:19:45 PDT 2009  NO_QUERY   \n",
       "1          0  1467810672  Mon Apr 06 22:19:49 PDT 2009  NO_QUERY   \n",
       "2          0  1467810917  Mon Apr 06 22:19:53 PDT 2009  NO_QUERY   \n",
       "3          0  1467811184  Mon Apr 06 22:19:57 PDT 2009  NO_QUERY   \n",
       "4          0  1467811193  Mon Apr 06 22:19:57 PDT 2009  NO_QUERY   \n",
       "\n",
       "              user                                               text  \n",
       "0  _TheSpecialOne_  @switchfoot http://twitpic.com/2y1zl - Awww, t...  \n",
       "1    scotthamilton  is upset that he can't update his Facebook by ...  \n",
       "2         mattycus  @Kenichan I dived many times for the ball. Man...  \n",
       "3          ElleCTF    my whole body feels itchy and like its on fire   \n",
       "4           Karoli  @nationwideclass no, it's not behaving at all....  "
      ]
     },
     "execution_count": 33,
     "metadata": {},
     "output_type": "execute_result"
    }
   ],
   "source": [
    "df_concat = pd.concat([df_train,df_test],axis=0)\n",
    "df_concat.head()"
   ]
  },
  {
   "cell_type": "code",
   "execution_count": 34,
   "id": "34eb7577",
   "metadata": {
    "scrolled": true
   },
   "outputs": [
    {
     "data": {
      "text/plain": [
       "sentiment    144569\n",
       "user_id      144569\n",
       "date         144569\n",
       "query        144569\n",
       "user         144569\n",
       "text         144569\n",
       "dtype: int64"
      ]
     },
     "execution_count": 34,
     "metadata": {},
     "output_type": "execute_result"
    }
   ],
   "source": [
    "df_train[(df_train['text'].str.contains(r'no|not|never|didnt',regex=True))&(df_train['sentiment']==4)].count()"
   ]
  },
  {
   "cell_type": "code",
   "execution_count": 35,
   "id": "0b7671cb",
   "metadata": {},
   "outputs": [
    {
     "data": {
      "text/html": [
       "<div>\n",
       "<style scoped>\n",
       "    .dataframe tbody tr th:only-of-type {\n",
       "        vertical-align: middle;\n",
       "    }\n",
       "\n",
       "    .dataframe tbody tr th {\n",
       "        vertical-align: top;\n",
       "    }\n",
       "\n",
       "    .dataframe thead th {\n",
       "        text-align: right;\n",
       "    }\n",
       "</style>\n",
       "<table border=\"1\" class=\"dataframe\">\n",
       "  <thead>\n",
       "    <tr style=\"text-align: right;\">\n",
       "      <th></th>\n",
       "      <th>sentiment</th>\n",
       "      <th>user_id</th>\n",
       "      <th>date</th>\n",
       "      <th>query</th>\n",
       "      <th>user</th>\n",
       "      <th>text</th>\n",
       "    </tr>\n",
       "  </thead>\n",
       "  <tbody>\n",
       "    <tr>\n",
       "      <th>0</th>\n",
       "      <td>0</td>\n",
       "      <td>1467810369</td>\n",
       "      <td>Mon Apr 06 22:19:45 PDT 2009</td>\n",
       "      <td>NO_QUERY</td>\n",
       "      <td>_TheSpecialOne_</td>\n",
       "      <td>awww thats bummer shoulda got david carr thir...</td>\n",
       "    </tr>\n",
       "    <tr>\n",
       "      <th>1</th>\n",
       "      <td>0</td>\n",
       "      <td>1467810672</td>\n",
       "      <td>Mon Apr 06 22:19:49 PDT 2009</td>\n",
       "      <td>NO_QUERY</td>\n",
       "      <td>scotthamilton</td>\n",
       "      <td>upset cant update facebook texting it might cr...</td>\n",
       "    </tr>\n",
       "    <tr>\n",
       "      <th>2</th>\n",
       "      <td>0</td>\n",
       "      <td>1467810917</td>\n",
       "      <td>Mon Apr 06 22:19:53 PDT 2009</td>\n",
       "      <td>NO_QUERY</td>\n",
       "      <td>mattycus</td>\n",
       "      <td>dived many times ball managed save 50 rest go ...</td>\n",
       "    </tr>\n",
       "    <tr>\n",
       "      <th>3</th>\n",
       "      <td>0</td>\n",
       "      <td>1467811184</td>\n",
       "      <td>Mon Apr 06 22:19:57 PDT 2009</td>\n",
       "      <td>NO_QUERY</td>\n",
       "      <td>ElleCTF</td>\n",
       "      <td>whole body feels itchy like fire</td>\n",
       "    </tr>\n",
       "    <tr>\n",
       "      <th>4</th>\n",
       "      <td>0</td>\n",
       "      <td>1467811193</td>\n",
       "      <td>Mon Apr 06 22:19:57 PDT 2009</td>\n",
       "      <td>NO_QUERY</td>\n",
       "      <td>Karoli</td>\n",
       "      <td>no not behaving all im mad here cant see there</td>\n",
       "    </tr>\n",
       "  </tbody>\n",
       "</table>\n",
       "</div>"
      ],
      "text/plain": [
       "   sentiment     user_id                          date     query  \\\n",
       "0          0  1467810369  Mon Apr 06 22:19:45 PDT 2009  NO_QUERY   \n",
       "1          0  1467810672  Mon Apr 06 22:19:49 PDT 2009  NO_QUERY   \n",
       "2          0  1467810917  Mon Apr 06 22:19:53 PDT 2009  NO_QUERY   \n",
       "3          0  1467811184  Mon Apr 06 22:19:57 PDT 2009  NO_QUERY   \n",
       "4          0  1467811193  Mon Apr 06 22:19:57 PDT 2009  NO_QUERY   \n",
       "\n",
       "              user                                               text  \n",
       "0  _TheSpecialOne_   awww thats bummer shoulda got david carr thir...  \n",
       "1    scotthamilton  upset cant update facebook texting it might cr...  \n",
       "2         mattycus  dived many times ball managed save 50 rest go ...  \n",
       "3          ElleCTF                   whole body feels itchy like fire  \n",
       "4           Karoli     no not behaving all im mad here cant see there  "
      ]
     },
     "execution_count": 35,
     "metadata": {},
     "output_type": "execute_result"
    }
   ],
   "source": [
    "df_concat['text'] = df_concat['text'].str.lower()\n",
    "df_concat['text'] = df_concat['text'].apply(lambda x: ' '.join([word for word in x.split() if '@' not in word]))\n",
    "df_concat['text'] = df_concat['text'].apply(lambda x: ' '.join([word for word in x.split() if word not in (stop)]))\n",
    "df_concat['text'] = df_concat['text'].apply(lambda x: ' '.join([word for word in x.split() if 'http' not in word]))\n",
    "df_concat['text'] = df_concat['text'].str.replace(r'[^\\w\\s]','',regex=True)\n",
    "df_concat['sentiment'] = df_concat['sentiment'].replace(4,1)\n",
    "df_concat.head()"
   ]
  },
  {
   "cell_type": "code",
   "execution_count": 12,
   "id": "504330a2",
   "metadata": {},
   "outputs": [
    {
     "data": {
      "text/plain": [
       "'|    |   sentiment |    user_id | date                         | query    | user            | text                                                                          |\\n|---:|------------:|-----------:|:-----------------------------|:---------|:----------------|:------------------------------------------------------------------------------|\\n|  0 |           0 | 1467810369 | Mon Apr 06 22:19:45 PDT 2009 | NO_QUERY | _TheSpecialOne_ | awww thats bummer shoulda got david carr third day it d                       |\\n|  1 |           0 | 1467810672 | Mon Apr 06 22:19:49 PDT 2009 | NO_QUERY | scotthamilton   | upset cant update facebook texting it might cry result school today also blah |\\n|  2 |           0 | 1467810917 | Mon Apr 06 22:19:53 PDT 2009 | NO_QUERY | mattycus        | dived many times ball managed save 50 rest go bounds                          |\\n|  3 |           0 | 1467811184 | Mon Apr 06 22:19:57 PDT 2009 | NO_QUERY | ElleCTF         | whole body feels itchy like fire                                              |\\n|  4 |           0 | 1467811193 | Mon Apr 06 22:19:57 PDT 2009 | NO_QUERY | Karoli          | no not behaving all im mad here cant see there                                |'"
      ]
     },
     "execution_count": 12,
     "metadata": {},
     "output_type": "execute_result"
    }
   ],
   "source": [
    "df_concat.head().to_markdown()"
   ]
  },
  {
   "cell_type": "markdown",
   "id": "6d44fc00",
   "metadata": {},
   "source": [
    "Because of the imbalance in the testing data, i will combine the testing adn training and then do an 80/20 split"
   ]
  },
  {
   "cell_type": "code",
   "execution_count": 36,
   "id": "ce8dd682",
   "metadata": {},
   "outputs": [
    {
     "data": {
      "text/plain": [
       "'|    |   index |   sentiment |    user_id | date                         | query    | user            | text                                                                  |\\n|---:|--------:|------------:|-----------:|:-----------------------------|:---------|:----------------|:----------------------------------------------------------------------|\\n|  0 |       4 |           0 | 1467811193 | Mon Apr 06 22:19:57 PDT 2009 | NO_QUERY | Karoli          | no not behaving all im mad here cant see there                        |\\n|  1 |       5 |           0 | 1467811372 | Mon Apr 06 22:20:00 PDT 2009 | NO_QUERY | joy_wolf        | not whole crew                                                        |\\n|  2 |       7 |           0 | 1467811594 | Mon Apr 06 22:20:03 PDT 2009 | NO_QUERY | coZZ            | hey long time no see yes rains bit only bit lol  im fine thanks  hows |\\n|  3 |       8 |           0 | 1467811795 | Mon Apr 06 22:20:05 PDT 2009 | NO_QUERY | 2Hood4Hollywood | nope                                                                  |\\n|  4 |      10 |           0 | 1467812416 | Mon Apr 06 22:20:16 PDT 2009 | NO_QUERY | erinx3leannexo  | spring break plain city snowing                                       |'"
      ]
     },
     "execution_count": 36,
     "metadata": {},
     "output_type": "execute_result"
    }
   ],
   "source": [
    "df_neg = df_concat[df_concat['text'].str.contains(r'no|not|never|didnt|never',regex=True)]\n",
    "df_neg = df_neg.reset_index()\n",
    "df_neg.head().to_markdown()"
   ]
  },
  {
   "cell_type": "code",
   "execution_count": 37,
   "id": "acc2143e",
   "metadata": {},
   "outputs": [
    {
     "data": {
      "text/html": [
       "<div>\n",
       "<style scoped>\n",
       "    .dataframe tbody tr th:only-of-type {\n",
       "        vertical-align: middle;\n",
       "    }\n",
       "\n",
       "    .dataframe tbody tr th {\n",
       "        vertical-align: top;\n",
       "    }\n",
       "\n",
       "    .dataframe thead th {\n",
       "        text-align: right;\n",
       "    }\n",
       "</style>\n",
       "<table border=\"1\" class=\"dataframe\">\n",
       "  <thead>\n",
       "    <tr style=\"text-align: right;\">\n",
       "      <th></th>\n",
       "      <th>index</th>\n",
       "      <th>sentiment</th>\n",
       "      <th>user_id</th>\n",
       "      <th>date</th>\n",
       "      <th>query</th>\n",
       "      <th>user</th>\n",
       "      <th>text</th>\n",
       "    </tr>\n",
       "  </thead>\n",
       "  <tbody>\n",
       "    <tr>\n",
       "      <th>0</th>\n",
       "      <td>4</td>\n",
       "      <td>0</td>\n",
       "      <td>1467811193</td>\n",
       "      <td>Mon Apr 06 22:19:57 PDT 2009</td>\n",
       "      <td>NO_QUERY</td>\n",
       "      <td>Karoli</td>\n",
       "      <td>no not behaving im mad cant see</td>\n",
       "    </tr>\n",
       "    <tr>\n",
       "      <th>1</th>\n",
       "      <td>5</td>\n",
       "      <td>0</td>\n",
       "      <td>1467811372</td>\n",
       "      <td>Mon Apr 06 22:20:00 PDT 2009</td>\n",
       "      <td>NO_QUERY</td>\n",
       "      <td>joy_wolf</td>\n",
       "      <td>not whole crew</td>\n",
       "    </tr>\n",
       "    <tr>\n",
       "      <th>2</th>\n",
       "      <td>7</td>\n",
       "      <td>0</td>\n",
       "      <td>1467811594</td>\n",
       "      <td>Mon Apr 06 22:20:03 PDT 2009</td>\n",
       "      <td>NO_QUERY</td>\n",
       "      <td>coZZ</td>\n",
       "      <td>hey long time no see yes rains bit bit lol im ...</td>\n",
       "    </tr>\n",
       "    <tr>\n",
       "      <th>3</th>\n",
       "      <td>8</td>\n",
       "      <td>0</td>\n",
       "      <td>1467811795</td>\n",
       "      <td>Mon Apr 06 22:20:05 PDT 2009</td>\n",
       "      <td>NO_QUERY</td>\n",
       "      <td>2Hood4Hollywood</td>\n",
       "      <td>nope</td>\n",
       "    </tr>\n",
       "    <tr>\n",
       "      <th>4</th>\n",
       "      <td>10</td>\n",
       "      <td>0</td>\n",
       "      <td>1467812416</td>\n",
       "      <td>Mon Apr 06 22:20:16 PDT 2009</td>\n",
       "      <td>NO_QUERY</td>\n",
       "      <td>erinx3leannexo</td>\n",
       "      <td>spring break plain city snowing</td>\n",
       "    </tr>\n",
       "  </tbody>\n",
       "</table>\n",
       "</div>"
      ],
      "text/plain": [
       "   index  sentiment     user_id                          date     query  \\\n",
       "0      4          0  1467811193  Mon Apr 06 22:19:57 PDT 2009  NO_QUERY   \n",
       "1      5          0  1467811372  Mon Apr 06 22:20:00 PDT 2009  NO_QUERY   \n",
       "2      7          0  1467811594  Mon Apr 06 22:20:03 PDT 2009  NO_QUERY   \n",
       "3      8          0  1467811795  Mon Apr 06 22:20:05 PDT 2009  NO_QUERY   \n",
       "4     10          0  1467812416  Mon Apr 06 22:20:16 PDT 2009  NO_QUERY   \n",
       "\n",
       "              user                                               text  \n",
       "0           Karoli                    no not behaving im mad cant see  \n",
       "1         joy_wolf                                     not whole crew  \n",
       "2             coZZ  hey long time no see yes rains bit bit lol im ...  \n",
       "3  2Hood4Hollywood                                               nope  \n",
       "4   erinx3leannexo                    spring break plain city snowing  "
      ]
     },
     "execution_count": 37,
     "metadata": {},
     "output_type": "execute_result"
    }
   ],
   "source": [
    "df_neg['text'] = df_neg['text'].str.lower()\n",
    "df_neg['text'] = df_neg['text'].apply(lambda x: ' '.join([word for word in x.split() if '@' not in word]))\n",
    "df_neg['text'] = df_neg['text'].apply(lambda x: ' '.join([word for word in x.split() if word not in (stop)]))\n",
    "df_neg['text'] = df_neg['text'].str.replace(r'[^\\w\\s]','',regex=True)\n",
    "df_neg.head()"
   ]
  },
  {
   "cell_type": "code",
   "execution_count": 38,
   "id": "253e15f1",
   "metadata": {},
   "outputs": [],
   "source": [
    "df_neg['sentiment'] = df_neg['sentiment'].replace(4,1)"
   ]
  },
  {
   "cell_type": "code",
   "execution_count": 39,
   "id": "cd80a448",
   "metadata": {},
   "outputs": [
    {
     "data": {
      "text/plain": [
       "<AxesSubplot:>"
      ]
     },
     "execution_count": 39,
     "metadata": {},
     "output_type": "execute_result"
    },
    {
     "data": {
      "image/png": "[encoded data removed]",
      "text/plain": [
       "<Figure size 432x288 with 1 Axes>"
      ]
     },
     "metadata": {
      "needs_background": "light"
     },
     "output_type": "display_data"
    }
   ],
   "source": [
    "df_neg['sentiment'].value_counts(sort=False).plot.bar()"
   ]
  },
  {
   "cell_type": "markdown",
   "id": "324dfa1b",
   "metadata": {},
   "source": [
    "Remove outliers"
   ]
  },
  {
   "cell_type": "code",
   "execution_count": 40,
   "id": "756b3cd8",
   "metadata": {},
   "outputs": [
    {
     "data": {
      "text/plain": [
       "count    347594.000000\n",
       "mean          9.169563\n",
       "std           3.964913\n",
       "min           0.000000\n",
       "25%           6.000000\n",
       "50%           9.000000\n",
       "75%          12.000000\n",
       "max          29.000000\n",
       "Name: text, dtype: float64"
      ]
     },
     "execution_count": 40,
     "metadata": {},
     "output_type": "execute_result"
    },
    {
     "data": {
      "image/png": "[encoded data removed]",
      "text/plain": [
       "<Figure size 432x288 with 1 Axes>"
      ]
     },
     "metadata": {
      "needs_background": "light"
     },
     "output_type": "display_data"
    }
   ],
   "source": [
    "# df_neg['text'].str.split().apply(len).value_counts().head()\n",
    "df_neg['text'].apply(lambda n: len(n.split())).hist()\n",
    "df_neg['text'].apply(lambda n: len(n.split())).describe()"
   ]
  },
  {
   "cell_type": "code",
   "execution_count": 41,
   "id": "89be2506",
   "metadata": {},
   "outputs": [],
   "source": [
    "#df_neg = df_neg[df_neg['text'].str.count(\" \") >= 2]"
   ]
  },
  {
   "cell_type": "code",
   "execution_count": 45,
   "id": "1bde9ae1",
   "metadata": {},
   "outputs": [],
   "source": [
    "vocab_size = 4000\n",
    "embedding_dim = 16\n",
    "max_length = df_neg['text'].apply(lambda n: len(n.split())).max()\n",
    "trunc_type='post'\n",
    "pad_type='post'\n",
    "oov_tok = \"<OOV>\"\n",
    "\n",
    "myTokenizer = Tokenizer(num_words=vocab_size,oov_token=oov_tok)\n",
    "myTokenizer.fit_on_texts(df_concat['text'])\n",
    "word_index = myTokenizer.word_index\n",
    "\n",
    "sequences = myTokenizer.texts_to_sequences(df_neg['text'])\n",
    "padded = pad_sequences(sequences, maxlen=max_length, padding=\"post\")"
   ]
  },
  {
   "cell_type": "code",
   "execution_count": 46,
   "id": "dfd1b9fe",
   "metadata": {},
   "outputs": [
    {
     "data": {
      "text/html": [
       "<div>\n",
       "<style scoped>\n",
       "    .dataframe tbody tr th:only-of-type {\n",
       "        vertical-align: middle;\n",
       "    }\n",
       "\n",
       "    .dataframe tbody tr th {\n",
       "        vertical-align: top;\n",
       "    }\n",
       "\n",
       "    .dataframe thead th {\n",
       "        text-align: right;\n",
       "    }\n",
       "</style>\n",
       "<table border=\"1\" class=\"dataframe\">\n",
       "  <thead>\n",
       "    <tr style=\"text-align: right;\">\n",
       "      <th></th>\n",
       "      <th>index</th>\n",
       "      <th>sentiment</th>\n",
       "      <th>user_id</th>\n",
       "      <th>date</th>\n",
       "      <th>query</th>\n",
       "      <th>user</th>\n",
       "      <th>text</th>\n",
       "    </tr>\n",
       "  </thead>\n",
       "  <tbody>\n",
       "    <tr>\n",
       "      <th>0</th>\n",
       "      <td>4</td>\n",
       "      <td>0</td>\n",
       "      <td>1467811193</td>\n",
       "      <td>Mon Apr 06 22:19:57 PDT 2009</td>\n",
       "      <td>NO_QUERY</td>\n",
       "      <td>Karoli</td>\n",
       "      <td>no not behaving im mad cant see</td>\n",
       "    </tr>\n",
       "    <tr>\n",
       "      <th>1</th>\n",
       "      <td>5</td>\n",
       "      <td>0</td>\n",
       "      <td>1467811372</td>\n",
       "      <td>Mon Apr 06 22:20:00 PDT 2009</td>\n",
       "      <td>NO_QUERY</td>\n",
       "      <td>joy_wolf</td>\n",
       "      <td>not whole crew</td>\n",
       "    </tr>\n",
       "    <tr>\n",
       "      <th>2</th>\n",
       "      <td>7</td>\n",
       "      <td>0</td>\n",
       "      <td>1467811594</td>\n",
       "      <td>Mon Apr 06 22:20:03 PDT 2009</td>\n",
       "      <td>NO_QUERY</td>\n",
       "      <td>coZZ</td>\n",
       "      <td>hey long time no see yes rains bit bit lol im ...</td>\n",
       "    </tr>\n",
       "    <tr>\n",
       "      <th>3</th>\n",
       "      <td>8</td>\n",
       "      <td>0</td>\n",
       "      <td>1467811795</td>\n",
       "      <td>Mon Apr 06 22:20:05 PDT 2009</td>\n",
       "      <td>NO_QUERY</td>\n",
       "      <td>2Hood4Hollywood</td>\n",
       "      <td>nope</td>\n",
       "    </tr>\n",
       "    <tr>\n",
       "      <th>4</th>\n",
       "      <td>10</td>\n",
       "      <td>0</td>\n",
       "      <td>1467812416</td>\n",
       "      <td>Mon Apr 06 22:20:16 PDT 2009</td>\n",
       "      <td>NO_QUERY</td>\n",
       "      <td>erinx3leannexo</td>\n",
       "      <td>spring break plain city snowing</td>\n",
       "    </tr>\n",
       "  </tbody>\n",
       "</table>\n",
       "</div>"
      ],
      "text/plain": [
       "   index  sentiment     user_id                          date     query  \\\n",
       "0      4          0  1467811193  Mon Apr 06 22:19:57 PDT 2009  NO_QUERY   \n",
       "1      5          0  1467811372  Mon Apr 06 22:20:00 PDT 2009  NO_QUERY   \n",
       "2      7          0  1467811594  Mon Apr 06 22:20:03 PDT 2009  NO_QUERY   \n",
       "3      8          0  1467811795  Mon Apr 06 22:20:05 PDT 2009  NO_QUERY   \n",
       "4     10          0  1467812416  Mon Apr 06 22:20:16 PDT 2009  NO_QUERY   \n",
       "\n",
       "              user                                               text  \n",
       "0           Karoli                    no not behaving im mad cant see  \n",
       "1         joy_wolf                                     not whole crew  \n",
       "2             coZZ  hey long time no see yes rains bit bit lol im ...  \n",
       "3  2Hood4Hollywood                                               nope  \n",
       "4   erinx3leannexo                    spring break plain city snowing  "
      ]
     },
     "execution_count": 46,
     "metadata": {},
     "output_type": "execute_result"
    }
   ],
   "source": [
    "df_neg.head()"
   ]
  },
  {
   "cell_type": "code",
   "execution_count": 47,
   "id": "157bbdd3",
   "metadata": {},
   "outputs": [],
   "source": [
    "df_final = df_neg.join(pd.DataFrame(padded))"
   ]
  },
  {
   "cell_type": "code",
   "execution_count": 48,
   "id": "687e0ad6",
   "metadata": {},
   "outputs": [
    {
     "data": {
      "text/html": [
       "<div>\n",
       "<style scoped>\n",
       "    .dataframe tbody tr th:only-of-type {\n",
       "        vertical-align: middle;\n",
       "    }\n",
       "\n",
       "    .dataframe tbody tr th {\n",
       "        vertical-align: top;\n",
       "    }\n",
       "\n",
       "    .dataframe thead th {\n",
       "        text-align: right;\n",
       "    }\n",
       "</style>\n",
       "<table border=\"1\" class=\"dataframe\">\n",
       "  <thead>\n",
       "    <tr style=\"text-align: right;\">\n",
       "      <th></th>\n",
       "      <th>index</th>\n",
       "      <th>sentiment</th>\n",
       "      <th>user_id</th>\n",
       "      <th>date</th>\n",
       "      <th>query</th>\n",
       "      <th>user</th>\n",
       "      <th>text</th>\n",
       "      <th>0</th>\n",
       "      <th>1</th>\n",
       "      <th>2</th>\n",
       "      <th>3</th>\n",
       "      <th>4</th>\n",
       "      <th>5</th>\n",
       "      <th>6</th>\n",
       "      <th>7</th>\n",
       "      <th>8</th>\n",
       "      <th>9</th>\n",
       "      <th>10</th>\n",
       "      <th>11</th>\n",
       "      <th>12</th>\n",
       "      <th>13</th>\n",
       "      <th>14</th>\n",
       "      <th>15</th>\n",
       "      <th>16</th>\n",
       "      <th>17</th>\n",
       "      <th>18</th>\n",
       "      <th>19</th>\n",
       "      <th>20</th>\n",
       "      <th>21</th>\n",
       "      <th>22</th>\n",
       "      <th>23</th>\n",
       "      <th>24</th>\n",
       "      <th>25</th>\n",
       "      <th>26</th>\n",
       "      <th>27</th>\n",
       "      <th>28</th>\n",
       "    </tr>\n",
       "  </thead>\n",
       "  <tbody>\n",
       "    <tr>\n",
       "      <th>0</th>\n",
       "      <td>4</td>\n",
       "      <td>0</td>\n",
       "      <td>1467811193</td>\n",
       "      <td>Mon Apr 06 22:19:57 PDT 2009</td>\n",
       "      <td>NO_QUERY</td>\n",
       "      <td>Karoli</td>\n",
       "      <td>no not behaving im mad cant see</td>\n",
       "      <td>8</td>\n",
       "      <td>3</td>\n",
       "      <td>1</td>\n",
       "      <td>2</td>\n",
       "      <td>506</td>\n",
       "      <td>15</td>\n",
       "      <td>24</td>\n",
       "      <td>0</td>\n",
       "      <td>0</td>\n",
       "      <td>0</td>\n",
       "      <td>0</td>\n",
       "      <td>0</td>\n",
       "      <td>0</td>\n",
       "      <td>0</td>\n",
       "      <td>0</td>\n",
       "      <td>0</td>\n",
       "      <td>0</td>\n",
       "      <td>0</td>\n",
       "      <td>0</td>\n",
       "      <td>0</td>\n",
       "      <td>0</td>\n",
       "      <td>0</td>\n",
       "      <td>0</td>\n",
       "      <td>0</td>\n",
       "      <td>0</td>\n",
       "      <td>0</td>\n",
       "      <td>0</td>\n",
       "      <td>0</td>\n",
       "      <td>0</td>\n",
       "    </tr>\n",
       "    <tr>\n",
       "      <th>1</th>\n",
       "      <td>5</td>\n",
       "      <td>0</td>\n",
       "      <td>1467811372</td>\n",
       "      <td>Mon Apr 06 22:20:00 PDT 2009</td>\n",
       "      <td>NO_QUERY</td>\n",
       "      <td>joy_wolf</td>\n",
       "      <td>not whole crew</td>\n",
       "      <td>3</td>\n",
       "      <td>331</td>\n",
       "      <td>2144</td>\n",
       "      <td>0</td>\n",
       "      <td>0</td>\n",
       "      <td>0</td>\n",
       "      <td>0</td>\n",
       "      <td>0</td>\n",
       "      <td>0</td>\n",
       "      <td>0</td>\n",
       "      <td>0</td>\n",
       "      <td>0</td>\n",
       "      <td>0</td>\n",
       "      <td>0</td>\n",
       "      <td>0</td>\n",
       "      <td>0</td>\n",
       "      <td>0</td>\n",
       "      <td>0</td>\n",
       "      <td>0</td>\n",
       "      <td>0</td>\n",
       "      <td>0</td>\n",
       "      <td>0</td>\n",
       "      <td>0</td>\n",
       "      <td>0</td>\n",
       "      <td>0</td>\n",
       "      <td>0</td>\n",
       "      <td>0</td>\n",
       "      <td>0</td>\n",
       "      <td>0</td>\n",
       "    </tr>\n",
       "    <tr>\n",
       "      <th>2</th>\n",
       "      <td>7</td>\n",
       "      <td>0</td>\n",
       "      <td>1467811594</td>\n",
       "      <td>Mon Apr 06 22:20:03 PDT 2009</td>\n",
       "      <td>NO_QUERY</td>\n",
       "      <td>coZZ</td>\n",
       "      <td>hey long time no see yes rains bit bit lol im ...</td>\n",
       "      <td>84</td>\n",
       "      <td>94</td>\n",
       "      <td>17</td>\n",
       "      <td>8</td>\n",
       "      <td>24</td>\n",
       "      <td>87</td>\n",
       "      <td>2482</td>\n",
       "      <td>166</td>\n",
       "      <td>166</td>\n",
       "      <td>19</td>\n",
       "      <td>2</td>\n",
       "      <td>435</td>\n",
       "      <td>33</td>\n",
       "      <td>716</td>\n",
       "      <td>0</td>\n",
       "      <td>0</td>\n",
       "      <td>0</td>\n",
       "      <td>0</td>\n",
       "      <td>0</td>\n",
       "      <td>0</td>\n",
       "      <td>0</td>\n",
       "      <td>0</td>\n",
       "      <td>0</td>\n",
       "      <td>0</td>\n",
       "      <td>0</td>\n",
       "      <td>0</td>\n",
       "      <td>0</td>\n",
       "      <td>0</td>\n",
       "      <td>0</td>\n",
       "    </tr>\n",
       "    <tr>\n",
       "      <th>3</th>\n",
       "      <td>8</td>\n",
       "      <td>0</td>\n",
       "      <td>1467811795</td>\n",
       "      <td>Mon Apr 06 22:20:05 PDT 2009</td>\n",
       "      <td>NO_QUERY</td>\n",
       "      <td>2Hood4Hollywood</td>\n",
       "      <td>nope</td>\n",
       "      <td>725</td>\n",
       "      <td>0</td>\n",
       "      <td>0</td>\n",
       "      <td>0</td>\n",
       "      <td>0</td>\n",
       "      <td>0</td>\n",
       "      <td>0</td>\n",
       "      <td>0</td>\n",
       "      <td>0</td>\n",
       "      <td>0</td>\n",
       "      <td>0</td>\n",
       "      <td>0</td>\n",
       "      <td>0</td>\n",
       "      <td>0</td>\n",
       "      <td>0</td>\n",
       "      <td>0</td>\n",
       "      <td>0</td>\n",
       "      <td>0</td>\n",
       "      <td>0</td>\n",
       "      <td>0</td>\n",
       "      <td>0</td>\n",
       "      <td>0</td>\n",
       "      <td>0</td>\n",
       "      <td>0</td>\n",
       "      <td>0</td>\n",
       "      <td>0</td>\n",
       "      <td>0</td>\n",
       "      <td>0</td>\n",
       "      <td>0</td>\n",
       "    </tr>\n",
       "    <tr>\n",
       "      <th>4</th>\n",
       "      <td>10</td>\n",
       "      <td>0</td>\n",
       "      <td>1467812416</td>\n",
       "      <td>Mon Apr 06 22:20:16 PDT 2009</td>\n",
       "      <td>NO_QUERY</td>\n",
       "      <td>erinx3leannexo</td>\n",
       "      <td>spring break plain city snowing</td>\n",
       "      <td>1590</td>\n",
       "      <td>439</td>\n",
       "      <td>3080</td>\n",
       "      <td>536</td>\n",
       "      <td>1</td>\n",
       "      <td>0</td>\n",
       "      <td>0</td>\n",
       "      <td>0</td>\n",
       "      <td>0</td>\n",
       "      <td>0</td>\n",
       "      <td>0</td>\n",
       "      <td>0</td>\n",
       "      <td>0</td>\n",
       "      <td>0</td>\n",
       "      <td>0</td>\n",
       "      <td>0</td>\n",
       "      <td>0</td>\n",
       "      <td>0</td>\n",
       "      <td>0</td>\n",
       "      <td>0</td>\n",
       "      <td>0</td>\n",
       "      <td>0</td>\n",
       "      <td>0</td>\n",
       "      <td>0</td>\n",
       "      <td>0</td>\n",
       "      <td>0</td>\n",
       "      <td>0</td>\n",
       "      <td>0</td>\n",
       "      <td>0</td>\n",
       "    </tr>\n",
       "  </tbody>\n",
       "</table>\n",
       "</div>"
      ],
      "text/plain": [
       "   index  sentiment     user_id                          date     query  \\\n",
       "0      4          0  1467811193  Mon Apr 06 22:19:57 PDT 2009  NO_QUERY   \n",
       "1      5          0  1467811372  Mon Apr 06 22:20:00 PDT 2009  NO_QUERY   \n",
       "2      7          0  1467811594  Mon Apr 06 22:20:03 PDT 2009  NO_QUERY   \n",
       "3      8          0  1467811795  Mon Apr 06 22:20:05 PDT 2009  NO_QUERY   \n",
       "4     10          0  1467812416  Mon Apr 06 22:20:16 PDT 2009  NO_QUERY   \n",
       "\n",
       "              user                                               text     0  \\\n",
       "0           Karoli                    no not behaving im mad cant see     8   \n",
       "1         joy_wolf                                     not whole crew     3   \n",
       "2             coZZ  hey long time no see yes rains bit bit lol im ...    84   \n",
       "3  2Hood4Hollywood                                               nope   725   \n",
       "4   erinx3leannexo                    spring break plain city snowing  1590   \n",
       "\n",
       "     1     2    3    4   5     6    7    8   9  10   11  12   13  14  15  16  \\\n",
       "0    3     1    2  506  15    24    0    0   0   0    0   0    0   0   0   0   \n",
       "1  331  2144    0    0   0     0    0    0   0   0    0   0    0   0   0   0   \n",
       "2   94    17    8   24  87  2482  166  166  19   2  435  33  716   0   0   0   \n",
       "3    0     0    0    0   0     0    0    0   0   0    0   0    0   0   0   0   \n",
       "4  439  3080  536    1   0     0    0    0   0   0    0   0    0   0   0   0   \n",
       "\n",
       "   17  18  19  20  21  22  23  24  25  26  27  28  \n",
       "0   0   0   0   0   0   0   0   0   0   0   0   0  \n",
       "1   0   0   0   0   0   0   0   0   0   0   0   0  \n",
       "2   0   0   0   0   0   0   0   0   0   0   0   0  \n",
       "3   0   0   0   0   0   0   0   0   0   0   0   0  \n",
       "4   0   0   0   0   0   0   0   0   0   0   0   0  "
      ]
     },
     "execution_count": 48,
     "metadata": {},
     "output_type": "execute_result"
    }
   ],
   "source": [
    "df_final.head()"
   ]
  },
  {
   "cell_type": "code",
   "execution_count": 49,
   "id": "5322a6b0",
   "metadata": {},
   "outputs": [
    {
     "data": {
      "text/html": [
       "<div>\n",
       "<style scoped>\n",
       "    .dataframe tbody tr th:only-of-type {\n",
       "        vertical-align: middle;\n",
       "    }\n",
       "\n",
       "    .dataframe tbody tr th {\n",
       "        vertical-align: top;\n",
       "    }\n",
       "\n",
       "    .dataframe thead th {\n",
       "        text-align: right;\n",
       "    }\n",
       "</style>\n",
       "<table border=\"1\" class=\"dataframe\">\n",
       "  <thead>\n",
       "    <tr style=\"text-align: right;\">\n",
       "      <th></th>\n",
       "      <th>sentiment</th>\n",
       "      <th>0</th>\n",
       "      <th>1</th>\n",
       "      <th>2</th>\n",
       "      <th>3</th>\n",
       "      <th>4</th>\n",
       "      <th>5</th>\n",
       "      <th>6</th>\n",
       "      <th>7</th>\n",
       "      <th>8</th>\n",
       "      <th>9</th>\n",
       "      <th>10</th>\n",
       "      <th>11</th>\n",
       "      <th>12</th>\n",
       "      <th>13</th>\n",
       "      <th>14</th>\n",
       "      <th>15</th>\n",
       "      <th>16</th>\n",
       "      <th>17</th>\n",
       "      <th>18</th>\n",
       "      <th>19</th>\n",
       "      <th>20</th>\n",
       "      <th>21</th>\n",
       "      <th>22</th>\n",
       "      <th>23</th>\n",
       "      <th>24</th>\n",
       "      <th>25</th>\n",
       "      <th>26</th>\n",
       "      <th>27</th>\n",
       "      <th>28</th>\n",
       "    </tr>\n",
       "  </thead>\n",
       "  <tbody>\n",
       "    <tr>\n",
       "      <th>0</th>\n",
       "      <td>0</td>\n",
       "      <td>8</td>\n",
       "      <td>3</td>\n",
       "      <td>1</td>\n",
       "      <td>2</td>\n",
       "      <td>506</td>\n",
       "      <td>15</td>\n",
       "      <td>24</td>\n",
       "      <td>0</td>\n",
       "      <td>0</td>\n",
       "      <td>0</td>\n",
       "      <td>0</td>\n",
       "      <td>0</td>\n",
       "      <td>0</td>\n",
       "      <td>0</td>\n",
       "      <td>0</td>\n",
       "      <td>0</td>\n",
       "      <td>0</td>\n",
       "      <td>0</td>\n",
       "      <td>0</td>\n",
       "      <td>0</td>\n",
       "      <td>0</td>\n",
       "      <td>0</td>\n",
       "      <td>0</td>\n",
       "      <td>0</td>\n",
       "      <td>0</td>\n",
       "      <td>0</td>\n",
       "      <td>0</td>\n",
       "      <td>0</td>\n",
       "      <td>0</td>\n",
       "    </tr>\n",
       "    <tr>\n",
       "      <th>1</th>\n",
       "      <td>0</td>\n",
       "      <td>3</td>\n",
       "      <td>331</td>\n",
       "      <td>2144</td>\n",
       "      <td>0</td>\n",
       "      <td>0</td>\n",
       "      <td>0</td>\n",
       "      <td>0</td>\n",
       "      <td>0</td>\n",
       "      <td>0</td>\n",
       "      <td>0</td>\n",
       "      <td>0</td>\n",
       "      <td>0</td>\n",
       "      <td>0</td>\n",
       "      <td>0</td>\n",
       "      <td>0</td>\n",
       "      <td>0</td>\n",
       "      <td>0</td>\n",
       "      <td>0</td>\n",
       "      <td>0</td>\n",
       "      <td>0</td>\n",
       "      <td>0</td>\n",
       "      <td>0</td>\n",
       "      <td>0</td>\n",
       "      <td>0</td>\n",
       "      <td>0</td>\n",
       "      <td>0</td>\n",
       "      <td>0</td>\n",
       "      <td>0</td>\n",
       "      <td>0</td>\n",
       "    </tr>\n",
       "    <tr>\n",
       "      <th>2</th>\n",
       "      <td>0</td>\n",
       "      <td>84</td>\n",
       "      <td>94</td>\n",
       "      <td>17</td>\n",
       "      <td>8</td>\n",
       "      <td>24</td>\n",
       "      <td>87</td>\n",
       "      <td>2482</td>\n",
       "      <td>166</td>\n",
       "      <td>166</td>\n",
       "      <td>19</td>\n",
       "      <td>2</td>\n",
       "      <td>435</td>\n",
       "      <td>33</td>\n",
       "      <td>716</td>\n",
       "      <td>0</td>\n",
       "      <td>0</td>\n",
       "      <td>0</td>\n",
       "      <td>0</td>\n",
       "      <td>0</td>\n",
       "      <td>0</td>\n",
       "      <td>0</td>\n",
       "      <td>0</td>\n",
       "      <td>0</td>\n",
       "      <td>0</td>\n",
       "      <td>0</td>\n",
       "      <td>0</td>\n",
       "      <td>0</td>\n",
       "      <td>0</td>\n",
       "      <td>0</td>\n",
       "    </tr>\n",
       "    <tr>\n",
       "      <th>3</th>\n",
       "      <td>0</td>\n",
       "      <td>725</td>\n",
       "      <td>0</td>\n",
       "      <td>0</td>\n",
       "      <td>0</td>\n",
       "      <td>0</td>\n",
       "      <td>0</td>\n",
       "      <td>0</td>\n",
       "      <td>0</td>\n",
       "      <td>0</td>\n",
       "      <td>0</td>\n",
       "      <td>0</td>\n",
       "      <td>0</td>\n",
       "      <td>0</td>\n",
       "      <td>0</td>\n",
       "      <td>0</td>\n",
       "      <td>0</td>\n",
       "      <td>0</td>\n",
       "      <td>0</td>\n",
       "      <td>0</td>\n",
       "      <td>0</td>\n",
       "      <td>0</td>\n",
       "      <td>0</td>\n",
       "      <td>0</td>\n",
       "      <td>0</td>\n",
       "      <td>0</td>\n",
       "      <td>0</td>\n",
       "      <td>0</td>\n",
       "      <td>0</td>\n",
       "      <td>0</td>\n",
       "    </tr>\n",
       "    <tr>\n",
       "      <th>4</th>\n",
       "      <td>0</td>\n",
       "      <td>1590</td>\n",
       "      <td>439</td>\n",
       "      <td>3080</td>\n",
       "      <td>536</td>\n",
       "      <td>1</td>\n",
       "      <td>0</td>\n",
       "      <td>0</td>\n",
       "      <td>0</td>\n",
       "      <td>0</td>\n",
       "      <td>0</td>\n",
       "      <td>0</td>\n",
       "      <td>0</td>\n",
       "      <td>0</td>\n",
       "      <td>0</td>\n",
       "      <td>0</td>\n",
       "      <td>0</td>\n",
       "      <td>0</td>\n",
       "      <td>0</td>\n",
       "      <td>0</td>\n",
       "      <td>0</td>\n",
       "      <td>0</td>\n",
       "      <td>0</td>\n",
       "      <td>0</td>\n",
       "      <td>0</td>\n",
       "      <td>0</td>\n",
       "      <td>0</td>\n",
       "      <td>0</td>\n",
       "      <td>0</td>\n",
       "      <td>0</td>\n",
       "    </tr>\n",
       "  </tbody>\n",
       "</table>\n",
       "</div>"
      ],
      "text/plain": [
       "   sentiment     0    1     2    3    4   5     6    7    8   9  10   11  12  \\\n",
       "0          0     8    3     1    2  506  15    24    0    0   0   0    0   0   \n",
       "1          0     3  331  2144    0    0   0     0    0    0   0   0    0   0   \n",
       "2          0    84   94    17    8   24  87  2482  166  166  19   2  435  33   \n",
       "3          0   725    0     0    0    0   0     0    0    0   0   0    0   0   \n",
       "4          0  1590  439  3080  536    1   0     0    0    0   0   0    0   0   \n",
       "\n",
       "    13  14  15  16  17  18  19  20  21  22  23  24  25  26  27  28  \n",
       "0    0   0   0   0   0   0   0   0   0   0   0   0   0   0   0   0  \n",
       "1    0   0   0   0   0   0   0   0   0   0   0   0   0   0   0   0  \n",
       "2  716   0   0   0   0   0   0   0   0   0   0   0   0   0   0   0  \n",
       "3    0   0   0   0   0   0   0   0   0   0   0   0   0   0   0   0  \n",
       "4    0   0   0   0   0   0   0   0   0   0   0   0   0   0   0   0  "
      ]
     },
     "execution_count": 49,
     "metadata": {},
     "output_type": "execute_result"
    }
   ],
   "source": [
    "df_data = df_final.drop(['index','user_id','date','query','user','text'],axis=1)\n",
    "df_data.head()"
   ]
  },
  {
   "cell_type": "code",
   "execution_count": 50,
   "id": "37e0c874",
   "metadata": {},
   "outputs": [
    {
     "data": {
      "text/plain": [
       "347594"
      ]
     },
     "execution_count": 50,
     "metadata": {},
     "output_type": "execute_result"
    }
   ],
   "source": [
    "len(df_data)"
   ]
  },
  {
   "cell_type": "code",
   "execution_count": 51,
   "id": "b31dc425",
   "metadata": {},
   "outputs": [],
   "source": [
    "df_sample = df_data.sample(frac=0.1,random_state=42)\n",
    "y = df_sample['sentiment']\n",
    "X = df_sample.drop('sentiment',axis=1)\n",
    "\n",
    "X_train, X_test, y_train, y_test = train_test_split(X,y,test_size=0.2)\n",
    "X_train = np.array(X_train)\n",
    "X_test = np.array(X_test)\n",
    "y_train = np.array(y_train).astype('float32').reshape((-1,1))\n",
    "y_test = np.array(y_test).astype('float32').reshape((-1,1))"
   ]
  },
  {
   "cell_type": "code",
   "execution_count": 52,
   "id": "d1b60bdb",
   "metadata": {},
   "outputs": [
    {
     "name": "stdout",
     "output_type": "stream",
     "text": [
      "Metal device set to: Apple M1 Pro\n",
      "Model: \"sequential\"\n",
      "_________________________________________________________________\n",
      " Layer (type)                Output Shape              Param #   \n",
      "=================================================================\n",
      " embedding (Embedding)       (None, 29, 16)            64000     \n",
      "                                                                 \n",
      " global_average_pooling1d (G  (None, 16)               0         \n",
      " lobalAveragePooling1D)                                          \n",
      "                                                                 \n",
      " dense (Dense)               (None, 1)                 17        \n",
      "                                                                 \n",
      "=================================================================\n",
      "Total params: 64,017\n",
      "Trainable params: 64,017\n",
      "Non-trainable params: 0\n",
      "_________________________________________________________________\n"
     ]
    },
    {
     "name": "stderr",
     "output_type": "stream",
     "text": [
      "2023-01-28 14:22:44.767385: I tensorflow/core/common_runtime/pluggable_device/pluggable_device_factory.cc:305] Could not identify NUMA node of platform GPU ID 0, defaulting to 0. Your kernel may not have been built with NUMA support.\n",
      "2023-01-28 14:22:44.768882: I tensorflow/core/common_runtime/pluggable_device/pluggable_device_factory.cc:271] Created TensorFlow device (/job:localhost/replica:0/task:0/device:GPU:0 with 0 MB memory) -> physical PluggableDevice (device: 0, name: METAL, pci bus id: <undefined>)\n"
     ]
    }
   ],
   "source": [
    "num_epochs = 20\n",
    "model = tf.keras.Sequential([\n",
    "    tf.keras.layers.Embedding(vocab_size, embedding_dim, input_length=max_length),\n",
    "    tf.keras.layers.GlobalAveragePooling1D(),  \n",
    "    tf.keras.layers.Dense(1, activation='sigmoid')\n",
    "])\n",
    "model.compile(loss='binary_crossentropy',optimizer='adam',metrics=['accuracy'])\n",
    "model.summary()\n",
    "# learning_rate = 0.0001\n",
    "# model.compile(loss='binary_crossentropy',\n",
    "#                   optimizer=tf.keras.optimizers.Adam(learning_rate), \n",
    "#                   metrics=['accuracy'])\n",
    "\n",
    "# fit_model_and_show_results(model)"
   ]
  },
  {
   "cell_type": "markdown",
   "id": "a23d8620",
   "metadata": {},
   "source": [
    "# Testing New Models"
   ]
  },
  {
   "cell_type": "code",
   "execution_count": 76,
   "id": "f988ed24",
   "metadata": {
    "scrolled": true
   },
   "outputs": [
    {
     "name": "stdout",
     "output_type": "stream",
     "text": [
      "Epoch 1/100\n"
     ]
    },
    {
     "name": "stderr",
     "output_type": "stream",
     "text": [
      "2023-01-28 15:31:27.461035: I tensorflow/core/grappler/optimizers/custom_graph_optimizer_registry.cc:113] Plugin optimizer for device_type GPU is enabled.\n"
     ]
    },
    {
     "name": "stdout",
     "output_type": "stream",
     "text": [
      "869/869 [==============================] - 11s 12ms/step - loss: 0.4341 - accuracy: 0.7999 - lr: 1.0000e-06\n",
      "Epoch 2/100\n",
      "869/869 [==============================] - 8s 9ms/step - loss: 0.4341 - accuracy: 0.7997 - lr: 1.1659e-06\n",
      "Epoch 3/100\n",
      "869/869 [==============================] - 7s 9ms/step - loss: 0.4341 - accuracy: 0.7996 - lr: 1.3594e-06\n",
      "Epoch 4/100\n",
      "869/869 [==============================] - 7s 8ms/step - loss: 0.4341 - accuracy: 0.7996 - lr: 1.5849e-06\n",
      "Epoch 5/100\n",
      "869/869 [==============================] - 7s 9ms/step - loss: 0.4341 - accuracy: 0.7998 - lr: 1.8478e-06\n",
      "Epoch 6/100\n",
      "869/869 [==============================] - 7s 9ms/step - loss: 0.4341 - accuracy: 0.7999 - lr: 2.1544e-06\n",
      "Epoch 7/100\n",
      "869/869 [==============================] - 7s 9ms/step - loss: 0.4341 - accuracy: 0.7998 - lr: 2.5119e-06\n",
      "Epoch 8/100\n",
      "869/869 [==============================] - 7s 8ms/step - loss: 0.4341 - accuracy: 0.7999 - lr: 2.9286e-06\n",
      "Epoch 9/100\n",
      "869/869 [==============================] - 7s 8ms/step - loss: 0.4340 - accuracy: 0.7999 - lr: 3.4145e-06\n",
      "Epoch 10/100\n",
      "869/869 [==============================] - 7s 9ms/step - loss: 0.4340 - accuracy: 0.7999 - lr: 3.9811e-06\n",
      "Epoch 11/100\n",
      "869/869 [==============================] - 7s 8ms/step - loss: 0.4340 - accuracy: 0.7998 - lr: 4.6416e-06\n",
      "Epoch 12/100\n",
      "869/869 [==============================] - 7s 8ms/step - loss: 0.4340 - accuracy: 0.7999 - lr: 5.4117e-06\n",
      "Epoch 13/100\n",
      "869/869 [==============================] - 7s 8ms/step - loss: 0.4340 - accuracy: 0.8000 - lr: 6.3096e-06\n",
      "Epoch 14/100\n",
      "869/869 [==============================] - 7s 8ms/step - loss: 0.4340 - accuracy: 0.7997 - lr: 7.3564e-06\n",
      "Epoch 15/100\n",
      "869/869 [==============================] - 7s 8ms/step - loss: 0.4340 - accuracy: 0.7994 - lr: 8.5770e-06\n",
      "Epoch 16/100\n",
      "869/869 [==============================] - 7s 8ms/step - loss: 0.4340 - accuracy: 0.8000 - lr: 1.0000e-05\n",
      "Epoch 17/100\n",
      "869/869 [==============================] - 7s 8ms/step - loss: 0.4340 - accuracy: 0.7999 - lr: 1.1659e-05\n",
      "Epoch 18/100\n",
      "869/869 [==============================] - 7s 8ms/step - loss: 0.4340 - accuracy: 0.7999 - lr: 1.3594e-05\n",
      "Epoch 19/100\n",
      "869/869 [==============================] - 7s 9ms/step - loss: 0.4340 - accuracy: 0.8000 - lr: 1.5849e-05\n",
      "Epoch 20/100\n",
      "869/869 [==============================] - 8s 9ms/step - loss: 0.4340 - accuracy: 0.7998 - lr: 1.8478e-05\n",
      "Epoch 21/100\n",
      "869/869 [==============================] - 7s 8ms/step - loss: 0.4340 - accuracy: 0.7998 - lr: 2.1544e-05\n",
      "Epoch 22/100\n",
      "869/869 [==============================] - 7s 8ms/step - loss: 0.4340 - accuracy: 0.7994 - lr: 2.5119e-05\n",
      "Epoch 23/100\n",
      "869/869 [==============================] - 7s 9ms/step - loss: 0.4340 - accuracy: 0.7999 - lr: 2.9286e-05\n",
      "Epoch 24/100\n",
      "869/869 [==============================] - 7s 9ms/step - loss: 0.4340 - accuracy: 0.7999 - lr: 3.4145e-05\n",
      "Epoch 25/100\n",
      "869/869 [==============================] - 7s 8ms/step - loss: 0.4340 - accuracy: 0.7995 - lr: 3.9811e-05\n",
      "Epoch 26/100\n",
      "869/869 [==============================] - 7s 9ms/step - loss: 0.4339 - accuracy: 0.7996 - lr: 4.6416e-05\n",
      "Epoch 27/100\n",
      "869/869 [==============================] - 7s 9ms/step - loss: 0.4340 - accuracy: 0.7993 - lr: 5.4117e-05\n",
      "Epoch 28/100\n",
      "869/869 [==============================] - 7s 8ms/step - loss: 0.4339 - accuracy: 0.7994 - lr: 6.3096e-05\n",
      "Epoch 29/100\n",
      "869/869 [==============================] - 7s 8ms/step - loss: 0.4340 - accuracy: 0.7988 - lr: 7.3564e-05\n",
      "Epoch 30/100\n",
      "869/869 [==============================] - 7s 8ms/step - loss: 0.4339 - accuracy: 0.7989 - lr: 8.5770e-05\n",
      "Epoch 31/100\n",
      "869/869 [==============================] - 7s 8ms/step - loss: 0.4340 - accuracy: 0.7990 - lr: 1.0000e-04\n",
      "Epoch 32/100\n",
      "869/869 [==============================] - 7s 8ms/step - loss: 0.4340 - accuracy: 0.7992 - lr: 1.1659e-04\n",
      "Epoch 33/100\n",
      "869/869 [==============================] - 7s 8ms/step - loss: 0.4340 - accuracy: 0.7992 - lr: 1.3594e-04\n",
      "Epoch 34/100\n",
      "869/869 [==============================] - 7s 8ms/step - loss: 0.4341 - accuracy: 0.7991 - lr: 1.5849e-04\n",
      "Epoch 35/100\n",
      "869/869 [==============================] - 7s 8ms/step - loss: 0.4341 - accuracy: 0.7998 - lr: 1.8478e-04\n",
      "Epoch 36/100\n",
      "869/869 [==============================] - 7s 8ms/step - loss: 0.4343 - accuracy: 0.7989 - lr: 2.1544e-04\n",
      "Epoch 37/100\n",
      "869/869 [==============================] - 7s 9ms/step - loss: 0.4345 - accuracy: 0.7979 - lr: 2.5119e-04\n",
      "Epoch 38/100\n",
      "869/869 [==============================] - 7s 8ms/step - loss: 0.4347 - accuracy: 0.7988 - lr: 2.9286e-04\n",
      "Epoch 39/100\n",
      "869/869 [==============================] - 7s 8ms/step - loss: 0.4350 - accuracy: 0.7988 - lr: 3.4145e-04\n",
      "Epoch 40/100\n",
      "869/869 [==============================] - 7s 8ms/step - loss: 0.4352 - accuracy: 0.7981 - lr: 3.9811e-04\n",
      "Epoch 41/100\n",
      "869/869 [==============================] - 7s 8ms/step - loss: 0.4357 - accuracy: 0.7971 - lr: 4.6416e-04\n",
      "Epoch 42/100\n",
      "869/869 [==============================] - 7s 8ms/step - loss: 0.4361 - accuracy: 0.7972 - lr: 5.4117e-04\n",
      "Epoch 43/100\n",
      "869/869 [==============================] - 7s 8ms/step - loss: 0.4369 - accuracy: 0.7984 - lr: 6.3096e-04\n",
      "Epoch 44/100\n",
      "869/869 [==============================] - 7s 8ms/step - loss: 0.4375 - accuracy: 0.7966 - lr: 7.3564e-04\n",
      "Epoch 45/100\n",
      "869/869 [==============================] - 7s 8ms/step - loss: 0.4382 - accuracy: 0.7963 - lr: 8.5770e-04\n",
      "Epoch 46/100\n",
      "869/869 [==============================] - 7s 8ms/step - loss: 0.4393 - accuracy: 0.7954 - lr: 0.0010\n",
      "Epoch 47/100\n",
      "869/869 [==============================] - 7s 9ms/step - loss: 0.4404 - accuracy: 0.7945 - lr: 0.0012\n",
      "Epoch 48/100\n",
      "869/869 [==============================] - 7s 8ms/step - loss: 0.4417 - accuracy: 0.7944 - lr: 0.0014\n",
      "Epoch 49/100\n",
      "869/869 [==============================] - 7s 8ms/step - loss: 0.4436 - accuracy: 0.7931 - lr: 0.0016\n",
      "Epoch 50/100\n",
      "869/869 [==============================] - 8s 9ms/step - loss: 0.4453 - accuracy: 0.7920 - lr: 0.0018\n",
      "Epoch 51/100\n",
      "869/869 [==============================] - 7s 8ms/step - loss: 0.4467 - accuracy: 0.7911 - lr: 0.0022\n",
      "Epoch 52/100\n",
      "869/869 [==============================] - 7s 9ms/step - loss: 0.4487 - accuracy: 0.7885 - lr: 0.0025\n",
      "Epoch 53/100\n",
      "869/869 [==============================] - 7s 8ms/step - loss: 0.4512 - accuracy: 0.7882 - lr: 0.0029\n",
      "Epoch 54/100\n",
      "869/869 [==============================] - 7s 9ms/step - loss: 0.4537 - accuracy: 0.7844 - lr: 0.0034\n",
      "Epoch 55/100\n",
      "869/869 [==============================] - 7s 8ms/step - loss: 0.4563 - accuracy: 0.7831 - lr: 0.0040\n",
      "Epoch 56/100\n",
      "869/869 [==============================] - 7s 8ms/step - loss: 0.4581 - accuracy: 0.7848 - lr: 0.0046\n",
      "Epoch 57/100\n",
      "869/869 [==============================] - 7s 8ms/step - loss: 0.4614 - accuracy: 0.7812 - lr: 0.0054\n",
      "Epoch 58/100\n",
      "869/869 [==============================] - 7s 9ms/step - loss: 0.4629 - accuracy: 0.7808 - lr: 0.0063\n",
      "Epoch 59/100\n",
      "869/869 [==============================] - 7s 9ms/step - loss: 0.4656 - accuracy: 0.7772 - lr: 0.0074\n",
      "Epoch 60/100\n",
      "869/869 [==============================] - 7s 9ms/step - loss: 0.4681 - accuracy: 0.7747 - lr: 0.0086\n",
      "Epoch 61/100\n",
      "869/869 [==============================] - 7s 9ms/step - loss: 0.4692 - accuracy: 0.7756 - lr: 0.0100\n",
      "Epoch 62/100\n",
      "869/869 [==============================] - 7s 9ms/step - loss: 0.4718 - accuracy: 0.7742 - lr: 0.0117\n",
      "Epoch 63/100\n",
      "869/869 [==============================] - 7s 9ms/step - loss: 0.4734 - accuracy: 0.7726 - lr: 0.0136\n",
      "Epoch 64/100\n",
      "869/869 [==============================] - 7s 9ms/step - loss: 0.4753 - accuracy: 0.7721 - lr: 0.0158\n",
      "Epoch 65/100\n",
      "869/869 [==============================] - 7s 9ms/step - loss: 0.4755 - accuracy: 0.7719 - lr: 0.0185\n",
      "Epoch 66/100\n",
      "869/869 [==============================] - 7s 8ms/step - loss: 0.4763 - accuracy: 0.7724 - lr: 0.0215\n",
      "Epoch 67/100\n",
      "869/869 [==============================] - 7s 8ms/step - loss: 0.4772 - accuracy: 0.7706 - lr: 0.0251\n",
      "Epoch 68/100\n",
      "869/869 [==============================] - 7s 9ms/step - loss: 0.4795 - accuracy: 0.7701 - lr: 0.0293\n",
      "Epoch 69/100\n",
      "869/869 [==============================] - 7s 8ms/step - loss: 0.4795 - accuracy: 0.7680 - lr: 0.0341\n",
      "Epoch 70/100\n"
     ]
    },
    {
     "name": "stdout",
     "output_type": "stream",
     "text": [
      "869/869 [==============================] - 7s 8ms/step - loss: 0.4815 - accuracy: 0.7679 - lr: 0.0398\n",
      "Epoch 71/100\n",
      "869/869 [==============================] - 7s 8ms/step - loss: 0.4816 - accuracy: 0.7691 - lr: 0.0464\n",
      "Epoch 72/100\n",
      "869/869 [==============================] - 7s 8ms/step - loss: 0.4849 - accuracy: 0.7675 - lr: 0.0541\n",
      "Epoch 73/100\n",
      "869/869 [==============================] - 7s 8ms/step - loss: 0.4858 - accuracy: 0.7654 - lr: 0.0631\n",
      "Epoch 74/100\n",
      "869/869 [==============================] - 7s 8ms/step - loss: 0.4880 - accuracy: 0.7653 - lr: 0.0736\n",
      "Epoch 75/100\n",
      "869/869 [==============================] - 7s 8ms/step - loss: 0.4882 - accuracy: 0.7661 - lr: 0.0858\n",
      "Epoch 76/100\n",
      "869/869 [==============================] - 7s 8ms/step - loss: 0.4939 - accuracy: 0.7665 - lr: 0.1000\n",
      "Epoch 77/100\n",
      "869/869 [==============================] - 7s 8ms/step - loss: 0.4949 - accuracy: 0.7637 - lr: 0.1166\n",
      "Epoch 78/100\n",
      "869/869 [==============================] - 7s 8ms/step - loss: 0.5033 - accuracy: 0.7583 - lr: 0.1359\n",
      "Epoch 79/100\n",
      "869/869 [==============================] - 7s 8ms/step - loss: 0.5088 - accuracy: 0.7572 - lr: 0.1585\n",
      "Epoch 80/100\n",
      "869/869 [==============================] - 7s 8ms/step - loss: 0.5259 - accuracy: 0.7479 - lr: 0.1848\n",
      "Epoch 81/100\n",
      "869/869 [==============================] - 7s 8ms/step - loss: 0.5435 - accuracy: 0.7418 - lr: 0.2154\n",
      "Epoch 82/100\n",
      "869/869 [==============================] - 7s 8ms/step - loss: 0.5502 - accuracy: 0.7408 - lr: 0.2512\n",
      "Epoch 83/100\n",
      "869/869 [==============================] - 7s 8ms/step - loss: 0.5704 - accuracy: 0.7358 - lr: 0.2929\n",
      "Epoch 84/100\n",
      "869/869 [==============================] - 7s 8ms/step - loss: 0.6334 - accuracy: 0.7192 - lr: 0.3415\n",
      "Epoch 85/100\n",
      "869/869 [==============================] - 7s 8ms/step - loss: 0.6870 - accuracy: 0.7136 - lr: 0.3981\n",
      "Epoch 86/100\n",
      "869/869 [==============================] - 7s 8ms/step - loss: 0.7245 - accuracy: 0.7084 - lr: 0.4642\n",
      "Epoch 87/100\n",
      "869/869 [==============================] - 7s 8ms/step - loss: 0.9297 - accuracy: 0.6896 - lr: 0.5412\n",
      "Epoch 88/100\n",
      "869/869 [==============================] - 7s 8ms/step - loss: 0.9830 - accuracy: 0.6935 - lr: 0.6310\n",
      "Epoch 89/100\n",
      "869/869 [==============================] - 7s 8ms/step - loss: 1.3408 - accuracy: 0.6807 - lr: 0.7356\n",
      "Epoch 90/100\n",
      "869/869 [==============================] - 7s 8ms/step - loss: 1.6154 - accuracy: 0.6749 - lr: 0.8577\n",
      "Epoch 91/100\n",
      "869/869 [==============================] - 7s 8ms/step - loss: 2.1458 - accuracy: 0.6784 - lr: 1.0000\n",
      "Epoch 92/100\n",
      "869/869 [==============================] - 7s 8ms/step - loss: 2.6047 - accuracy: 0.6755 - lr: 1.1659\n",
      "Epoch 93/100\n",
      "869/869 [==============================] - 7s 8ms/step - loss: 3.8865 - accuracy: 0.6702 - lr: 1.3594\n",
      "Epoch 94/100\n",
      "869/869 [==============================] - 7s 8ms/step - loss: 5.2108 - accuracy: 0.6683 - lr: 1.5849\n",
      "Epoch 95/100\n",
      "869/869 [==============================] - 7s 8ms/step - loss: 7.0123 - accuracy: 0.6712 - lr: 1.8478\n",
      "Epoch 96/100\n",
      "869/869 [==============================] - 7s 8ms/step - loss: 9.2859 - accuracy: 0.6684 - lr: 2.1544\n",
      "Epoch 97/100\n",
      "869/869 [==============================] - 7s 8ms/step - loss: 13.1954 - accuracy: 0.6707 - lr: 2.5119\n",
      "Epoch 98/100\n",
      "869/869 [==============================] - 7s 8ms/step - loss: 16.5805 - accuracy: 0.6709 - lr: 2.9286\n",
      "Epoch 99/100\n",
      "869/869 [==============================] - 7s 8ms/step - loss: 24.5161 - accuracy: 0.6677 - lr: 3.4145\n",
      "Epoch 100/100\n",
      "869/869 [==============================] - 7s 8ms/step - loss: 35.5293 - accuracy: 0.6671 - lr: 3.9811\n"
     ]
    },
    {
     "data": {
      "image/png": "[encoded data removed]",
      "text/plain": [
       "<Figure size 432x288 with 1 Axes>"
      ]
     },
     "metadata": {
      "needs_background": "light"
     },
     "output_type": "display_data"
    },
    {
     "data": {
      "text/plain": [
       "<keras.callbacks.History at 0x3458d70a0>"
      ]
     },
     "execution_count": 76,
     "metadata": {},
     "output_type": "execute_result"
    }
   ],
   "source": [
    "determine_lr(model,'Model',1e-6)"
   ]
  },
  {
   "cell_type": "code",
   "execution_count": 54,
   "id": "08858cc4",
   "metadata": {
    "scrolled": true
   },
   "outputs": [
    {
     "name": "stdout",
     "output_type": "stream",
     "text": [
      "Epoch 1/20\n"
     ]
    },
    {
     "name": "stderr",
     "output_type": "stream",
     "text": [
      "2023-01-28 14:23:06.119486: W tensorflow/core/platform/profile_utils/cpu_utils.cc:128] Failed to get CPU frequency: 0 Hz\n",
      "2023-01-28 14:23:06.313917: I tensorflow/core/grappler/optimizers/custom_graph_optimizer_registry.cc:113] Plugin optimizer for device_type GPU is enabled.\n"
     ]
    },
    {
     "name": "stdout",
     "output_type": "stream",
     "text": [
      "869/869 [==============================] - ETA: 0s - loss: 0.6537 - accuracy: 0.6187"
     ]
    },
    {
     "name": "stderr",
     "output_type": "stream",
     "text": [
      "2023-01-28 14:23:14.805888: I tensorflow/core/grappler/optimizers/custom_graph_optimizer_registry.cc:113] Plugin optimizer for device_type GPU is enabled.\n"
     ]
    },
    {
     "name": "stdout",
     "output_type": "stream",
     "text": [
      "869/869 [==============================] - 9s 10ms/step - loss: 0.6537 - accuracy: 0.6187 - val_loss: 0.6310 - val_accuracy: 0.6285\n",
      "Epoch 2/20\n",
      "869/869 [==============================] - 8s 9ms/step - loss: 0.6006 - accuracy: 0.6751 - val_loss: 0.5806 - val_accuracy: 0.7027\n",
      "Epoch 3/20\n",
      "869/869 [==============================] - 8s 9ms/step - loss: 0.5515 - accuracy: 0.7285 - val_loss: 0.5546 - val_accuracy: 0.7173\n",
      "Epoch 4/20\n",
      "869/869 [==============================] - 8s 9ms/step - loss: 0.5224 - accuracy: 0.7477 - val_loss: 0.5446 - val_accuracy: 0.7267\n",
      "Epoch 5/20\n",
      "869/869 [==============================] - 8s 10ms/step - loss: 0.5043 - accuracy: 0.7607 - val_loss: 0.5421 - val_accuracy: 0.7266\n",
      "Epoch 6/20\n",
      "869/869 [==============================] - 8s 10ms/step - loss: 0.4919 - accuracy: 0.7690 - val_loss: 0.5430 - val_accuracy: 0.7268\n",
      "Epoch 7/20\n",
      "869/869 [==============================] - 8s 10ms/step - loss: 0.4836 - accuracy: 0.7725 - val_loss: 0.5451 - val_accuracy: 0.7281\n",
      "Epoch 8/20\n",
      "869/869 [==============================] - 9s 10ms/step - loss: 0.4771 - accuracy: 0.7773 - val_loss: 0.5499 - val_accuracy: 0.7251\n",
      "Epoch 9/20\n",
      "869/869 [==============================] - 9s 10ms/step - loss: 0.4719 - accuracy: 0.7803 - val_loss: 0.5543 - val_accuracy: 0.7221\n",
      "Epoch 10/20\n",
      "869/869 [==============================] - 9s 10ms/step - loss: 0.4678 - accuracy: 0.7825 - val_loss: 0.5575 - val_accuracy: 0.7254\n",
      "Epoch 11/20\n",
      "869/869 [==============================] - 8s 10ms/step - loss: 0.4642 - accuracy: 0.7822 - val_loss: 0.5661 - val_accuracy: 0.7202\n",
      "Epoch 12/20\n",
      "869/869 [==============================] - 8s 10ms/step - loss: 0.4612 - accuracy: 0.7860 - val_loss: 0.5670 - val_accuracy: 0.7231\n",
      "Epoch 13/20\n",
      "869/869 [==============================] - 8s 10ms/step - loss: 0.4590 - accuracy: 0.7866 - val_loss: 0.5714 - val_accuracy: 0.7194\n",
      "Epoch 14/20\n",
      "869/869 [==============================] - 8s 9ms/step - loss: 0.4567 - accuracy: 0.7886 - val_loss: 0.5759 - val_accuracy: 0.7182\n",
      "Epoch 15/20\n",
      "869/869 [==============================] - 8s 9ms/step - loss: 0.4549 - accuracy: 0.7892 - val_loss: 0.5800 - val_accuracy: 0.7182\n",
      "Epoch 16/20\n",
      "869/869 [==============================] - 8s 9ms/step - loss: 0.4533 - accuracy: 0.7896 - val_loss: 0.5841 - val_accuracy: 0.7163\n",
      "Epoch 17/20\n",
      "869/869 [==============================] - 8s 10ms/step - loss: 0.4521 - accuracy: 0.7904 - val_loss: 0.5889 - val_accuracy: 0.7142\n",
      "Epoch 18/20\n",
      "869/869 [==============================] - 8s 9ms/step - loss: 0.4508 - accuracy: 0.7903 - val_loss: 0.6004 - val_accuracy: 0.7073\n",
      "Epoch 19/20\n",
      "869/869 [==============================] - 8s 9ms/step - loss: 0.4497 - accuracy: 0.7904 - val_loss: 0.5948 - val_accuracy: 0.7135\n",
      "Epoch 20/20\n",
      "869/869 [==============================] - 8s 9ms/step - loss: 0.4488 - accuracy: 0.7910 - val_loss: 0.5979 - val_accuracy: 0.7136\n"
     ]
    }
   ],
   "source": [
    "\n",
    "history = model.fit(X_train, y_train, epochs=num_epochs, \n",
    "                    validation_data=(X_test, y_test))\n"
   ]
  },
  {
   "cell_type": "code",
   "execution_count": 57,
   "id": "62845f43",
   "metadata": {},
   "outputs": [
    {
     "data": {
      "image/png": "[encoded data removed]",
      "text/plain": [
       "<Figure size 432x288 with 1 Axes>"
      ]
     },
     "metadata": {
      "needs_background": "light"
     },
     "output_type": "display_data"
    },
    {
     "data": {
      "image/png": "[encoded data removed]",
      "text/plain": [
       "<Figure size 432x288 with 1 Axes>"
      ]
     },
     "metadata": {
      "needs_background": "light"
     },
     "output_type": "display_data"
    }
   ],
   "source": [
    "plot_graphs(history, \"accuracy\")\n",
    "plot_graphs(history, \"loss\")"
   ]
  },
  {
   "cell_type": "code",
   "execution_count": 63,
   "id": "3ee8ece4",
   "metadata": {},
   "outputs": [],
   "source": [
    "def fit_model_and_show_results(model):\n",
    "    model.summary()\n",
    "    history = model.fit(X_train, y_train, epochs=num_epochs, \n",
    "                      validation_data=(X_test, y_test))\n",
    "    plot_graphs(history, \"accuracy\")\n",
    "    plot_graphs(history, \"loss\")"
   ]
  },
  {
   "cell_type": "code",
   "execution_count": 64,
   "id": "54c48543",
   "metadata": {},
   "outputs": [
    {
     "name": "stdout",
     "output_type": "stream",
     "text": [
      "Model: \"sequential_4\"\n",
      "_________________________________________________________________\n",
      " Layer (type)                Output Shape              Param #   \n",
      "=================================================================\n",
      " embedding_4 (Embedding)     (None, 29, 16)            64000     \n",
      "                                                                 \n",
      " conv1d_3 (Conv1D)           (None, 25, 16)            1296      \n",
      "                                                                 \n",
      " global_max_pooling1d_3 (Glo  (None, 16)               0         \n",
      " balMaxPooling1D)                                                \n",
      "                                                                 \n",
      " dense_4 (Dense)             (None, 1)                 17        \n",
      "                                                                 \n",
      "=================================================================\n",
      "Total params: 65,313\n",
      "Trainable params: 65,313\n",
      "Non-trainable params: 0\n",
      "_________________________________________________________________\n",
      "Epoch 1/30\n"
     ]
    },
    {
     "name": "stderr",
     "output_type": "stream",
     "text": [
      "2023-01-28 14:27:50.020359: I tensorflow/core/grappler/optimizers/custom_graph_optimizer_registry.cc:113] Plugin optimizer for device_type GPU is enabled.\n"
     ]
    },
    {
     "name": "stdout",
     "output_type": "stream",
     "text": [
      "869/869 [==============================] - ETA: 0s - loss: 0.6717 - accuracy: 0.6147"
     ]
    },
    {
     "name": "stderr",
     "output_type": "stream",
     "text": [
      "2023-01-28 14:27:59.970736: I tensorflow/core/grappler/optimizers/custom_graph_optimizer_registry.cc:113] Plugin optimizer for device_type GPU is enabled.\n"
     ]
    },
    {
     "name": "stdout",
     "output_type": "stream",
     "text": [
      "869/869 [==============================] - 11s 12ms/step - loss: 0.6717 - accuracy: 0.6147 - val_loss: 0.6613 - val_accuracy: 0.6192\n",
      "Epoch 2/30\n",
      "869/869 [==============================] - 9s 10ms/step - loss: 0.6561 - accuracy: 0.6178 - val_loss: 0.6492 - val_accuracy: 0.6192\n",
      "Epoch 3/30\n",
      "869/869 [==============================] - 8s 10ms/step - loss: 0.6365 - accuracy: 0.6218 - val_loss: 0.6267 - val_accuracy: 0.6405\n",
      "Epoch 4/30\n",
      "869/869 [==============================] - 9s 10ms/step - loss: 0.6080 - accuracy: 0.6775 - val_loss: 0.6005 - val_accuracy: 0.6890\n",
      "Epoch 5/30\n",
      "869/869 [==============================] - 9s 10ms/step - loss: 0.5759 - accuracy: 0.7181 - val_loss: 0.5758 - val_accuracy: 0.7073\n",
      "Epoch 6/30\n",
      "869/869 [==============================] - 8s 9ms/step - loss: 0.5459 - accuracy: 0.7384 - val_loss: 0.5572 - val_accuracy: 0.7165\n",
      "Epoch 7/30\n",
      "869/869 [==============================] - 8s 9ms/step - loss: 0.5217 - accuracy: 0.7539 - val_loss: 0.5461 - val_accuracy: 0.7248\n",
      "Epoch 8/30\n",
      "869/869 [==============================] - 8s 10ms/step - loss: 0.5028 - accuracy: 0.7649 - val_loss: 0.5392 - val_accuracy: 0.7273\n",
      "Epoch 9/30\n",
      "869/869 [==============================] - 8s 10ms/step - loss: 0.4878 - accuracy: 0.7740 - val_loss: 0.5362 - val_accuracy: 0.7266\n",
      "Epoch 10/30\n",
      "869/869 [==============================] - 8s 9ms/step - loss: 0.4756 - accuracy: 0.7810 - val_loss: 0.5354 - val_accuracy: 0.7281\n",
      "Epoch 11/30\n",
      "869/869 [==============================] - 8s 9ms/step - loss: 0.4650 - accuracy: 0.7871 - val_loss: 0.5362 - val_accuracy: 0.7278\n",
      "Epoch 12/30\n",
      "869/869 [==============================] - 9s 10ms/step - loss: 0.4557 - accuracy: 0.7938 - val_loss: 0.5375 - val_accuracy: 0.7291\n",
      "Epoch 13/30\n",
      "869/869 [==============================] - 9s 11ms/step - loss: 0.4476 - accuracy: 0.7974 - val_loss: 0.5398 - val_accuracy: 0.7268\n",
      "Epoch 14/30\n",
      "869/869 [==============================] - 10s 11ms/step - loss: 0.4400 - accuracy: 0.8010 - val_loss: 0.5426 - val_accuracy: 0.7274\n",
      "Epoch 15/30\n",
      "869/869 [==============================] - 11s 13ms/step - loss: 0.4329 - accuracy: 0.8047 - val_loss: 0.5457 - val_accuracy: 0.7251\n",
      "Epoch 16/30\n",
      "869/869 [==============================] - 8s 10ms/step - loss: 0.4263 - accuracy: 0.8086 - val_loss: 0.5491 - val_accuracy: 0.7268\n",
      "Epoch 17/30\n",
      "869/869 [==============================] - 8s 9ms/step - loss: 0.4200 - accuracy: 0.8130 - val_loss: 0.5530 - val_accuracy: 0.7258\n",
      "Epoch 18/30\n",
      "869/869 [==============================] - 8s 10ms/step - loss: 0.4137 - accuracy: 0.8161 - val_loss: 0.5575 - val_accuracy: 0.7257\n",
      "Epoch 19/30\n",
      "869/869 [==============================] - 8s 10ms/step - loss: 0.4078 - accuracy: 0.8196 - val_loss: 0.5613 - val_accuracy: 0.7270\n",
      "Epoch 20/30\n",
      "869/869 [==============================] - 9s 10ms/step - loss: 0.4022 - accuracy: 0.8223 - val_loss: 0.5657 - val_accuracy: 0.7261\n",
      "Epoch 21/30\n",
      "869/869 [==============================] - 9s 11ms/step - loss: 0.3966 - accuracy: 0.8258 - val_loss: 0.5706 - val_accuracy: 0.7260\n",
      "Epoch 22/30\n",
      "869/869 [==============================] - 9s 11ms/step - loss: 0.3911 - accuracy: 0.8298 - val_loss: 0.5759 - val_accuracy: 0.7257\n",
      "Epoch 23/30\n",
      "869/869 [==============================] - 9s 10ms/step - loss: 0.3858 - accuracy: 0.8319 - val_loss: 0.5805 - val_accuracy: 0.7245\n",
      "Epoch 24/30\n",
      "869/869 [==============================] - 9s 10ms/step - loss: 0.3803 - accuracy: 0.8351 - val_loss: 0.5865 - val_accuracy: 0.7230\n",
      "Epoch 25/30\n",
      "869/869 [==============================] - 8s 9ms/step - loss: 0.3751 - accuracy: 0.8381 - val_loss: 0.5911 - val_accuracy: 0.7221\n",
      "Epoch 26/30\n",
      "869/869 [==============================] - 8s 10ms/step - loss: 0.3699 - accuracy: 0.8417 - val_loss: 0.5969 - val_accuracy: 0.7199\n",
      "Epoch 27/30\n",
      "869/869 [==============================] - 8s 10ms/step - loss: 0.3647 - accuracy: 0.8447 - val_loss: 0.6026 - val_accuracy: 0.7222\n",
      "Epoch 28/30\n",
      "869/869 [==============================] - 8s 9ms/step - loss: 0.3595 - accuracy: 0.8478 - val_loss: 0.6089 - val_accuracy: 0.7198\n",
      "Epoch 29/30\n",
      "869/869 [==============================] - 8s 9ms/step - loss: 0.3542 - accuracy: 0.8522 - val_loss: 0.6141 - val_accuracy: 0.7198\n",
      "Epoch 30/30\n",
      "869/869 [==============================] - 8s 10ms/step - loss: 0.3489 - accuracy: 0.8534 - val_loss: 0.6202 - val_accuracy: 0.7207\n"
     ]
    },
    {
     "data": {
      "image/png": "[encoded data removed]",
      "text/plain": [
       "<Figure size 432x288 with 1 Axes>"
      ]
     },
     "metadata": {
      "needs_background": "light"
     },
     "output_type": "display_data"
    },
    {
     "data": {
      "image/png": "[encoded data removed]",
      "text/plain": [
       "<Figure size 432x288 with 1 Axes>"
      ]
     },
     "metadata": {
      "needs_background": "light"
     },
     "output_type": "display_data"
    }
   ],
   "source": [
    "num_epochs = 30\n",
    "\n",
    "model_cnn = tf.keras.Sequential([\n",
    "    tf.keras.layers.Embedding(vocab_size, embedding_dim, input_length=max_length),\n",
    "    tf.keras.layers.Conv1D(16, 5, activation='relu'),\n",
    "    tf.keras.layers.GlobalMaxPooling1D(),\n",
    "    tf.keras.layers.Dense(1, activation='sigmoid')\n",
    "])\n",
    "\n",
    "# Default learning rate for the Adam optimizer is 0.001\n",
    "# Let's slow down the learning rate by 10.\n",
    "learning_rate = 0.0001\n",
    "model_cnn.compile(loss='binary_crossentropy',\n",
    "                  optimizer=tf.keras.optimizers.Adam(learning_rate), \n",
    "                  metrics=['accuracy'])\n",
    "\n",
    "fit_model_and_show_results(model_cnn)"
   ]
  },
  {
   "cell_type": "code",
   "execution_count": 77,
   "id": "d933723c",
   "metadata": {},
   "outputs": [
    {
     "name": "stdout",
     "output_type": "stream",
     "text": [
      "Epoch 1/100\n"
     ]
    },
    {
     "name": "stderr",
     "output_type": "stream",
     "text": [
      "2023-01-28 15:43:42.246005: I tensorflow/core/grappler/optimizers/custom_graph_optimizer_registry.cc:113] Plugin optimizer for device_type GPU is enabled.\n"
     ]
    },
    {
     "name": "stdout",
     "output_type": "stream",
     "text": [
      "869/869 [==============================] - 11s 12ms/step - loss: 0.3390 - accuracy: 0.8603 - lr: 1.0000e-06\n",
      "Epoch 2/100\n",
      "869/869 [==============================] - 8s 9ms/step - loss: 0.3390 - accuracy: 0.8603 - lr: 1.1659e-06\n",
      "Epoch 3/100\n",
      "869/869 [==============================] - 7s 9ms/step - loss: 0.3389 - accuracy: 0.8602 - lr: 1.3594e-06\n",
      "Epoch 4/100\n",
      "869/869 [==============================] - 8s 9ms/step - loss: 0.3388 - accuracy: 0.8603 - lr: 1.5849e-06\n",
      "Epoch 5/100\n",
      "869/869 [==============================] - 7s 8ms/step - loss: 0.3388 - accuracy: 0.8604 - lr: 1.8478e-06\n",
      "Epoch 6/100\n",
      "869/869 [==============================] - 8s 9ms/step - loss: 0.3387 - accuracy: 0.8601 - lr: 2.1544e-06\n",
      "Epoch 7/100\n",
      "869/869 [==============================] - 7s 8ms/step - loss: 0.3386 - accuracy: 0.8603 - lr: 2.5119e-06\n",
      "Epoch 8/100\n",
      "869/869 [==============================] - 7s 8ms/step - loss: 0.3384 - accuracy: 0.8603 - lr: 2.9286e-06\n",
      "Epoch 9/100\n",
      "869/869 [==============================] - 7s 8ms/step - loss: 0.3383 - accuracy: 0.8604 - lr: 3.4145e-06\n",
      "Epoch 10/100\n",
      "869/869 [==============================] - 8s 9ms/step - loss: 0.3381 - accuracy: 0.8605 - lr: 3.9811e-06\n",
      "Epoch 11/100\n",
      "869/869 [==============================] - 7s 9ms/step - loss: 0.3379 - accuracy: 0.8605 - lr: 4.6416e-06\n",
      "Epoch 12/100\n",
      "869/869 [==============================] - 7s 8ms/step - loss: 0.3377 - accuracy: 0.8605 - lr: 5.4117e-06\n",
      "Epoch 13/100\n",
      "869/869 [==============================] - 7s 8ms/step - loss: 0.3375 - accuracy: 0.8609 - lr: 6.3096e-06\n",
      "Epoch 14/100\n",
      "869/869 [==============================] - 7s 8ms/step - loss: 0.3372 - accuracy: 0.8610 - lr: 7.3564e-06\n",
      "Epoch 15/100\n",
      "869/869 [==============================] - 7s 8ms/step - loss: 0.3368 - accuracy: 0.8612 - lr: 8.5770e-06\n",
      "Epoch 16/100\n",
      "869/869 [==============================] - 7s 8ms/step - loss: 0.3364 - accuracy: 0.8615 - lr: 1.0000e-05\n",
      "Epoch 17/100\n",
      "869/869 [==============================] - 7s 8ms/step - loss: 0.3360 - accuracy: 0.8618 - lr: 1.1659e-05\n",
      "Epoch 18/100\n",
      "869/869 [==============================] - 7s 8ms/step - loss: 0.3354 - accuracy: 0.8618 - lr: 1.3594e-05\n",
      "Epoch 19/100\n",
      "869/869 [==============================] - 7s 8ms/step - loss: 0.3348 - accuracy: 0.8621 - lr: 1.5849e-05\n",
      "Epoch 20/100\n",
      "869/869 [==============================] - 7s 9ms/step - loss: 0.3341 - accuracy: 0.8625 - lr: 1.8478e-05\n",
      "Epoch 21/100\n",
      "869/869 [==============================] - 7s 8ms/step - loss: 0.3332 - accuracy: 0.8632 - lr: 2.1544e-05\n",
      "Epoch 22/100\n",
      "869/869 [==============================] - 7s 8ms/step - loss: 0.3323 - accuracy: 0.8639 - lr: 2.5119e-05\n",
      "Epoch 23/100\n",
      "869/869 [==============================] - 7s 8ms/step - loss: 0.3311 - accuracy: 0.8640 - lr: 2.9286e-05\n",
      "Epoch 24/100\n",
      "869/869 [==============================] - 7s 8ms/step - loss: 0.3298 - accuracy: 0.8658 - lr: 3.4145e-05\n",
      "Epoch 25/100\n",
      "869/869 [==============================] - 7s 9ms/step - loss: 0.3283 - accuracy: 0.8656 - lr: 3.9811e-05\n",
      "Epoch 26/100\n",
      "869/869 [==============================] - 7s 8ms/step - loss: 0.3265 - accuracy: 0.8666 - lr: 4.6416e-05\n",
      "Epoch 27/100\n",
      "869/869 [==============================] - 7s 8ms/step - loss: 0.3245 - accuracy: 0.8682 - lr: 5.4117e-05\n",
      "Epoch 28/100\n",
      "869/869 [==============================] - 7s 8ms/step - loss: 0.3222 - accuracy: 0.8686 - lr: 6.3096e-05\n",
      "Epoch 29/100\n",
      "869/869 [==============================] - 7s 8ms/step - loss: 0.3194 - accuracy: 0.8704 - lr: 7.3564e-05\n",
      "Epoch 30/100\n",
      "869/869 [==============================] - 7s 8ms/step - loss: 0.3161 - accuracy: 0.8727 - lr: 8.5770e-05\n",
      "Epoch 31/100\n",
      "869/869 [==============================] - 7s 8ms/step - loss: 0.3124 - accuracy: 0.8750 - lr: 1.0000e-04\n",
      "Epoch 32/100\n",
      "869/869 [==============================] - 7s 9ms/step - loss: 0.3082 - accuracy: 0.8774 - lr: 1.1659e-04\n",
      "Epoch 33/100\n",
      "869/869 [==============================] - 7s 8ms/step - loss: 0.3032 - accuracy: 0.8803 - lr: 1.3594e-04\n",
      "Epoch 34/100\n",
      "869/869 [==============================] - 7s 8ms/step - loss: 0.2976 - accuracy: 0.8836 - lr: 1.5849e-04\n",
      "Epoch 35/100\n",
      "869/869 [==============================] - 7s 8ms/step - loss: 0.2911 - accuracy: 0.8853 - lr: 1.8478e-04\n",
      "Epoch 36/100\n",
      "869/869 [==============================] - 7s 8ms/step - loss: 0.2835 - accuracy: 0.8896 - lr: 2.1544e-04\n",
      "Epoch 37/100\n",
      "869/869 [==============================] - 8s 9ms/step - loss: 0.2753 - accuracy: 0.8946 - lr: 2.5119e-04\n",
      "Epoch 38/100\n",
      "869/869 [==============================] - 7s 9ms/step - loss: 0.2658 - accuracy: 0.8988 - lr: 2.9286e-04\n",
      "Epoch 39/100\n",
      "869/869 [==============================] - 7s 8ms/step - loss: 0.2548 - accuracy: 0.9036 - lr: 3.4145e-04\n",
      "Epoch 40/100\n",
      "869/869 [==============================] - 7s 9ms/step - loss: 0.2434 - accuracy: 0.9086 - lr: 3.9811e-04\n",
      "Epoch 41/100\n",
      "869/869 [==============================] - 7s 8ms/step - loss: 0.2308 - accuracy: 0.9131 - lr: 4.6416e-04\n",
      "Epoch 42/100\n",
      "869/869 [==============================] - 7s 8ms/step - loss: 0.2171 - accuracy: 0.9208 - lr: 5.4117e-04\n",
      "Epoch 43/100\n",
      "869/869 [==============================] - 7s 8ms/step - loss: 0.2024 - accuracy: 0.9258 - lr: 6.3096e-04\n",
      "Epoch 44/100\n",
      "869/869 [==============================] - 7s 8ms/step - loss: 0.1877 - accuracy: 0.9310 - lr: 7.3564e-04\n",
      "Epoch 45/100\n",
      "869/869 [==============================] - 7s 8ms/step - loss: 0.1742 - accuracy: 0.9365 - lr: 8.5770e-04\n",
      "Epoch 46/100\n",
      "869/869 [==============================] - 7s 8ms/step - loss: 0.1614 - accuracy: 0.9418 - lr: 0.0010\n",
      "Epoch 47/100\n",
      "869/869 [==============================] - 7s 8ms/step - loss: 0.1493 - accuracy: 0.9443 - lr: 0.0012\n",
      "Epoch 48/100\n",
      "869/869 [==============================] - 7s 8ms/step - loss: 0.1412 - accuracy: 0.9465 - lr: 0.0014\n",
      "Epoch 49/100\n",
      "869/869 [==============================] - 7s 8ms/step - loss: 0.1339 - accuracy: 0.9508 - lr: 0.0016\n",
      "Epoch 50/100\n",
      "869/869 [==============================] - 7s 8ms/step - loss: 0.1274 - accuracy: 0.9506 - lr: 0.0018\n",
      "Epoch 51/100\n",
      "869/869 [==============================] - 7s 8ms/step - loss: 0.1332 - accuracy: 0.9479 - lr: 0.0022\n",
      "Epoch 52/100\n",
      "869/869 [==============================] - 7s 8ms/step - loss: 0.1373 - accuracy: 0.9434 - lr: 0.0025\n",
      "Epoch 53/100\n",
      "869/869 [==============================] - 7s 8ms/step - loss: 0.1347 - accuracy: 0.9471 - lr: 0.0029\n",
      "Epoch 54/100\n",
      "869/869 [==============================] - 7s 8ms/step - loss: 0.1420 - accuracy: 0.9436 - lr: 0.0034\n",
      "Epoch 55/100\n",
      "869/869 [==============================] - 7s 8ms/step - loss: 0.1445 - accuracy: 0.9431 - lr: 0.0040\n",
      "Epoch 56/100\n",
      "869/869 [==============================] - 7s 8ms/step - loss: 0.1544 - accuracy: 0.9378 - lr: 0.0046\n",
      "Epoch 57/100\n",
      "869/869 [==============================] - 7s 8ms/step - loss: 0.1584 - accuracy: 0.9380 - lr: 0.0054\n",
      "Epoch 58/100\n",
      "869/869 [==============================] - 7s 8ms/step - loss: 0.1626 - accuracy: 0.9355 - lr: 0.0063\n",
      "Epoch 59/100\n",
      "869/869 [==============================] - 7s 8ms/step - loss: 0.1636 - accuracy: 0.9340 - lr: 0.0074\n",
      "Epoch 60/100\n",
      "869/869 [==============================] - 7s 8ms/step - loss: 0.1706 - accuracy: 0.9314 - lr: 0.0086\n",
      "Epoch 61/100\n",
      "869/869 [==============================] - 7s 8ms/step - loss: 0.1679 - accuracy: 0.9318 - lr: 0.0100\n",
      "Epoch 62/100\n",
      "869/869 [==============================] - 7s 8ms/step - loss: 0.1681 - accuracy: 0.9333 - lr: 0.0117\n",
      "Epoch 63/100\n",
      "869/869 [==============================] - 7s 8ms/step - loss: 0.1809 - accuracy: 0.9256 - lr: 0.0136\n",
      "Epoch 64/100\n",
      "869/869 [==============================] - 7s 8ms/step - loss: 0.1884 - accuracy: 0.9223 - lr: 0.0158\n",
      "Epoch 65/100\n",
      "869/869 [==============================] - 7s 8ms/step - loss: 0.2014 - accuracy: 0.9188 - lr: 0.0185\n",
      "Epoch 66/100\n",
      "869/869 [==============================] - 7s 8ms/step - loss: 0.2069 - accuracy: 0.9137 - lr: 0.0215\n",
      "Epoch 67/100\n",
      "869/869 [==============================] - 7s 8ms/step - loss: 0.2373 - accuracy: 0.9020 - lr: 0.0251\n",
      "Epoch 68/100\n",
      "869/869 [==============================] - 7s 8ms/step - loss: 0.2550 - accuracy: 0.8965 - lr: 0.0293\n",
      "Epoch 69/100\n",
      "869/869 [==============================] - 7s 8ms/step - loss: 0.3009 - accuracy: 0.8815 - lr: 0.0341\n",
      "Epoch 70/100\n"
     ]
    },
    {
     "name": "stdout",
     "output_type": "stream",
     "text": [
      "869/869 [==============================] - 7s 8ms/step - loss: 0.3161 - accuracy: 0.8710 - lr: 0.0398\n",
      "Epoch 71/100\n",
      "869/869 [==============================] - 7s 8ms/step - loss: 0.3703 - accuracy: 0.8493 - lr: 0.0464\n",
      "Epoch 72/100\n",
      "869/869 [==============================] - 7s 8ms/step - loss: 0.3983 - accuracy: 0.8379 - lr: 0.0541\n",
      "Epoch 73/100\n",
      "869/869 [==============================] - 7s 8ms/step - loss: 0.5810 - accuracy: 0.7578 - lr: 0.0631\n",
      "Epoch 74/100\n",
      "869/869 [==============================] - 7s 8ms/step - loss: 0.6941 - accuracy: 0.6785 - lr: 0.0736\n",
      "Epoch 75/100\n",
      "869/869 [==============================] - 7s 8ms/step - loss: 0.7385 - accuracy: 0.6223 - lr: 0.0858\n",
      "Epoch 76/100\n",
      "869/869 [==============================] - 7s 8ms/step - loss: 0.9532 - accuracy: 0.6207 - lr: 0.1000\n",
      "Epoch 77/100\n",
      "869/869 [==============================] - 7s 8ms/step - loss: 1.1291 - accuracy: 0.6186 - lr: 0.1166\n",
      "Epoch 78/100\n",
      "869/869 [==============================] - 7s 8ms/step - loss: 0.8673 - accuracy: 0.6190 - lr: 0.1359\n",
      "Epoch 79/100\n",
      "869/869 [==============================] - 7s 8ms/step - loss: 0.8564 - accuracy: 0.6187 - lr: 0.1585\n",
      "Epoch 80/100\n",
      "869/869 [==============================] - 7s 8ms/step - loss: 2.6699 - accuracy: 0.6180 - lr: 0.1848\n",
      "Epoch 81/100\n",
      "869/869 [==============================] - 7s 8ms/step - loss: 0.9906 - accuracy: 0.6166 - lr: 0.2154\n",
      "Epoch 82/100\n",
      "869/869 [==============================] - 7s 8ms/step - loss: 2.7379 - accuracy: 0.6152 - lr: 0.2512\n",
      "Epoch 83/100\n",
      "869/869 [==============================] - 7s 8ms/step - loss: 2.0836 - accuracy: 0.6165 - lr: 0.2929\n",
      "Epoch 84/100\n",
      "869/869 [==============================] - 7s 8ms/step - loss: 2.5955 - accuracy: 0.6167 - lr: 0.3415\n",
      "Epoch 85/100\n",
      "869/869 [==============================] - 7s 8ms/step - loss: 8.5567 - accuracy: 0.6123 - lr: 0.3981\n",
      "Epoch 86/100\n",
      "869/869 [==============================] - 7s 8ms/step - loss: 35.0882 - accuracy: 0.6070 - lr: 0.4642\n",
      "Epoch 87/100\n",
      "869/869 [==============================] - 7s 8ms/step - loss: 1.4076 - accuracy: 0.6109 - lr: 0.5412\n",
      "Epoch 88/100\n",
      "869/869 [==============================] - 7s 8ms/step - loss: 0.6755 - accuracy: 0.6054 - lr: 0.6310\n",
      "Epoch 89/100\n",
      "869/869 [==============================] - 7s 8ms/step - loss: 0.6763 - accuracy: 0.6032 - lr: 0.7356\n",
      "Epoch 90/100\n",
      "869/869 [==============================] - 7s 8ms/step - loss: 0.6811 - accuracy: 0.5936 - lr: 0.8577\n",
      "Epoch 91/100\n",
      "869/869 [==============================] - 7s 8ms/step - loss: 0.6797 - accuracy: 0.5962 - lr: 1.0000\n",
      "Epoch 92/100\n",
      "869/869 [==============================] - 7s 8ms/step - loss: 0.6827 - accuracy: 0.5949 - lr: 1.1659\n",
      "Epoch 93/100\n",
      "869/869 [==============================] - 7s 8ms/step - loss: 0.6959 - accuracy: 0.5814 - lr: 1.3594\n",
      "Epoch 94/100\n",
      "869/869 [==============================] - 7s 8ms/step - loss: 0.6847 - accuracy: 0.5909 - lr: 1.5849\n",
      "Epoch 95/100\n",
      "869/869 [==============================] - 7s 8ms/step - loss: 0.6976 - accuracy: 0.5796 - lr: 1.8478\n",
      "Epoch 96/100\n",
      "869/869 [==============================] - 7s 8ms/step - loss: 0.6902 - accuracy: 0.5799 - lr: 2.1544\n",
      "Epoch 97/100\n",
      "869/869 [==============================] - 7s 8ms/step - loss: 0.6981 - accuracy: 0.5770 - lr: 2.5119\n",
      "Epoch 98/100\n",
      "869/869 [==============================] - 7s 8ms/step - loss: 0.6964 - accuracy: 0.5767 - lr: 2.9286\n",
      "Epoch 99/100\n",
      "869/869 [==============================] - 7s 8ms/step - loss: 0.7269 - accuracy: 0.5644 - lr: 3.4145\n",
      "Epoch 100/100\n",
      "869/869 [==============================] - 7s 8ms/step - loss: 0.7200 - accuracy: 0.5666 - lr: 3.9811\n"
     ]
    },
    {
     "data": {
      "image/png": "[encoded data removed]",
      "text/plain": [
       "<Figure size 432x288 with 1 Axes>"
      ]
     },
     "metadata": {
      "needs_background": "light"
     },
     "output_type": "display_data"
    },
    {
     "data": {
      "text/plain": [
       "<keras.callbacks.History at 0x3458bb340>"
      ]
     },
     "execution_count": 77,
     "metadata": {},
     "output_type": "execute_result"
    }
   ],
   "source": [
    "determine_lr(model_cnn,'Model CNN',1e-6)"
   ]
  },
  {
   "cell_type": "code",
   "execution_count": 75,
   "id": "8aa58e98",
   "metadata": {},
   "outputs": [],
   "source": [
    "def determine_lr(model, name, guess):\n",
    "    lr_schedule = tf.keras.callbacks.LearningRateScheduler(\n",
    "        lambda epoch: guess * 10**(epoch/15))\n",
    "    optimizer = tf.keras.optimizers.SGD(lr=guess, momentum=0.9) #Stochastic gradient descent optimizer\n",
    "    model.compile(optimizer='adam',\n",
    "                  loss=tf.keras.losses.BinaryCrossentropy(),\n",
    "                  metrics=['accuracy'])\n",
    "    history = model.fit(X_train, y_train, epochs=100, callbacks = lr_schedule)\n",
    "    plt.semilogx(history.history[\"lr\"], history.history[\"loss\"])\n",
    "    plt.xlabel(\"Learning Rate (log)\")\n",
    "    plt.ylabel(\"Loss\")\n",
    "    plt.title(\"Learning Rate Determination \"+name)\n",
    "    plt.show()\n",
    "    return history\n",
    "\n",
    "#Produces a summary of the model and returns the history\n",
    "def run_model(model, lrate):\n",
    "    optimizer = tf.keras.optimizers.SGD(lr=lrate, momentum=0.9) #Stochastic gradient descent optimizer\n",
    "    model.compile(optimizer = 'adam',\n",
    "                  loss=tf.keras.losses.BinaryCrossentropy(),\n",
    "                  metrics=['accuracy'])\n",
    "    print('data is compiled')\n",
    "    history = model.fit(x=X_train, y=y_train, epochs=epoch_num, validation_data=(X_test, y_test))\n",
    "    model.summary()\n",
    "    return history"
   ]
  },
  {
   "cell_type": "code",
   "execution_count": 65,
   "id": "c22026d2",
   "metadata": {},
   "outputs": [
    {
     "name": "stdout",
     "output_type": "stream",
     "text": [
      "Model: \"sequential_5\"\n",
      "_________________________________________________________________\n",
      " Layer (type)                Output Shape              Param #   \n",
      "=================================================================\n",
      " embedding_5 (Embedding)     (None, 29, 16)            64000     \n",
      "                                                                 \n",
      " bidirectional (Bidirectiona  (None, 64)               9600      \n",
      " l)                                                              \n",
      "                                                                 \n",
      " dense_5 (Dense)             (None, 1)                 65        \n",
      "                                                                 \n",
      "=================================================================\n",
      "Total params: 73,665\n",
      "Trainable params: 73,665\n",
      "Non-trainable params: 0\n",
      "_________________________________________________________________\n",
      "Epoch 1/30\n"
     ]
    },
    {
     "name": "stderr",
     "output_type": "stream",
     "text": [
      "2023-01-28 14:32:45.230262: I tensorflow/core/grappler/optimizers/custom_graph_optimizer_registry.cc:113] Plugin optimizer for device_type GPU is enabled.\n",
      "2023-01-28 14:32:45.486792: I tensorflow/core/grappler/optimizers/custom_graph_optimizer_registry.cc:113] Plugin optimizer for device_type GPU is enabled.\n",
      "2023-01-28 14:32:45.497302: I tensorflow/core/grappler/optimizers/custom_graph_optimizer_registry.cc:113] Plugin optimizer for device_type GPU is enabled.\n",
      "2023-01-28 14:32:46.020708: I tensorflow/core/grappler/optimizers/custom_graph_optimizer_registry.cc:113] Plugin optimizer for device_type GPU is enabled.\n",
      "2023-01-28 14:32:46.034261: I tensorflow/core/grappler/optimizers/custom_graph_optimizer_registry.cc:113] Plugin optimizer for device_type GPU is enabled.\n"
     ]
    },
    {
     "name": "stdout",
     "output_type": "stream",
     "text": [
      "869/869 [==============================] - ETA: 0s - loss: 0.6763 - accuracy: 0.6177"
     ]
    },
    {
     "name": "stderr",
     "output_type": "stream",
     "text": [
      "2023-01-28 14:33:13.794530: I tensorflow/core/grappler/optimizers/custom_graph_optimizer_registry.cc:113] Plugin optimizer for device_type GPU is enabled.\n",
      "2023-01-28 14:33:13.875488: I tensorflow/core/grappler/optimizers/custom_graph_optimizer_registry.cc:113] Plugin optimizer for device_type GPU is enabled.\n",
      "2023-01-28 14:33:13.882173: I tensorflow/core/grappler/optimizers/custom_graph_optimizer_registry.cc:113] Plugin optimizer for device_type GPU is enabled.\n"
     ]
    },
    {
     "name": "stdout",
     "output_type": "stream",
     "text": [
      "869/869 [==============================] - 32s 35ms/step - loss: 0.6763 - accuracy: 0.6177 - val_loss: 0.6654 - val_accuracy: 0.6192\n",
      "Epoch 2/30\n",
      "869/869 [==============================] - 28s 32ms/step - loss: 0.6649 - accuracy: 0.6178 - val_loss: 0.6636 - val_accuracy: 0.6192\n",
      "Epoch 3/30\n",
      "869/869 [==============================] - 28s 32ms/step - loss: 0.6635 - accuracy: 0.6178 - val_loss: 0.6618 - val_accuracy: 0.6192\n",
      "Epoch 4/30\n",
      "869/869 [==============================] - 28s 32ms/step - loss: 0.6606 - accuracy: 0.6178 - val_loss: 0.6582 - val_accuracy: 0.6192\n",
      "Epoch 5/30\n",
      "869/869 [==============================] - 28s 32ms/step - loss: 0.6552 - accuracy: 0.6178 - val_loss: 0.6516 - val_accuracy: 0.6192\n",
      "Epoch 6/30\n",
      "869/869 [==============================] - 27s 31ms/step - loss: 0.6453 - accuracy: 0.6178 - val_loss: 0.6406 - val_accuracy: 0.6194\n",
      "Epoch 7/30\n",
      "869/869 [==============================] - 28s 32ms/step - loss: 0.6284 - accuracy: 0.6243 - val_loss: 0.6198 - val_accuracy: 0.6326\n",
      "Epoch 8/30\n",
      "869/869 [==============================] - 27s 31ms/step - loss: 0.5999 - accuracy: 0.6611 - val_loss: 0.5921 - val_accuracy: 0.6799\n",
      "Epoch 9/30\n",
      "869/869 [==============================] - 28s 32ms/step - loss: 0.5696 - accuracy: 0.7046 - val_loss: 0.5752 - val_accuracy: 0.7076\n",
      "Epoch 10/30\n",
      "869/869 [==============================] - 27s 31ms/step - loss: 0.5506 - accuracy: 0.7266 - val_loss: 0.5672 - val_accuracy: 0.7166\n",
      "Epoch 11/30\n",
      "869/869 [==============================] - 28s 32ms/step - loss: 0.5383 - accuracy: 0.7360 - val_loss: 0.5628 - val_accuracy: 0.7139\n",
      "Epoch 12/30\n",
      "869/869 [==============================] - 27s 31ms/step - loss: 0.5291 - accuracy: 0.7389 - val_loss: 0.5600 - val_accuracy: 0.7188\n",
      "Epoch 13/30\n",
      "869/869 [==============================] - 27s 31ms/step - loss: 0.5227 - accuracy: 0.7425 - val_loss: 0.5577 - val_accuracy: 0.7181\n",
      "Epoch 14/30\n",
      "869/869 [==============================] - 27s 31ms/step - loss: 0.5168 - accuracy: 0.7458 - val_loss: 0.5564 - val_accuracy: 0.7176\n",
      "Epoch 15/30\n",
      "869/869 [==============================] - 27s 31ms/step - loss: 0.5119 - accuracy: 0.7509 - val_loss: 0.5559 - val_accuracy: 0.7156\n",
      "Epoch 16/30\n",
      "869/869 [==============================] - 28s 32ms/step - loss: 0.5075 - accuracy: 0.7534 - val_loss: 0.5548 - val_accuracy: 0.7198\n",
      "Epoch 17/30\n",
      "869/869 [==============================] - 28s 32ms/step - loss: 0.5036 - accuracy: 0.7555 - val_loss: 0.5540 - val_accuracy: 0.7198\n",
      "Epoch 18/30\n",
      "869/869 [==============================] - 28s 33ms/step - loss: 0.4995 - accuracy: 0.7591 - val_loss: 0.5537 - val_accuracy: 0.7212\n",
      "Epoch 19/30\n",
      "869/869 [==============================] - 28s 32ms/step - loss: 0.4963 - accuracy: 0.7601 - val_loss: 0.5537 - val_accuracy: 0.7199\n",
      "Epoch 20/30\n",
      "869/869 [==============================] - 28s 32ms/step - loss: 0.4930 - accuracy: 0.7631 - val_loss: 0.5559 - val_accuracy: 0.7185\n",
      "Epoch 21/30\n",
      "869/869 [==============================] - 28s 32ms/step - loss: 0.4902 - accuracy: 0.7653 - val_loss: 0.5540 - val_accuracy: 0.7222\n",
      "Epoch 22/30\n",
      "869/869 [==============================] - 27s 31ms/step - loss: 0.4875 - accuracy: 0.7675 - val_loss: 0.5577 - val_accuracy: 0.7202\n",
      "Epoch 23/30\n",
      "869/869 [==============================] - 29s 33ms/step - loss: 0.4849 - accuracy: 0.7689 - val_loss: 0.5561 - val_accuracy: 0.7218\n",
      "Epoch 24/30\n",
      "869/869 [==============================] - 28s 32ms/step - loss: 0.4823 - accuracy: 0.7705 - val_loss: 0.5557 - val_accuracy: 0.7214\n",
      "Epoch 25/30\n",
      "869/869 [==============================] - 28s 32ms/step - loss: 0.4800 - accuracy: 0.7739 - val_loss: 0.5561 - val_accuracy: 0.7212\n",
      "Epoch 26/30\n",
      "869/869 [==============================] - 28s 33ms/step - loss: 0.4779 - accuracy: 0.7737 - val_loss: 0.5570 - val_accuracy: 0.7221\n",
      "Epoch 27/30\n",
      "869/869 [==============================] - 28s 32ms/step - loss: 0.4754 - accuracy: 0.7761 - val_loss: 0.5609 - val_accuracy: 0.7194\n",
      "Epoch 28/30\n",
      "869/869 [==============================] - 28s 33ms/step - loss: 0.4738 - accuracy: 0.7774 - val_loss: 0.5594 - val_accuracy: 0.7215\n",
      "Epoch 29/30\n",
      "869/869 [==============================] - 28s 33ms/step - loss: 0.4719 - accuracy: 0.7793 - val_loss: 0.5606 - val_accuracy: 0.7207\n",
      "Epoch 30/30\n",
      "869/869 [==============================] - 27s 31ms/step - loss: 0.4704 - accuracy: 0.7776 - val_loss: 0.5621 - val_accuracy: 0.7222\n"
     ]
    },
    {
     "data": {
      "image/png": "[encoded data removed]",
      "text/plain": [
       "<Figure size 432x288 with 1 Axes>"
      ]
     },
     "metadata": {
      "needs_background": "light"
     },
     "output_type": "display_data"
    },
    {
     "data": {
      "image/png": "[encoded data removed]",
      "text/plain": [
       "<Figure size 432x288 with 1 Axes>"
      ]
     },
     "metadata": {
      "needs_background": "light"
     },
     "output_type": "display_data"
    }
   ],
   "source": [
    "num_epochs = 30\n",
    "\n",
    "model_gru = tf.keras.Sequential([\n",
    "    tf.keras.layers.Embedding(vocab_size, embedding_dim, input_length=max_length),\n",
    "    tf.keras.layers.Bidirectional(tf.keras.layers.GRU(32)),\n",
    "    tf.keras.layers.Dense(1, activation='sigmoid')\n",
    "])\n",
    "\n",
    "learning_rate = 0.00003 # slower than the default learning rate\n",
    "model_gru.compile(loss='binary_crossentropy',\n",
    "                  optimizer=tf.keras.optimizers.Adam(learning_rate),\n",
    "                  metrics=['accuracy'])\n",
    "\n",
    "fit_model_and_show_results(model_gru)"
   ]
  },
  {
   "cell_type": "code",
   "execution_count": 78,
   "id": "d95a07c9",
   "metadata": {},
   "outputs": [
    {
     "name": "stdout",
     "output_type": "stream",
     "text": [
      "Epoch 1/100\n"
     ]
    },
    {
     "name": "stderr",
     "output_type": "stream",
     "text": [
      "2023-01-28 15:55:42.637233: I tensorflow/core/grappler/optimizers/custom_graph_optimizer_registry.cc:113] Plugin optimizer for device_type GPU is enabled.\n",
      "2023-01-28 15:55:42.866951: I tensorflow/core/grappler/optimizers/custom_graph_optimizer_registry.cc:113] Plugin optimizer for device_type GPU is enabled.\n",
      "2023-01-28 15:55:42.878183: I tensorflow/core/grappler/optimizers/custom_graph_optimizer_registry.cc:113] Plugin optimizer for device_type GPU is enabled.\n",
      "2023-01-28 15:55:43.334434: I tensorflow/core/grappler/optimizers/custom_graph_optimizer_registry.cc:113] Plugin optimizer for device_type GPU is enabled.\n",
      "2023-01-28 15:55:43.347919: I tensorflow/core/grappler/optimizers/custom_graph_optimizer_registry.cc:113] Plugin optimizer for device_type GPU is enabled.\n"
     ]
    },
    {
     "name": "stdout",
     "output_type": "stream",
     "text": [
      "869/869 [==============================] - 30s 33ms/step - loss: 0.4666 - accuracy: 0.7826 - lr: 1.0000e-06\n",
      "Epoch 2/100\n",
      "869/869 [==============================] - 25s 29ms/step - loss: 0.4665 - accuracy: 0.7829 - lr: 1.1659e-06\n",
      "Epoch 3/100\n",
      "869/869 [==============================] - 25s 28ms/step - loss: 0.4664 - accuracy: 0.7823 - lr: 1.3594e-06\n",
      "Epoch 4/100\n",
      "869/869 [==============================] - 25s 29ms/step - loss: 0.4664 - accuracy: 0.7825 - lr: 1.5849e-06\n",
      "Epoch 5/100\n",
      "869/869 [==============================] - 25s 28ms/step - loss: 0.4664 - accuracy: 0.7829 - lr: 1.8478e-06\n",
      "Epoch 6/100\n",
      "869/869 [==============================] - 25s 29ms/step - loss: 0.4663 - accuracy: 0.7829 - lr: 2.1544e-06\n",
      "Epoch 7/100\n",
      "869/869 [==============================] - 25s 29ms/step - loss: 0.4662 - accuracy: 0.7827 - lr: 2.5119e-06\n",
      "Epoch 8/100\n",
      "869/869 [==============================] - 25s 28ms/step - loss: 0.4660 - accuracy: 0.7828 - lr: 2.9286e-06\n",
      "Epoch 9/100\n",
      "869/869 [==============================] - 25s 29ms/step - loss: 0.4659 - accuracy: 0.7831 - lr: 3.4145e-06\n",
      "Epoch 10/100\n",
      "869/869 [==============================] - 25s 29ms/step - loss: 0.4657 - accuracy: 0.7834 - lr: 3.9811e-06\n",
      "Epoch 11/100\n",
      "869/869 [==============================] - 25s 29ms/step - loss: 0.4656 - accuracy: 0.7823 - lr: 4.6416e-06\n",
      "Epoch 12/100\n",
      "869/869 [==============================] - 25s 29ms/step - loss: 0.4654 - accuracy: 0.7834 - lr: 5.4117e-06\n",
      "Epoch 13/100\n",
      "869/869 [==============================] - 25s 29ms/step - loss: 0.4652 - accuracy: 0.7831 - lr: 6.3096e-06\n",
      "Epoch 14/100\n",
      "869/869 [==============================] - 25s 29ms/step - loss: 0.4650 - accuracy: 0.7830 - lr: 7.3564e-06\n",
      "Epoch 15/100\n",
      "869/869 [==============================] - 25s 29ms/step - loss: 0.4647 - accuracy: 0.7834 - lr: 8.5770e-06\n",
      "Epoch 16/100\n",
      "869/869 [==============================] - 25s 29ms/step - loss: 0.4644 - accuracy: 0.7844 - lr: 1.0000e-05\n",
      "Epoch 17/100\n",
      "869/869 [==============================] - 25s 29ms/step - loss: 0.4641 - accuracy: 0.7836 - lr: 1.1659e-05\n",
      "Epoch 18/100\n",
      "869/869 [==============================] - 25s 29ms/step - loss: 0.4637 - accuracy: 0.7842 - lr: 1.3594e-05\n",
      "Epoch 19/100\n",
      "869/869 [==============================] - 25s 29ms/step - loss: 0.4632 - accuracy: 0.7852 - lr: 1.5849e-05\n",
      "Epoch 20/100\n",
      "869/869 [==============================] - 25s 29ms/step - loss: 0.4627 - accuracy: 0.7837 - lr: 1.8478e-05\n",
      "Epoch 21/100\n",
      "869/869 [==============================] - 25s 29ms/step - loss: 0.4621 - accuracy: 0.7843 - lr: 2.1544e-05\n",
      "Epoch 22/100\n",
      "869/869 [==============================] - 25s 29ms/step - loss: 0.4617 - accuracy: 0.7844 - lr: 2.5119e-05\n",
      "Epoch 23/100\n",
      "869/869 [==============================] - 25s 29ms/step - loss: 0.4608 - accuracy: 0.7849 - lr: 2.9286e-05\n",
      "Epoch 24/100\n",
      "869/869 [==============================] - 25s 29ms/step - loss: 0.4603 - accuracy: 0.7856 - lr: 3.4145e-05\n",
      "Epoch 25/100\n",
      "869/869 [==============================] - 25s 29ms/step - loss: 0.4596 - accuracy: 0.7858 - lr: 3.9811e-05\n",
      "Epoch 26/100\n",
      "869/869 [==============================] - 25s 29ms/step - loss: 0.4588 - accuracy: 0.7867 - lr: 4.6416e-05\n",
      "Epoch 27/100\n",
      "869/869 [==============================] - 25s 29ms/step - loss: 0.4581 - accuracy: 0.7863 - lr: 5.4117e-05\n",
      "Epoch 28/100\n",
      "869/869 [==============================] - 25s 29ms/step - loss: 0.4582 - accuracy: 0.7843 - lr: 6.3096e-05\n",
      "Epoch 29/100\n",
      "869/869 [==============================] - 25s 29ms/step - loss: 0.4575 - accuracy: 0.7862 - lr: 7.3564e-05\n",
      "Epoch 30/100\n",
      "869/869 [==============================] - 26s 30ms/step - loss: 0.4571 - accuracy: 0.7855 - lr: 8.5770e-05\n",
      "Epoch 31/100\n",
      "869/869 [==============================] - 25s 29ms/step - loss: 0.4565 - accuracy: 0.7865 - lr: 1.0000e-04\n",
      "Epoch 32/100\n",
      "869/869 [==============================] - 25s 29ms/step - loss: 0.4572 - accuracy: 0.7851 - lr: 1.1659e-04\n",
      "Epoch 33/100\n",
      "869/869 [==============================] - 25s 29ms/step - loss: 0.4571 - accuracy: 0.7861 - lr: 1.3594e-04\n",
      "Epoch 34/100\n",
      "869/869 [==============================] - 25s 29ms/step - loss: 0.4584 - accuracy: 0.7833 - lr: 1.5849e-04\n",
      "Epoch 35/100\n",
      "869/869 [==============================] - 25s 29ms/step - loss: 0.4593 - accuracy: 0.7822 - lr: 1.8478e-04\n",
      "Epoch 36/100\n",
      "869/869 [==============================] - 25s 29ms/step - loss: 0.4608 - accuracy: 0.7819 - lr: 2.1544e-04\n",
      "Epoch 37/100\n",
      "869/869 [==============================] - 25s 29ms/step - loss: 0.4625 - accuracy: 0.7803 - lr: 2.5119e-04\n",
      "Epoch 38/100\n",
      "869/869 [==============================] - 25s 29ms/step - loss: 0.4635 - accuracy: 0.7784 - lr: 2.9286e-04\n",
      "Epoch 39/100\n",
      "869/869 [==============================] - 25s 29ms/step - loss: 0.4644 - accuracy: 0.7797 - lr: 3.4145e-04\n",
      "Epoch 40/100\n",
      "869/869 [==============================] - 25s 29ms/step - loss: 0.4652 - accuracy: 0.7788 - lr: 3.9811e-04\n",
      "Epoch 41/100\n",
      "869/869 [==============================] - 25s 29ms/step - loss: 0.4653 - accuracy: 0.7778 - lr: 4.6416e-04\n",
      "Epoch 42/100\n",
      "869/869 [==============================] - 25s 29ms/step - loss: 0.5307 - accuracy: 0.7250 - lr: 5.4117e-04\n",
      "Epoch 43/100\n",
      "869/869 [==============================] - 25s 29ms/step - loss: 0.5494 - accuracy: 0.7139 - lr: 6.3096e-04\n",
      "Epoch 44/100\n",
      "869/869 [==============================] - 25s 29ms/step - loss: 0.5378 - accuracy: 0.7238 - lr: 7.3564e-04\n",
      "Epoch 45/100\n",
      "869/869 [==============================] - 25s 29ms/step - loss: 0.5335 - accuracy: 0.7270 - lr: 8.5770e-04\n",
      "Epoch 46/100\n",
      "869/869 [==============================] - 25s 29ms/step - loss: 0.5204 - accuracy: 0.7355 - lr: 0.0010\n",
      "Epoch 47/100\n",
      "869/869 [==============================] - 25s 29ms/step - loss: 0.4940 - accuracy: 0.7561 - lr: 0.0012\n",
      "Epoch 48/100\n",
      "869/869 [==============================] - 25s 29ms/step - loss: 0.4982 - accuracy: 0.7533 - lr: 0.0014\n",
      "Epoch 49/100\n",
      "869/869 [==============================] - 25s 29ms/step - loss: 0.5204 - accuracy: 0.7400 - lr: 0.0016\n",
      "Epoch 50/100\n",
      "869/869 [==============================] - 25s 29ms/step - loss: 0.5102 - accuracy: 0.7462 - lr: 0.0018\n",
      "Epoch 51/100\n",
      "869/869 [==============================] - 25s 29ms/step - loss: 0.5154 - accuracy: 0.7452 - lr: 0.0022\n",
      "Epoch 52/100\n",
      "869/869 [==============================] - 25s 29ms/step - loss: 0.5107 - accuracy: 0.7458 - lr: 0.0025\n",
      "Epoch 53/100\n",
      "869/869 [==============================] - 25s 29ms/step - loss: 0.5235 - accuracy: 0.7336 - lr: 0.0029\n",
      "Epoch 54/100\n",
      "869/869 [==============================] - 25s 29ms/step - loss: 0.5420 - accuracy: 0.7216 - lr: 0.0034\n",
      "Epoch 55/100\n",
      "869/869 [==============================] - 25s 29ms/step - loss: 0.5466 - accuracy: 0.7198 - lr: 0.0040\n",
      "Epoch 56/100\n",
      "869/869 [==============================] - 25s 29ms/step - loss: 0.5544 - accuracy: 0.7144 - lr: 0.0046\n",
      "Epoch 57/100\n",
      "869/869 [==============================] - 25s 29ms/step - loss: 0.5545 - accuracy: 0.7135 - lr: 0.0054\n",
      "Epoch 58/100\n",
      "869/869 [==============================] - 25s 29ms/step - loss: 0.5588 - accuracy: 0.7136 - lr: 0.0063\n",
      "Epoch 59/100\n",
      "869/869 [==============================] - 25s 29ms/step - loss: 0.5736 - accuracy: 0.6998 - lr: 0.0074\n",
      "Epoch 60/100\n",
      "869/869 [==============================] - 25s 29ms/step - loss: 0.5920 - accuracy: 0.6853 - lr: 0.0086\n",
      "Epoch 61/100\n",
      "869/869 [==============================] - 25s 29ms/step - loss: 0.5978 - accuracy: 0.6817 - lr: 0.0100\n",
      "Epoch 62/100\n",
      "869/869 [==============================] - 25s 29ms/step - loss: 0.6055 - accuracy: 0.6733 - lr: 0.0117\n",
      "Epoch 63/100\n",
      "869/869 [==============================] - 25s 29ms/step - loss: 0.6105 - accuracy: 0.6730 - lr: 0.0136\n",
      "Epoch 64/100\n",
      "869/869 [==============================] - 25s 29ms/step - loss: 0.6293 - accuracy: 0.6544 - lr: 0.0158\n",
      "Epoch 65/100\n",
      "869/869 [==============================] - 25s 29ms/step - loss: 0.6441 - accuracy: 0.6327 - lr: 0.0185\n",
      "Epoch 66/100\n",
      "869/869 [==============================] - 25s 29ms/step - loss: 0.6449 - accuracy: 0.6359 - lr: 0.0215\n",
      "Epoch 67/100\n",
      "869/869 [==============================] - 25s 29ms/step - loss: 0.6510 - accuracy: 0.6301 - lr: 0.0251\n",
      "Epoch 68/100\n",
      "869/869 [==============================] - 25s 29ms/step - loss: 0.6801 - accuracy: 0.6026 - lr: 0.0293\n",
      "Epoch 69/100\n"
     ]
    },
    {
     "name": "stdout",
     "output_type": "stream",
     "text": [
      "869/869 [==============================] - 25s 29ms/step - loss: 0.6908 - accuracy: 0.5918 - lr: 0.0341\n",
      "Epoch 70/100\n",
      "869/869 [==============================] - 25s 29ms/step - loss: 0.6940 - accuracy: 0.5875 - lr: 0.0398\n",
      "Epoch 71/100\n",
      "869/869 [==============================] - 25s 29ms/step - loss: 0.7077 - accuracy: 0.5887 - lr: 0.0464\n",
      "Epoch 72/100\n",
      "869/869 [==============================] - 25s 29ms/step - loss: 0.7229 - accuracy: 0.5799 - lr: 0.0541\n",
      "Epoch 73/100\n",
      "869/869 [==============================] - 25s 29ms/step - loss: 0.7345 - accuracy: 0.5676 - lr: 0.0631\n",
      "Epoch 74/100\n",
      "869/869 [==============================] - 25s 29ms/step - loss: 0.7487 - accuracy: 0.5668 - lr: 0.0736\n",
      "Epoch 75/100\n",
      "869/869 [==============================] - 25s 29ms/step - loss: 0.7704 - accuracy: 0.5607 - lr: 0.0858\n",
      "Epoch 76/100\n",
      "869/869 [==============================] - 25s 29ms/step - loss: 0.8027 - accuracy: 0.5601 - lr: 0.1000\n",
      "Epoch 77/100\n",
      "869/869 [==============================] - 25s 29ms/step - loss: 0.8409 - accuracy: 0.5513 - lr: 0.1166\n",
      "Epoch 78/100\n",
      "869/869 [==============================] - 25s 29ms/step - loss: 0.8456 - accuracy: 0.5549 - lr: 0.1359\n",
      "Epoch 79/100\n",
      "869/869 [==============================] - 25s 29ms/step - loss: 0.8896 - accuracy: 0.5585 - lr: 0.1585\n",
      "Epoch 80/100\n",
      "869/869 [==============================] - 25s 29ms/step - loss: 0.9352 - accuracy: 0.5506 - lr: 0.1848\n",
      "Epoch 81/100\n",
      "869/869 [==============================] - 25s 29ms/step - loss: 1.0110 - accuracy: 0.5481 - lr: 0.2154\n",
      "Epoch 82/100\n",
      "869/869 [==============================] - 25s 29ms/step - loss: 1.0287 - accuracy: 0.5594 - lr: 0.2512\n",
      "Epoch 83/100\n",
      "869/869 [==============================] - 25s 29ms/step - loss: 1.1579 - accuracy: 0.5602 - lr: 0.2929\n",
      "Epoch 84/100\n",
      "869/869 [==============================] - 25s 29ms/step - loss: 1.2223 - accuracy: 0.5594 - lr: 0.3415\n",
      "Epoch 85/100\n",
      "869/869 [==============================] - 25s 29ms/step - loss: 1.3151 - accuracy: 0.5509 - lr: 0.3981\n",
      "Epoch 86/100\n",
      "869/869 [==============================] - 25s 28ms/step - loss: 1.5399 - accuracy: 0.5507 - lr: 0.4642\n",
      "Epoch 87/100\n",
      "869/869 [==============================] - 25s 28ms/step - loss: 1.4910 - accuracy: 0.5464 - lr: 0.5412\n",
      "Epoch 88/100\n",
      "869/869 [==============================] - 25s 28ms/step - loss: 1.8345 - accuracy: 0.5466 - lr: 0.6310\n",
      "Epoch 89/100\n",
      "869/869 [==============================] - 25s 29ms/step - loss: 2.1458 - accuracy: 0.5418 - lr: 0.7356\n",
      "Epoch 90/100\n",
      "869/869 [==============================] - 25s 28ms/step - loss: 1.9903 - accuracy: 0.5406 - lr: 0.8577\n",
      "Epoch 91/100\n",
      "869/869 [==============================] - 24s 28ms/step - loss: 2.7541 - accuracy: 0.5360 - lr: 1.0000\n",
      "Epoch 92/100\n",
      "869/869 [==============================] - 25s 28ms/step - loss: 2.8161 - accuracy: 0.5440 - lr: 1.1659\n",
      "Epoch 93/100\n",
      "869/869 [==============================] - 25s 28ms/step - loss: 3.4090 - accuracy: 0.5429 - lr: 1.3594\n",
      "Epoch 94/100\n",
      "869/869 [==============================] - 25s 28ms/step - loss: 3.6057 - accuracy: 0.5421 - lr: 1.5849\n",
      "Epoch 95/100\n",
      "869/869 [==============================] - 24s 28ms/step - loss: 4.9161 - accuracy: 0.5454 - lr: 1.8478\n",
      "Epoch 96/100\n",
      "869/869 [==============================] - 24s 28ms/step - loss: 6.0091 - accuracy: 0.5445 - lr: 2.1544\n",
      "Epoch 97/100\n",
      "869/869 [==============================] - 24s 28ms/step - loss: 6.1867 - accuracy: 0.5426 - lr: 2.5119\n",
      "Epoch 98/100\n",
      "869/869 [==============================] - 24s 28ms/step - loss: 7.2171 - accuracy: 0.5411 - lr: 2.9286\n",
      "Epoch 99/100\n",
      "869/869 [==============================] - 24s 28ms/step - loss: 9.3387 - accuracy: 0.5493 - lr: 3.4145\n",
      "Epoch 100/100\n",
      "869/869 [==============================] - 24s 28ms/step - loss: 10.7017 - accuracy: 0.5406 - lr: 3.9811\n"
     ]
    },
    {
     "data": {
      "image/png": "[encoded data removed]",
      "text/plain": [
       "<Figure size 432x288 with 1 Axes>"
      ]
     },
     "metadata": {
      "needs_background": "light"
     },
     "output_type": "display_data"
    },
    {
     "data": {
      "text/plain": [
       "<keras.callbacks.History at 0x314154d30>"
      ]
     },
     "execution_count": 78,
     "metadata": {},
     "output_type": "execute_result"
    }
   ],
   "source": [
    "determine_lr(model_gru,'Model GRU',1e-6)"
   ]
  },
  {
   "cell_type": "code",
   "execution_count": 67,
   "id": "61012b11",
   "metadata": {},
   "outputs": [
    {
     "name": "stdout",
     "output_type": "stream",
     "text": [
      "Model: \"sequential_7\"\n",
      "_________________________________________________________________\n",
      " Layer (type)                Output Shape              Param #   \n",
      "=================================================================\n",
      " embedding_7 (Embedding)     (None, 29, 16)            64000     \n",
      "                                                                 \n",
      " bidirectional_2 (Bidirectio  (None, 32)               4224      \n",
      " nal)                                                            \n",
      "                                                                 \n",
      " dense_7 (Dense)             (None, 1)                 33        \n",
      "                                                                 \n",
      "=================================================================\n",
      "Total params: 68,257\n",
      "Trainable params: 68,257\n",
      "Non-trainable params: 0\n",
      "_________________________________________________________________\n",
      "Epoch 1/30\n"
     ]
    },
    {
     "name": "stderr",
     "output_type": "stream",
     "text": [
      "2023-01-28 14:48:51.982108: I tensorflow/core/grappler/optimizers/custom_graph_optimizer_registry.cc:113] Plugin optimizer for device_type GPU is enabled.\n",
      "2023-01-28 14:48:52.272229: I tensorflow/core/grappler/optimizers/custom_graph_optimizer_registry.cc:113] Plugin optimizer for device_type GPU is enabled.\n",
      "2023-01-28 14:48:52.284394: I tensorflow/core/grappler/optimizers/custom_graph_optimizer_registry.cc:113] Plugin optimizer for device_type GPU is enabled.\n",
      "2023-01-28 14:48:52.692930: I tensorflow/core/grappler/optimizers/custom_graph_optimizer_registry.cc:113] Plugin optimizer for device_type GPU is enabled.\n",
      "2023-01-28 14:48:52.706912: I tensorflow/core/grappler/optimizers/custom_graph_optimizer_registry.cc:113] Plugin optimizer for device_type GPU is enabled.\n"
     ]
    },
    {
     "name": "stdout",
     "output_type": "stream",
     "text": [
      "869/869 [==============================] - ETA: 0s - loss: 0.6762 - accuracy: 0.6168"
     ]
    },
    {
     "name": "stderr",
     "output_type": "stream",
     "text": [
      "2023-01-28 14:49:19.538625: I tensorflow/core/grappler/optimizers/custom_graph_optimizer_registry.cc:113] Plugin optimizer for device_type GPU is enabled.\n",
      "2023-01-28 14:49:19.618769: I tensorflow/core/grappler/optimizers/custom_graph_optimizer_registry.cc:113] Plugin optimizer for device_type GPU is enabled.\n",
      "2023-01-28 14:49:19.626497: I tensorflow/core/grappler/optimizers/custom_graph_optimizer_registry.cc:113] Plugin optimizer for device_type GPU is enabled.\n"
     ]
    },
    {
     "name": "stdout",
     "output_type": "stream",
     "text": [
      "869/869 [==============================] - 32s 34ms/step - loss: 0.6762 - accuracy: 0.6168 - val_loss: 0.6640 - val_accuracy: 0.6192\n",
      "Epoch 2/30\n",
      "869/869 [==============================] - 27s 31ms/step - loss: 0.6637 - accuracy: 0.6178 - val_loss: 0.6620 - val_accuracy: 0.6192\n",
      "Epoch 3/30\n",
      "869/869 [==============================] - 27s 31ms/step - loss: 0.6614 - accuracy: 0.6178 - val_loss: 0.6593 - val_accuracy: 0.6192\n",
      "Epoch 4/30\n",
      "869/869 [==============================] - 27s 31ms/step - loss: 0.6576 - accuracy: 0.6178 - val_loss: 0.6546 - val_accuracy: 0.6192\n",
      "Epoch 5/30\n",
      "869/869 [==============================] - 28s 32ms/step - loss: 0.6498 - accuracy: 0.6178 - val_loss: 0.6422 - val_accuracy: 0.6191\n",
      "Epoch 6/30\n",
      "869/869 [==============================] - 27s 31ms/step - loss: 0.6131 - accuracy: 0.6424 - val_loss: 0.5941 - val_accuracy: 0.6851\n",
      "Epoch 7/30\n",
      "869/869 [==============================] - 27s 31ms/step - loss: 0.5748 - accuracy: 0.7151 - val_loss: 0.5787 - val_accuracy: 0.7043\n",
      "Epoch 8/30\n",
      "869/869 [==============================] - 262s 301ms/step - loss: 0.5553 - accuracy: 0.7300 - val_loss: 0.5690 - val_accuracy: 0.7107\n",
      "Epoch 9/30\n",
      "869/869 [==============================] - 28s 33ms/step - loss: 0.5391 - accuracy: 0.7397 - val_loss: 0.5630 - val_accuracy: 0.7090\n",
      "Epoch 10/30\n",
      "869/869 [==============================] - 28s 33ms/step - loss: 0.5259 - accuracy: 0.7477 - val_loss: 0.5584 - val_accuracy: 0.7106\n",
      "Epoch 11/30\n",
      "869/869 [==============================] - 28s 32ms/step - loss: 0.5142 - accuracy: 0.7560 - val_loss: 0.5565 - val_accuracy: 0.7173\n",
      "Epoch 12/30\n",
      "869/869 [==============================] - 28s 32ms/step - loss: 0.5053 - accuracy: 0.7626 - val_loss: 0.5547 - val_accuracy: 0.7161\n",
      "Epoch 13/30\n",
      "869/869 [==============================] - 27s 31ms/step - loss: 0.4975 - accuracy: 0.7694 - val_loss: 0.5555 - val_accuracy: 0.7156\n",
      "Epoch 14/30\n",
      "869/869 [==============================] - 27s 31ms/step - loss: 0.4916 - accuracy: 0.7719 - val_loss: 0.5559 - val_accuracy: 0.7145\n",
      "Epoch 15/30\n",
      "869/869 [==============================] - 27s 31ms/step - loss: 0.4866 - accuracy: 0.7760 - val_loss: 0.5576 - val_accuracy: 0.7166\n",
      "Epoch 16/30\n",
      "869/869 [==============================] - 27s 31ms/step - loss: 0.4821 - accuracy: 0.7799 - val_loss: 0.5588 - val_accuracy: 0.7185\n",
      "Epoch 17/30\n",
      "869/869 [==============================] - 27s 31ms/step - loss: 0.4778 - accuracy: 0.7838 - val_loss: 0.5615 - val_accuracy: 0.7135\n",
      "Epoch 18/30\n",
      "869/869 [==============================] - 28s 33ms/step - loss: 0.4738 - accuracy: 0.7866 - val_loss: 0.5623 - val_accuracy: 0.7186\n",
      "Epoch 19/30\n",
      "869/869 [==============================] - 27s 31ms/step - loss: 0.4711 - accuracy: 0.7886 - val_loss: 0.5642 - val_accuracy: 0.7179\n",
      "Epoch 20/30\n",
      "869/869 [==============================] - 28s 32ms/step - loss: 0.4679 - accuracy: 0.7909 - val_loss: 0.5658 - val_accuracy: 0.7176\n",
      "Epoch 21/30\n",
      "869/869 [==============================] - 28s 33ms/step - loss: 0.4652 - accuracy: 0.7940 - val_loss: 0.5689 - val_accuracy: 0.7136\n",
      "Epoch 22/30\n",
      "869/869 [==============================] - 28s 32ms/step - loss: 0.4622 - accuracy: 0.7965 - val_loss: 0.5712 - val_accuracy: 0.7125\n",
      "Epoch 23/30\n",
      "869/869 [==============================] - 28s 32ms/step - loss: 0.4599 - accuracy: 0.7978 - val_loss: 0.5756 - val_accuracy: 0.7091\n",
      "Epoch 24/30\n",
      "869/869 [==============================] - 27s 31ms/step - loss: 0.4575 - accuracy: 0.8002 - val_loss: 0.5746 - val_accuracy: 0.7169\n",
      "Epoch 25/30\n",
      "869/869 [==============================] - 28s 32ms/step - loss: 0.4560 - accuracy: 0.8002 - val_loss: 0.5772 - val_accuracy: 0.7091\n",
      "Epoch 26/30\n",
      "869/869 [==============================] - 30s 34ms/step - loss: 0.4533 - accuracy: 0.8040 - val_loss: 0.5792 - val_accuracy: 0.7122\n",
      "Epoch 27/30\n",
      "869/869 [==============================] - 29s 33ms/step - loss: 0.4517 - accuracy: 0.8052 - val_loss: 0.5819 - val_accuracy: 0.7100\n",
      "Epoch 28/30\n",
      "869/869 [==============================] - 29s 33ms/step - loss: 0.4498 - accuracy: 0.8054 - val_loss: 0.5839 - val_accuracy: 0.7130\n",
      "Epoch 29/30\n",
      "869/869 [==============================] - 29s 34ms/step - loss: 0.4481 - accuracy: 0.8088 - val_loss: 0.5873 - val_accuracy: 0.7084\n",
      "Epoch 30/30\n",
      "869/869 [==============================] - 26s 30ms/step - loss: 0.4464 - accuracy: 0.8101 - val_loss: 0.5905 - val_accuracy: 0.7063\n"
     ]
    },
    {
     "data": {
      "image/png": "[encoded data removed]",
      "text/plain": [
       "<Figure size 432x288 with 1 Axes>"
      ]
     },
     "metadata": {
      "needs_background": "light"
     },
     "output_type": "display_data"
    },
    {
     "data": {
      "image/png": "[encoded data removed]",
      "text/plain": [
       "<Figure size 432x288 with 1 Axes>"
      ]
     },
     "metadata": {
      "needs_background": "light"
     },
     "output_type": "display_data"
    }
   ],
   "source": [
    "num_epochs = 30\n",
    "\n",
    "model_bidi_lstm = tf.keras.Sequential([\n",
    "    tf.keras.layers.Embedding(vocab_size, embedding_dim, input_length=max_length),\n",
    "    tf.keras.layers.Bidirectional(tf.keras.layers.LSTM(embedding_dim)), \n",
    "    tf.keras.layers.Dense(1, activation='sigmoid')\n",
    "])\n",
    "\n",
    "learning_rate = 0.00003\n",
    "model_bidi_lstm.compile(loss='binary_crossentropy',\n",
    "                        optimizer=tf.keras.optimizers.Adam(learning_rate),\n",
    "                        metrics=['accuracy'])\n",
    "fit_model_and_show_results(model_bidi_lstm)"
   ]
  },
  {
   "cell_type": "code",
   "execution_count": 69,
   "id": "892fce22",
   "metadata": {},
   "outputs": [
    {
     "name": "stdout",
     "output_type": "stream",
     "text": [
      "Model: \"sequential_9\"\n",
      "_________________________________________________________________\n",
      " Layer (type)                Output Shape              Param #   \n",
      "=================================================================\n",
      " embedding_9 (Embedding)     (None, 29, 16)            64000     \n",
      "                                                                 \n",
      " bidirectional_5 (Bidirectio  (None, 29, 32)           4224      \n",
      " nal)                                                            \n",
      "                                                                 \n",
      " bidirectional_6 (Bidirectio  (None, 32)               6272      \n",
      " nal)                                                            \n",
      "                                                                 \n",
      " dense_9 (Dense)             (None, 1)                 33        \n",
      "                                                                 \n",
      "=================================================================\n",
      "Total params: 74,529\n",
      "Trainable params: 74,529\n",
      "Non-trainable params: 0\n",
      "_________________________________________________________________\n",
      "Epoch 1/30\n"
     ]
    },
    {
     "name": "stderr",
     "output_type": "stream",
     "text": [
      "2023-01-28 15:09:35.257134: I tensorflow/core/grappler/optimizers/custom_graph_optimizer_registry.cc:113] Plugin optimizer for device_type GPU is enabled.\n",
      "2023-01-28 15:09:35.612548: I tensorflow/core/grappler/optimizers/custom_graph_optimizer_registry.cc:113] Plugin optimizer for device_type GPU is enabled.\n",
      "2023-01-28 15:09:35.632953: I tensorflow/core/grappler/optimizers/custom_graph_optimizer_registry.cc:113] Plugin optimizer for device_type GPU is enabled.\n",
      "2023-01-28 15:09:35.813575: I tensorflow/core/grappler/optimizers/custom_graph_optimizer_registry.cc:113] Plugin optimizer for device_type GPU is enabled.\n",
      "2023-01-28 15:09:35.824070: I tensorflow/core/grappler/optimizers/custom_graph_optimizer_registry.cc:113] Plugin optimizer for device_type GPU is enabled.\n",
      "2023-01-28 15:09:36.140558: I tensorflow/core/grappler/optimizers/custom_graph_optimizer_registry.cc:113] Plugin optimizer for device_type GPU is enabled.\n",
      "2023-01-28 15:09:36.155728: I tensorflow/core/grappler/optimizers/custom_graph_optimizer_registry.cc:113] Plugin optimizer for device_type GPU is enabled.\n",
      "2023-01-28 15:09:36.425285: I tensorflow/core/grappler/optimizers/custom_graph_optimizer_registry.cc:113] Plugin optimizer for device_type GPU is enabled.\n",
      "2023-01-28 15:09:36.440897: I tensorflow/core/grappler/optimizers/custom_graph_optimizer_registry.cc:113] Plugin optimizer for device_type GPU is enabled.\n"
     ]
    },
    {
     "name": "stdout",
     "output_type": "stream",
     "text": [
      "425/869 [=============>................] - ETA: 23s - loss: 0.6540 - accuracy: 0.6238"
     ]
    },
    {
     "ename": "KeyboardInterrupt",
     "evalue": "",
     "output_type": "error",
     "traceback": [
      "\u001b[0;31m---------------------------------------------------------------------------\u001b[0m",
      "\u001b[0;31mKeyboardInterrupt\u001b[0m                         Traceback (most recent call last)",
      "Input \u001b[0;32mIn [69]\u001b[0m, in \u001b[0;36m<cell line: 15>\u001b[0;34m()\u001b[0m\n\u001b[1;32m     11\u001b[0m learning_rate \u001b[38;5;241m=\u001b[39m \u001b[38;5;241m0.0003\u001b[39m\n\u001b[1;32m     12\u001b[0m model_multiple_bidi_lstm\u001b[38;5;241m.\u001b[39mcompile(loss\u001b[38;5;241m=\u001b[39m\u001b[38;5;124m'\u001b[39m\u001b[38;5;124mbinary_crossentropy\u001b[39m\u001b[38;5;124m'\u001b[39m,\n\u001b[1;32m     13\u001b[0m                                  optimizer\u001b[38;5;241m=\u001b[39mtf\u001b[38;5;241m.\u001b[39mkeras\u001b[38;5;241m.\u001b[39moptimizers\u001b[38;5;241m.\u001b[39mAdam(learning_rate),\n\u001b[1;32m     14\u001b[0m                                  metrics\u001b[38;5;241m=\u001b[39m[\u001b[38;5;124m'\u001b[39m\u001b[38;5;124maccuracy\u001b[39m\u001b[38;5;124m'\u001b[39m])\n\u001b[0;32m---> 15\u001b[0m \u001b[43mfit_model_and_show_results\u001b[49m\u001b[43m(\u001b[49m\u001b[43mmodel_multiple_bidi_lstm\u001b[49m\u001b[43m)\u001b[49m\n",
      "Input \u001b[0;32mIn [63]\u001b[0m, in \u001b[0;36mfit_model_and_show_results\u001b[0;34m(model)\u001b[0m\n\u001b[1;32m      1\u001b[0m \u001b[38;5;28;01mdef\u001b[39;00m \u001b[38;5;21mfit_model_and_show_results\u001b[39m(model):\n\u001b[1;32m      2\u001b[0m     model\u001b[38;5;241m.\u001b[39msummary()\n\u001b[0;32m----> 3\u001b[0m     history \u001b[38;5;241m=\u001b[39m \u001b[43mmodel\u001b[49m\u001b[38;5;241;43m.\u001b[39;49m\u001b[43mfit\u001b[49m\u001b[43m(\u001b[49m\u001b[43mX_train\u001b[49m\u001b[43m,\u001b[49m\u001b[43m \u001b[49m\u001b[43my_train\u001b[49m\u001b[43m,\u001b[49m\u001b[43m \u001b[49m\u001b[43mepochs\u001b[49m\u001b[38;5;241;43m=\u001b[39;49m\u001b[43mnum_epochs\u001b[49m\u001b[43m,\u001b[49m\u001b[43m \u001b[49m\n\u001b[1;32m      4\u001b[0m \u001b[43m                      \u001b[49m\u001b[43mvalidation_data\u001b[49m\u001b[38;5;241;43m=\u001b[39;49m\u001b[43m(\u001b[49m\u001b[43mX_test\u001b[49m\u001b[43m,\u001b[49m\u001b[43m \u001b[49m\u001b[43my_test\u001b[49m\u001b[43m)\u001b[49m\u001b[43m)\u001b[49m\n\u001b[1;32m      5\u001b[0m     plot_graphs(history, \u001b[38;5;124m\"\u001b[39m\u001b[38;5;124maccuracy\u001b[39m\u001b[38;5;124m\"\u001b[39m)\n\u001b[1;32m      6\u001b[0m     plot_graphs(history, \u001b[38;5;124m\"\u001b[39m\u001b[38;5;124mloss\u001b[39m\u001b[38;5;124m\"\u001b[39m)\n",
      "File \u001b[0;32m~/miniforge3/lib/python3.9/site-packages/keras/utils/traceback_utils.py:64\u001b[0m, in \u001b[0;36mfilter_traceback.<locals>.error_handler\u001b[0;34m(*args, **kwargs)\u001b[0m\n\u001b[1;32m     62\u001b[0m filtered_tb \u001b[38;5;241m=\u001b[39m \u001b[38;5;28;01mNone\u001b[39;00m\n\u001b[1;32m     63\u001b[0m \u001b[38;5;28;01mtry\u001b[39;00m:\n\u001b[0;32m---> 64\u001b[0m   \u001b[38;5;28;01mreturn\u001b[39;00m \u001b[43mfn\u001b[49m\u001b[43m(\u001b[49m\u001b[38;5;241;43m*\u001b[39;49m\u001b[43margs\u001b[49m\u001b[43m,\u001b[49m\u001b[43m \u001b[49m\u001b[38;5;241;43m*\u001b[39;49m\u001b[38;5;241;43m*\u001b[39;49m\u001b[43mkwargs\u001b[49m\u001b[43m)\u001b[49m\n\u001b[1;32m     65\u001b[0m \u001b[38;5;28;01mexcept\u001b[39;00m \u001b[38;5;167;01mException\u001b[39;00m \u001b[38;5;28;01mas\u001b[39;00m e:  \u001b[38;5;66;03m# pylint: disable=broad-except\u001b[39;00m\n\u001b[1;32m     66\u001b[0m   filtered_tb \u001b[38;5;241m=\u001b[39m _process_traceback_frames(e\u001b[38;5;241m.\u001b[39m__traceback__)\n",
      "File \u001b[0;32m~/miniforge3/lib/python3.9/site-packages/keras/engine/training.py:1409\u001b[0m, in \u001b[0;36mModel.fit\u001b[0;34m(self, x, y, batch_size, epochs, verbose, callbacks, validation_split, validation_data, shuffle, class_weight, sample_weight, initial_epoch, steps_per_epoch, validation_steps, validation_batch_size, validation_freq, max_queue_size, workers, use_multiprocessing)\u001b[0m\n\u001b[1;32m   1402\u001b[0m \u001b[38;5;28;01mwith\u001b[39;00m tf\u001b[38;5;241m.\u001b[39mprofiler\u001b[38;5;241m.\u001b[39mexperimental\u001b[38;5;241m.\u001b[39mTrace(\n\u001b[1;32m   1403\u001b[0m     \u001b[38;5;124m'\u001b[39m\u001b[38;5;124mtrain\u001b[39m\u001b[38;5;124m'\u001b[39m,\n\u001b[1;32m   1404\u001b[0m     epoch_num\u001b[38;5;241m=\u001b[39mepoch,\n\u001b[1;32m   1405\u001b[0m     step_num\u001b[38;5;241m=\u001b[39mstep,\n\u001b[1;32m   1406\u001b[0m     batch_size\u001b[38;5;241m=\u001b[39mbatch_size,\n\u001b[1;32m   1407\u001b[0m     _r\u001b[38;5;241m=\u001b[39m\u001b[38;5;241m1\u001b[39m):\n\u001b[1;32m   1408\u001b[0m   callbacks\u001b[38;5;241m.\u001b[39mon_train_batch_begin(step)\n\u001b[0;32m-> 1409\u001b[0m   tmp_logs \u001b[38;5;241m=\u001b[39m \u001b[38;5;28;43mself\u001b[39;49m\u001b[38;5;241;43m.\u001b[39;49m\u001b[43mtrain_function\u001b[49m\u001b[43m(\u001b[49m\u001b[43miterator\u001b[49m\u001b[43m)\u001b[49m\n\u001b[1;32m   1410\u001b[0m   \u001b[38;5;28;01mif\u001b[39;00m data_handler\u001b[38;5;241m.\u001b[39mshould_sync:\n\u001b[1;32m   1411\u001b[0m     context\u001b[38;5;241m.\u001b[39masync_wait()\n",
      "File \u001b[0;32m~/miniforge3/lib/python3.9/site-packages/tensorflow/python/util/traceback_utils.py:150\u001b[0m, in \u001b[0;36mfilter_traceback.<locals>.error_handler\u001b[0;34m(*args, **kwargs)\u001b[0m\n\u001b[1;32m    148\u001b[0m filtered_tb \u001b[38;5;241m=\u001b[39m \u001b[38;5;28;01mNone\u001b[39;00m\n\u001b[1;32m    149\u001b[0m \u001b[38;5;28;01mtry\u001b[39;00m:\n\u001b[0;32m--> 150\u001b[0m   \u001b[38;5;28;01mreturn\u001b[39;00m \u001b[43mfn\u001b[49m\u001b[43m(\u001b[49m\u001b[38;5;241;43m*\u001b[39;49m\u001b[43margs\u001b[49m\u001b[43m,\u001b[49m\u001b[43m \u001b[49m\u001b[38;5;241;43m*\u001b[39;49m\u001b[38;5;241;43m*\u001b[39;49m\u001b[43mkwargs\u001b[49m\u001b[43m)\u001b[49m\n\u001b[1;32m    151\u001b[0m \u001b[38;5;28;01mexcept\u001b[39;00m \u001b[38;5;167;01mException\u001b[39;00m \u001b[38;5;28;01mas\u001b[39;00m e:\n\u001b[1;32m    152\u001b[0m   filtered_tb \u001b[38;5;241m=\u001b[39m _process_traceback_frames(e\u001b[38;5;241m.\u001b[39m__traceback__)\n",
      "File \u001b[0;32m~/miniforge3/lib/python3.9/site-packages/tensorflow/python/eager/def_function.py:915\u001b[0m, in \u001b[0;36mFunction.__call__\u001b[0;34m(self, *args, **kwds)\u001b[0m\n\u001b[1;32m    912\u001b[0m compiler \u001b[38;5;241m=\u001b[39m \u001b[38;5;124m\"\u001b[39m\u001b[38;5;124mxla\u001b[39m\u001b[38;5;124m\"\u001b[39m \u001b[38;5;28;01mif\u001b[39;00m \u001b[38;5;28mself\u001b[39m\u001b[38;5;241m.\u001b[39m_jit_compile \u001b[38;5;28;01melse\u001b[39;00m \u001b[38;5;124m\"\u001b[39m\u001b[38;5;124mnonXla\u001b[39m\u001b[38;5;124m\"\u001b[39m\n\u001b[1;32m    914\u001b[0m \u001b[38;5;28;01mwith\u001b[39;00m OptionalXlaContext(\u001b[38;5;28mself\u001b[39m\u001b[38;5;241m.\u001b[39m_jit_compile):\n\u001b[0;32m--> 915\u001b[0m   result \u001b[38;5;241m=\u001b[39m \u001b[38;5;28;43mself\u001b[39;49m\u001b[38;5;241;43m.\u001b[39;49m\u001b[43m_call\u001b[49m\u001b[43m(\u001b[49m\u001b[38;5;241;43m*\u001b[39;49m\u001b[43margs\u001b[49m\u001b[43m,\u001b[49m\u001b[43m \u001b[49m\u001b[38;5;241;43m*\u001b[39;49m\u001b[38;5;241;43m*\u001b[39;49m\u001b[43mkwds\u001b[49m\u001b[43m)\u001b[49m\n\u001b[1;32m    917\u001b[0m new_tracing_count \u001b[38;5;241m=\u001b[39m \u001b[38;5;28mself\u001b[39m\u001b[38;5;241m.\u001b[39mexperimental_get_tracing_count()\n\u001b[1;32m    918\u001b[0m without_tracing \u001b[38;5;241m=\u001b[39m (tracing_count \u001b[38;5;241m==\u001b[39m new_tracing_count)\n",
      "File \u001b[0;32m~/miniforge3/lib/python3.9/site-packages/tensorflow/python/eager/def_function.py:947\u001b[0m, in \u001b[0;36mFunction._call\u001b[0;34m(self, *args, **kwds)\u001b[0m\n\u001b[1;32m    944\u001b[0m   \u001b[38;5;28mself\u001b[39m\u001b[38;5;241m.\u001b[39m_lock\u001b[38;5;241m.\u001b[39mrelease()\n\u001b[1;32m    945\u001b[0m   \u001b[38;5;66;03m# In this case we have created variables on the first call, so we run the\u001b[39;00m\n\u001b[1;32m    946\u001b[0m   \u001b[38;5;66;03m# defunned version which is guaranteed to never create variables.\u001b[39;00m\n\u001b[0;32m--> 947\u001b[0m   \u001b[38;5;28;01mreturn\u001b[39;00m \u001b[38;5;28;43mself\u001b[39;49m\u001b[38;5;241;43m.\u001b[39;49m\u001b[43m_stateless_fn\u001b[49m\u001b[43m(\u001b[49m\u001b[38;5;241;43m*\u001b[39;49m\u001b[43margs\u001b[49m\u001b[43m,\u001b[49m\u001b[43m \u001b[49m\u001b[38;5;241;43m*\u001b[39;49m\u001b[38;5;241;43m*\u001b[39;49m\u001b[43mkwds\u001b[49m\u001b[43m)\u001b[49m  \u001b[38;5;66;03m# pylint: disable=not-callable\u001b[39;00m\n\u001b[1;32m    948\u001b[0m \u001b[38;5;28;01melif\u001b[39;00m \u001b[38;5;28mself\u001b[39m\u001b[38;5;241m.\u001b[39m_stateful_fn \u001b[38;5;129;01mis\u001b[39;00m \u001b[38;5;129;01mnot\u001b[39;00m \u001b[38;5;28;01mNone\u001b[39;00m:\n\u001b[1;32m    949\u001b[0m   \u001b[38;5;66;03m# Release the lock early so that multiple threads can perform the call\u001b[39;00m\n\u001b[1;32m    950\u001b[0m   \u001b[38;5;66;03m# in parallel.\u001b[39;00m\n\u001b[1;32m    951\u001b[0m   \u001b[38;5;28mself\u001b[39m\u001b[38;5;241m.\u001b[39m_lock\u001b[38;5;241m.\u001b[39mrelease()\n",
      "File \u001b[0;32m~/miniforge3/lib/python3.9/site-packages/tensorflow/python/eager/function.py:2453\u001b[0m, in \u001b[0;36mFunction.__call__\u001b[0;34m(self, *args, **kwargs)\u001b[0m\n\u001b[1;32m   2450\u001b[0m \u001b[38;5;28;01mwith\u001b[39;00m \u001b[38;5;28mself\u001b[39m\u001b[38;5;241m.\u001b[39m_lock:\n\u001b[1;32m   2451\u001b[0m   (graph_function,\n\u001b[1;32m   2452\u001b[0m    filtered_flat_args) \u001b[38;5;241m=\u001b[39m \u001b[38;5;28mself\u001b[39m\u001b[38;5;241m.\u001b[39m_maybe_define_function(args, kwargs)\n\u001b[0;32m-> 2453\u001b[0m \u001b[38;5;28;01mreturn\u001b[39;00m \u001b[43mgraph_function\u001b[49m\u001b[38;5;241;43m.\u001b[39;49m\u001b[43m_call_flat\u001b[49m\u001b[43m(\u001b[49m\n\u001b[1;32m   2454\u001b[0m \u001b[43m    \u001b[49m\u001b[43mfiltered_flat_args\u001b[49m\u001b[43m,\u001b[49m\u001b[43m \u001b[49m\u001b[43mcaptured_inputs\u001b[49m\u001b[38;5;241;43m=\u001b[39;49m\u001b[43mgraph_function\u001b[49m\u001b[38;5;241;43m.\u001b[39;49m\u001b[43mcaptured_inputs\u001b[49m\u001b[43m)\u001b[49m\n",
      "File \u001b[0;32m~/miniforge3/lib/python3.9/site-packages/tensorflow/python/eager/function.py:1860\u001b[0m, in \u001b[0;36mConcreteFunction._call_flat\u001b[0;34m(self, args, captured_inputs, cancellation_manager)\u001b[0m\n\u001b[1;32m   1856\u001b[0m possible_gradient_type \u001b[38;5;241m=\u001b[39m gradients_util\u001b[38;5;241m.\u001b[39mPossibleTapeGradientTypes(args)\n\u001b[1;32m   1857\u001b[0m \u001b[38;5;28;01mif\u001b[39;00m (possible_gradient_type \u001b[38;5;241m==\u001b[39m gradients_util\u001b[38;5;241m.\u001b[39mPOSSIBLE_GRADIENT_TYPES_NONE\n\u001b[1;32m   1858\u001b[0m     \u001b[38;5;129;01mand\u001b[39;00m executing_eagerly):\n\u001b[1;32m   1859\u001b[0m   \u001b[38;5;66;03m# No tape is watching; skip to running the function.\u001b[39;00m\n\u001b[0;32m-> 1860\u001b[0m   \u001b[38;5;28;01mreturn\u001b[39;00m \u001b[38;5;28mself\u001b[39m\u001b[38;5;241m.\u001b[39m_build_call_outputs(\u001b[38;5;28;43mself\u001b[39;49m\u001b[38;5;241;43m.\u001b[39;49m\u001b[43m_inference_function\u001b[49m\u001b[38;5;241;43m.\u001b[39;49m\u001b[43mcall\u001b[49m\u001b[43m(\u001b[49m\n\u001b[1;32m   1861\u001b[0m \u001b[43m      \u001b[49m\u001b[43mctx\u001b[49m\u001b[43m,\u001b[49m\u001b[43m \u001b[49m\u001b[43margs\u001b[49m\u001b[43m,\u001b[49m\u001b[43m \u001b[49m\u001b[43mcancellation_manager\u001b[49m\u001b[38;5;241;43m=\u001b[39;49m\u001b[43mcancellation_manager\u001b[49m\u001b[43m)\u001b[49m)\n\u001b[1;32m   1862\u001b[0m forward_backward \u001b[38;5;241m=\u001b[39m \u001b[38;5;28mself\u001b[39m\u001b[38;5;241m.\u001b[39m_select_forward_and_backward_functions(\n\u001b[1;32m   1863\u001b[0m     args,\n\u001b[1;32m   1864\u001b[0m     possible_gradient_type,\n\u001b[1;32m   1865\u001b[0m     executing_eagerly)\n\u001b[1;32m   1866\u001b[0m forward_function, args_with_tangents \u001b[38;5;241m=\u001b[39m forward_backward\u001b[38;5;241m.\u001b[39mforward()\n",
      "File \u001b[0;32m~/miniforge3/lib/python3.9/site-packages/tensorflow/python/eager/function.py:497\u001b[0m, in \u001b[0;36m_EagerDefinedFunction.call\u001b[0;34m(self, ctx, args, cancellation_manager)\u001b[0m\n\u001b[1;32m    495\u001b[0m \u001b[38;5;28;01mwith\u001b[39;00m _InterpolateFunctionError(\u001b[38;5;28mself\u001b[39m):\n\u001b[1;32m    496\u001b[0m   \u001b[38;5;28;01mif\u001b[39;00m cancellation_manager \u001b[38;5;129;01mis\u001b[39;00m \u001b[38;5;28;01mNone\u001b[39;00m:\n\u001b[0;32m--> 497\u001b[0m     outputs \u001b[38;5;241m=\u001b[39m \u001b[43mexecute\u001b[49m\u001b[38;5;241;43m.\u001b[39;49m\u001b[43mexecute\u001b[49m\u001b[43m(\u001b[49m\n\u001b[1;32m    498\u001b[0m \u001b[43m        \u001b[49m\u001b[38;5;28;43mstr\u001b[39;49m\u001b[43m(\u001b[49m\u001b[38;5;28;43mself\u001b[39;49m\u001b[38;5;241;43m.\u001b[39;49m\u001b[43msignature\u001b[49m\u001b[38;5;241;43m.\u001b[39;49m\u001b[43mname\u001b[49m\u001b[43m)\u001b[49m\u001b[43m,\u001b[49m\n\u001b[1;32m    499\u001b[0m \u001b[43m        \u001b[49m\u001b[43mnum_outputs\u001b[49m\u001b[38;5;241;43m=\u001b[39;49m\u001b[38;5;28;43mself\u001b[39;49m\u001b[38;5;241;43m.\u001b[39;49m\u001b[43m_num_outputs\u001b[49m\u001b[43m,\u001b[49m\n\u001b[1;32m    500\u001b[0m \u001b[43m        \u001b[49m\u001b[43minputs\u001b[49m\u001b[38;5;241;43m=\u001b[39;49m\u001b[43margs\u001b[49m\u001b[43m,\u001b[49m\n\u001b[1;32m    501\u001b[0m \u001b[43m        \u001b[49m\u001b[43mattrs\u001b[49m\u001b[38;5;241;43m=\u001b[39;49m\u001b[43mattrs\u001b[49m\u001b[43m,\u001b[49m\n\u001b[1;32m    502\u001b[0m \u001b[43m        \u001b[49m\u001b[43mctx\u001b[49m\u001b[38;5;241;43m=\u001b[39;49m\u001b[43mctx\u001b[49m\u001b[43m)\u001b[49m\n\u001b[1;32m    503\u001b[0m   \u001b[38;5;28;01melse\u001b[39;00m:\n\u001b[1;32m    504\u001b[0m     outputs \u001b[38;5;241m=\u001b[39m execute\u001b[38;5;241m.\u001b[39mexecute_with_cancellation(\n\u001b[1;32m    505\u001b[0m         \u001b[38;5;28mstr\u001b[39m(\u001b[38;5;28mself\u001b[39m\u001b[38;5;241m.\u001b[39msignature\u001b[38;5;241m.\u001b[39mname),\n\u001b[1;32m    506\u001b[0m         num_outputs\u001b[38;5;241m=\u001b[39m\u001b[38;5;28mself\u001b[39m\u001b[38;5;241m.\u001b[39m_num_outputs,\n\u001b[0;32m   (...)\u001b[0m\n\u001b[1;32m    509\u001b[0m         ctx\u001b[38;5;241m=\u001b[39mctx,\n\u001b[1;32m    510\u001b[0m         cancellation_manager\u001b[38;5;241m=\u001b[39mcancellation_manager)\n",
      "File \u001b[0;32m~/miniforge3/lib/python3.9/site-packages/tensorflow/python/eager/execute.py:54\u001b[0m, in \u001b[0;36mquick_execute\u001b[0;34m(op_name, num_outputs, inputs, attrs, ctx, name)\u001b[0m\n\u001b[1;32m     52\u001b[0m \u001b[38;5;28;01mtry\u001b[39;00m:\n\u001b[1;32m     53\u001b[0m   ctx\u001b[38;5;241m.\u001b[39mensure_initialized()\n\u001b[0;32m---> 54\u001b[0m   tensors \u001b[38;5;241m=\u001b[39m \u001b[43mpywrap_tfe\u001b[49m\u001b[38;5;241;43m.\u001b[39;49m\u001b[43mTFE_Py_Execute\u001b[49m\u001b[43m(\u001b[49m\u001b[43mctx\u001b[49m\u001b[38;5;241;43m.\u001b[39;49m\u001b[43m_handle\u001b[49m\u001b[43m,\u001b[49m\u001b[43m \u001b[49m\u001b[43mdevice_name\u001b[49m\u001b[43m,\u001b[49m\u001b[43m \u001b[49m\u001b[43mop_name\u001b[49m\u001b[43m,\u001b[49m\n\u001b[1;32m     55\u001b[0m \u001b[43m                                      \u001b[49m\u001b[43minputs\u001b[49m\u001b[43m,\u001b[49m\u001b[43m \u001b[49m\u001b[43mattrs\u001b[49m\u001b[43m,\u001b[49m\u001b[43m \u001b[49m\u001b[43mnum_outputs\u001b[49m\u001b[43m)\u001b[49m\n\u001b[1;32m     56\u001b[0m \u001b[38;5;28;01mexcept\u001b[39;00m core\u001b[38;5;241m.\u001b[39m_NotOkStatusException \u001b[38;5;28;01mas\u001b[39;00m e:\n\u001b[1;32m     57\u001b[0m   \u001b[38;5;28;01mif\u001b[39;00m name \u001b[38;5;129;01mis\u001b[39;00m \u001b[38;5;129;01mnot\u001b[39;00m \u001b[38;5;28;01mNone\u001b[39;00m:\n",
      "\u001b[0;31mKeyboardInterrupt\u001b[0m: "
     ]
    }
   ],
   "source": [
    "num_epochs = 30\n",
    "\n",
    "model_multiple_bidi_lstm = tf.keras.Sequential([\n",
    "    tf.keras.layers.Embedding(vocab_size, embedding_dim, input_length=max_length),\n",
    "    tf.keras.layers.Bidirectional(tf.keras.layers.LSTM(embedding_dim, \n",
    "                                                       return_sequences=True)),\n",
    "    tf.keras.layers.Bidirectional(tf.keras.layers.LSTM(embedding_dim)),\n",
    "    tf.keras.layers.Dense(1, activation='sigmoid')\n",
    "])\n",
    "\n",
    "learning_rate = 0.0003\n",
    "model_multiple_bidi_lstm.compile(loss='binary_crossentropy',\n",
    "                                 optimizer=tf.keras.optimizers.Adam(learning_rate),\n",
    "                                 metrics=['accuracy'])\n",
    "fit_model_and_show_results(model_multiple_bidi_lstm)"
   ]
  },
  {
   "cell_type": "markdown",
   "id": "03852395",
   "metadata": {},
   "source": [
    "# CHANGE"
   ]
  },
  {
   "cell_type": "code",
   "execution_count": 28,
   "id": "d32855c4",
   "metadata": {},
   "outputs": [
    {
     "ename": "NameError",
     "evalue": "name 'model' is not defined",
     "output_type": "error",
     "traceback": [
      "\u001b[0;31m---------------------------------------------------------------------------\u001b[0m",
      "\u001b[0;31mNameError\u001b[0m                                 Traceback (most recent call last)",
      "Input \u001b[0;32mIn [28]\u001b[0m, in \u001b[0;36m<cell line: 1>\u001b[0;34m()\u001b[0m\n\u001b[0;32m----> 1\u001b[0m determine_lr(\u001b[43mmodel\u001b[49m, \u001b[38;5;124m\"\u001b[39m\u001b[38;5;124mmodel\u001b[39m\u001b[38;5;124m\"\u001b[39m, \u001b[38;5;241m1e-9\u001b[39m)\n",
      "\u001b[0;31mNameError\u001b[0m: name 'model' is not defined"
     ]
    }
   ],
   "source": [
    "determine_lr(model1, \"model1\", 1e-5)"
   ]
  },
  {
   "cell_type": "code",
   "execution_count": 113,
   "id": "94ae19f4",
   "metadata": {
    "scrolled": true
   },
   "outputs": [
    {
     "name": "stdout",
     "output_type": "stream",
     "text": [
      "Epoch 1/70\n"
     ]
    },
    {
     "name": "stderr",
     "output_type": "stream",
     "text": [
      "2023-01-22 17:08:42.349139: I tensorflow/core/grappler/optimizers/custom_graph_optimizer_registry.cc:113] Plugin optimizer for device_type GPU is enabled.\n",
      "2023-01-22 17:08:42.589304: I tensorflow/core/grappler/optimizers/custom_graph_optimizer_registry.cc:113] Plugin optimizer for device_type GPU is enabled.\n",
      "2023-01-22 17:08:42.601268: I tensorflow/core/grappler/optimizers/custom_graph_optimizer_registry.cc:113] Plugin optimizer for device_type GPU is enabled.\n",
      "2023-01-22 17:08:42.953529: I tensorflow/core/grappler/optimizers/custom_graph_optimizer_registry.cc:113] Plugin optimizer for device_type GPU is enabled.\n",
      "2023-01-22 17:08:42.968546: I tensorflow/core/grappler/optimizers/custom_graph_optimizer_registry.cc:113] Plugin optimizer for device_type GPU is enabled.\n"
     ]
    },
    {
     "name": "stdout",
     "output_type": "stream",
     "text": [
      "453/453 [==============================] - 18s 37ms/step - loss: 0.5447 - accuracy: 0.7395 - lr: 1.0000e-05\n",
      "Epoch 2/70\n",
      "453/453 [==============================] - 14s 32ms/step - loss: 0.5423 - accuracy: 0.7406 - lr: 1.1659e-05\n",
      "Epoch 3/70\n",
      "453/453 [==============================] - 14s 31ms/step - loss: 0.5394 - accuracy: 0.7414 - lr: 1.3594e-05\n",
      "Epoch 4/70\n",
      "453/453 [==============================] - 14s 31ms/step - loss: 0.5361 - accuracy: 0.7449 - lr: 1.5849e-05\n",
      "Epoch 5/70\n",
      "453/453 [==============================] - 14s 31ms/step - loss: 0.5326 - accuracy: 0.7455 - lr: 1.8478e-05\n",
      "Epoch 6/70\n",
      "453/453 [==============================] - 14s 31ms/step - loss: 0.5286 - accuracy: 0.7487 - lr: 2.1544e-05\n",
      "Epoch 7/70\n",
      "453/453 [==============================] - 14s 31ms/step - loss: 0.5239 - accuracy: 0.7503 - lr: 2.5119e-05\n",
      "Epoch 8/70\n",
      "453/453 [==============================] - 14s 31ms/step - loss: 0.5178 - accuracy: 0.7556 - lr: 2.9286e-05\n",
      "Epoch 9/70\n",
      "453/453 [==============================] - 14s 31ms/step - loss: 0.5130 - accuracy: 0.7598 - lr: 3.4145e-05\n",
      "Epoch 10/70\n",
      "453/453 [==============================] - 14s 31ms/step - loss: 0.5063 - accuracy: 0.7624 - lr: 3.9811e-05\n",
      "Epoch 11/70\n",
      "453/453 [==============================] - 14s 31ms/step - loss: 0.4982 - accuracy: 0.7675 - lr: 4.6416e-05\n",
      "Epoch 12/70\n",
      "453/453 [==============================] - 14s 31ms/step - loss: 0.4910 - accuracy: 0.7718 - lr: 5.4117e-05\n",
      "Epoch 13/70\n",
      "453/453 [==============================] - 14s 31ms/step - loss: 0.4813 - accuracy: 0.7773 - lr: 6.3096e-05\n",
      "Epoch 14/70\n",
      "453/453 [==============================] - 14s 31ms/step - loss: 0.4733 - accuracy: 0.7845 - lr: 7.3564e-05\n",
      "Epoch 15/70\n",
      "453/453 [==============================] - 14s 30ms/step - loss: 0.4635 - accuracy: 0.7880 - lr: 8.5770e-05\n",
      "Epoch 16/70\n",
      "453/453 [==============================] - 14s 31ms/step - loss: 0.4530 - accuracy: 0.7954 - lr: 1.0000e-04\n",
      "Epoch 17/70\n",
      "453/453 [==============================] - 14s 31ms/step - loss: 0.4422 - accuracy: 0.8012 - lr: 1.1659e-04\n",
      "Epoch 18/70\n",
      "453/453 [==============================] - 14s 31ms/step - loss: 0.4348 - accuracy: 0.8068 - lr: 1.3594e-04\n",
      "Epoch 19/70\n",
      "453/453 [==============================] - 14s 31ms/step - loss: 0.4173 - accuracy: 0.8164 - lr: 1.5849e-04\n",
      "Epoch 20/70\n",
      "453/453 [==============================] - 14s 31ms/step - loss: 0.4075 - accuracy: 0.8204 - lr: 1.8478e-04\n",
      "Epoch 21/70\n",
      "453/453 [==============================] - 14s 31ms/step - loss: 0.3977 - accuracy: 0.8262 - lr: 2.1544e-04\n",
      "Epoch 22/70\n",
      "453/453 [==============================] - 14s 30ms/step - loss: 0.3910 - accuracy: 0.8307 - lr: 2.5119e-04\n",
      "Epoch 23/70\n",
      "453/453 [==============================] - 14s 30ms/step - loss: 0.3856 - accuracy: 0.8351 - lr: 2.9286e-04\n",
      "Epoch 24/70\n",
      "453/453 [==============================] - 14s 30ms/step - loss: 0.3802 - accuracy: 0.8405 - lr: 3.4145e-04\n",
      "Epoch 25/70\n",
      "453/453 [==============================] - 14s 30ms/step - loss: 0.3781 - accuracy: 0.8421 - lr: 3.9811e-04\n",
      "Epoch 26/70\n",
      "453/453 [==============================] - 14s 30ms/step - loss: 0.3763 - accuracy: 0.8429 - lr: 4.6416e-04\n",
      "Epoch 27/70\n",
      "453/453 [==============================] - 14s 30ms/step - loss: 0.3738 - accuracy: 0.8451 - lr: 5.4117e-04\n",
      "Epoch 28/70\n",
      "453/453 [==============================] - 14s 30ms/step - loss: 0.3699 - accuracy: 0.8456 - lr: 6.3096e-04\n",
      "Epoch 29/70\n",
      "453/453 [==============================] - 14s 30ms/step - loss: 0.3680 - accuracy: 0.8465 - lr: 7.3564e-04\n",
      "Epoch 30/70\n",
      "453/453 [==============================] - 14s 30ms/step - loss: 0.3653 - accuracy: 0.8512 - lr: 8.5770e-04\n",
      "Epoch 31/70\n",
      "453/453 [==============================] - 14s 31ms/step - loss: 0.3561 - accuracy: 0.8575 - lr: 0.0010\n",
      "Epoch 32/70\n",
      "453/453 [==============================] - 14s 31ms/step - loss: 0.3506 - accuracy: 0.8588 - lr: 0.0012\n",
      "Epoch 33/70\n",
      "453/453 [==============================] - 14s 31ms/step - loss: 0.3395 - accuracy: 0.8667 - lr: 0.0014\n",
      "Epoch 34/70\n",
      "453/453 [==============================] - 14s 30ms/step - loss: 0.3318 - accuracy: 0.8706 - lr: 0.0016\n",
      "Epoch 35/70\n",
      "453/453 [==============================] - 14s 30ms/step - loss: 0.3196 - accuracy: 0.8741 - lr: 0.0018\n",
      "Epoch 36/70\n",
      "453/453 [==============================] - 14s 30ms/step - loss: 0.3145 - accuracy: 0.8735 - lr: 0.0022\n",
      "Epoch 37/70\n",
      "453/453 [==============================] - 14s 30ms/step - loss: 0.3017 - accuracy: 0.8802 - lr: 0.0025\n",
      "Epoch 38/70\n",
      "453/453 [==============================] - 14s 31ms/step - loss: 0.3102 - accuracy: 0.8696 - lr: 0.0029\n",
      "Epoch 39/70\n",
      "453/453 [==============================] - 14s 30ms/step - loss: 0.2990 - accuracy: 0.8730 - lr: 0.0034\n",
      "Epoch 40/70\n",
      "453/453 [==============================] - 14s 30ms/step - loss: 0.2824 - accuracy: 0.8802 - lr: 0.0040\n",
      "Epoch 41/70\n",
      "453/453 [==============================] - 14s 30ms/step - loss: 0.2669 - accuracy: 0.8878 - lr: 0.0046\n",
      "Epoch 42/70\n",
      "453/453 [==============================] - 14s 30ms/step - loss: 0.2357 - accuracy: 0.8971 - lr: 0.0054\n",
      "Epoch 43/70\n",
      "453/453 [==============================] - 14s 30ms/step - loss: 0.2217 - accuracy: 0.9049 - lr: 0.0063\n",
      "Epoch 44/70\n",
      "453/453 [==============================] - 14s 30ms/step - loss: 0.2091 - accuracy: 0.9121 - lr: 0.0074\n",
      "Epoch 45/70\n",
      "453/453 [==============================] - 14s 30ms/step - loss: 0.2026 - accuracy: 0.9149 - lr: 0.0086\n",
      "Epoch 46/70\n",
      "453/453 [==============================] - 14s 30ms/step - loss: 0.1894 - accuracy: 0.9219 - lr: 0.0100\n",
      "Epoch 47/70\n",
      "453/453 [==============================] - 14s 30ms/step - loss: 0.1846 - accuracy: 0.9248 - lr: 0.0117\n",
      "Epoch 48/70\n",
      "453/453 [==============================] - 14s 30ms/step - loss: 0.1918 - accuracy: 0.9224 - lr: 0.0136\n",
      "Epoch 49/70\n",
      "453/453 [==============================] - 14s 30ms/step - loss: 0.1887 - accuracy: 0.9254 - lr: 0.0158\n",
      "Epoch 50/70\n",
      "453/453 [==============================] - 14s 30ms/step - loss: 0.1941 - accuracy: 0.9232 - lr: 0.0185\n",
      "Epoch 51/70\n",
      "453/453 [==============================] - 14s 30ms/step - loss: 0.2172 - accuracy: 0.9120 - lr: 0.0215\n",
      "Epoch 52/70\n",
      "453/453 [==============================] - 14s 30ms/step - loss: 0.2497 - accuracy: 0.8999 - lr: 0.0251\n",
      "Epoch 53/70\n",
      "453/453 [==============================] - 14s 30ms/step - loss: 0.2682 - accuracy: 0.8893 - lr: 0.0293\n",
      "Epoch 54/70\n",
      "453/453 [==============================] - 14s 30ms/step - loss: 0.3084 - accuracy: 0.8651 - lr: 0.0341\n",
      "Epoch 55/70\n",
      "453/453 [==============================] - 14s 30ms/step - loss: 0.3667 - accuracy: 0.8407 - lr: 0.0398\n",
      "Epoch 56/70\n",
      "453/453 [==============================] - 14s 30ms/step - loss: 0.4036 - accuracy: 0.8118 - lr: 0.0464\n",
      "Epoch 57/70\n",
      "453/453 [==============================] - 14s 30ms/step - loss: 0.4515 - accuracy: 0.7898 - lr: 0.0541\n",
      "Epoch 58/70\n",
      "453/453 [==============================] - 14s 30ms/step - loss: 0.4996 - accuracy: 0.7626 - lr: 0.0631\n",
      "Epoch 59/70\n",
      "453/453 [==============================] - 14s 30ms/step - loss: 0.4984 - accuracy: 0.7588 - lr: 0.0736\n",
      "Epoch 60/70\n",
      "453/453 [==============================] - 14s 30ms/step - loss: 0.5174 - accuracy: 0.7479 - lr: 0.0858\n",
      "Epoch 61/70\n",
      "453/453 [==============================] - 14s 30ms/step - loss: 0.5385 - accuracy: 0.7401 - lr: 0.1000\n",
      "Epoch 62/70\n",
      "453/453 [==============================] - 14s 30ms/step - loss: 0.5819 - accuracy: 0.6905 - lr: 0.1166\n",
      "Epoch 63/70\n",
      "453/453 [==============================] - 14s 30ms/step - loss: 0.6000 - accuracy: 0.6687 - lr: 0.1359\n",
      "Epoch 64/70\n",
      "453/453 [==============================] - 14s 30ms/step - loss: 0.6260 - accuracy: 0.6370 - lr: 0.1585\n",
      "Epoch 65/70\n",
      "453/453 [==============================] - 14s 30ms/step - loss: 0.6365 - accuracy: 0.6248 - lr: 0.1848\n",
      "Epoch 66/70\n",
      "453/453 [==============================] - 13s 30ms/step - loss: 0.6613 - accuracy: 0.6076 - lr: 0.2154\n",
      "Epoch 67/70\n",
      "453/453 [==============================] - 13s 29ms/step - loss: 0.6775 - accuracy: 0.5956 - lr: 0.2512\n",
      "Epoch 68/70\n",
      "453/453 [==============================] - 13s 30ms/step - loss: 0.6789 - accuracy: 0.5967 - lr: 0.2929\n",
      "Epoch 69/70\n",
      "453/453 [==============================] - 13s 30ms/step - loss: 0.6794 - accuracy: 0.5938 - lr: 0.3415\n",
      "Epoch 70/70\n",
      "453/453 [==============================] - 13s 29ms/step - loss: 0.6806 - accuracy: 0.5918 - lr: 0.3981\n"
     ]
    },
    {
     "data": {
      "image/png": "[encoded data removed]",
      "text/plain": [
       "<Figure size 432x288 with 1 Axes>"
      ]
     },
     "metadata": {
      "needs_background": "light"
     },
     "output_type": "display_data"
    }
   ],
   "source": [
    "determine_lr(model, \"model\", 1e-5)"
   ]
  },
  {
   "cell_type": "code",
   "execution_count": null,
   "id": "9f0a42bc",
   "metadata": {},
   "outputs": [],
   "source": [
    "model1 = tf.keras.Sequential([\n",
    "    tf.keras.layers.Embedding(vocab_size, embedding_dim, input_length = max_length),\n",
    "    tf.keras.layers.Bidirectional(tf.keras.layers.LSTM(embedding_dim, dropout = 0.3, return_sequences = True)),\n",
    "    tf.keras.layers.Dense(6, activation='relu'),\n",
    "    tf.keras.layers.Dense(1, activation='sigmoid')\n",
    "])\n",
    "\n"
   ]
  },
  {
   "cell_type": "code",
   "execution_count": 117,
   "id": "36d2cb08",
   "metadata": {},
   "outputs": [
    {
     "name": "stdout",
     "output_type": "stream",
     "text": [
      "Model: \"sequential_10\"\n",
      "_________________________________________________________________\n",
      " Layer (type)                Output Shape              Param #   \n",
      "=================================================================\n",
      " embedding_9 (Embedding)     (None, 29, 16)            80000     \n",
      "                                                                 \n",
      " bidirectional_3 (Bidirectio  (None, 29, 32)           4224      \n",
      " nal)                                                            \n",
      "                                                                 \n",
      " bidirectional_4 (Bidirectio  (None, 32)               6272      \n",
      " nal)                                                            \n",
      "                                                                 \n",
      " dense_12 (Dense)            (None, 6)                 198       \n",
      "                                                                 \n",
      " dense_13 (Dense)            (None, 1)                 7         \n",
      "                                                                 \n",
      "=================================================================\n",
      "Total params: 90,701\n",
      "Trainable params: 90,701\n",
      "Non-trainable params: 0\n",
      "_________________________________________________________________\n",
      "Epoch 1/10\n"
     ]
    },
    {
     "name": "stderr",
     "output_type": "stream",
     "text": [
      "2023-01-22 17:37:42.574722: I tensorflow/core/grappler/optimizers/custom_graph_optimizer_registry.cc:113] Plugin optimizer for device_type GPU is enabled.\n",
      "2023-01-22 17:37:43.083292: I tensorflow/core/grappler/optimizers/custom_graph_optimizer_registry.cc:113] Plugin optimizer for device_type GPU is enabled.\n",
      "2023-01-22 17:37:43.093650: I tensorflow/core/grappler/optimizers/custom_graph_optimizer_registry.cc:113] Plugin optimizer for device_type GPU is enabled.\n",
      "2023-01-22 17:37:43.303524: I tensorflow/core/grappler/optimizers/custom_graph_optimizer_registry.cc:113] Plugin optimizer for device_type GPU is enabled.\n",
      "2023-01-22 17:37:43.316266: I tensorflow/core/grappler/optimizers/custom_graph_optimizer_registry.cc:113] Plugin optimizer for device_type GPU is enabled.\n",
      "2023-01-22 17:37:43.775307: I tensorflow/core/grappler/optimizers/custom_graph_optimizer_registry.cc:113] Plugin optimizer for device_type GPU is enabled.\n",
      "2023-01-22 17:37:43.790250: I tensorflow/core/grappler/optimizers/custom_graph_optimizer_registry.cc:113] Plugin optimizer for device_type GPU is enabled.\n",
      "2023-01-22 17:37:44.170141: I tensorflow/core/grappler/optimizers/custom_graph_optimizer_registry.cc:113] Plugin optimizer for device_type GPU is enabled.\n",
      "2023-01-22 17:37:44.185620: I tensorflow/core/grappler/optimizers/custom_graph_optimizer_registry.cc:113] Plugin optimizer for device_type GPU is enabled.\n"
     ]
    },
    {
     "name": "stdout",
     "output_type": "stream",
     "text": [
      "453/453 [==============================] - ETA: 0s - loss: 0.6214 - accuracy: 0.6536"
     ]
    },
    {
     "name": "stderr",
     "output_type": "stream",
     "text": [
      "2023-01-22 17:38:15.011269: I tensorflow/core/grappler/optimizers/custom_graph_optimizer_registry.cc:113] Plugin optimizer for device_type GPU is enabled.\n",
      "2023-01-22 17:38:15.160968: I tensorflow/core/grappler/optimizers/custom_graph_optimizer_registry.cc:113] Plugin optimizer for device_type GPU is enabled.\n",
      "2023-01-22 17:38:15.168004: I tensorflow/core/grappler/optimizers/custom_graph_optimizer_registry.cc:113] Plugin optimizer for device_type GPU is enabled.\n",
      "2023-01-22 17:38:15.354060: I tensorflow/core/grappler/optimizers/custom_graph_optimizer_registry.cc:113] Plugin optimizer for device_type GPU is enabled.\n",
      "2023-01-22 17:38:15.361398: I tensorflow/core/grappler/optimizers/custom_graph_optimizer_registry.cc:113] Plugin optimizer for device_type GPU is enabled.\n"
     ]
    },
    {
     "name": "stdout",
     "output_type": "stream",
     "text": [
      "453/453 [==============================] - 38s 76ms/step - loss: 0.6214 - accuracy: 0.6536 - val_loss: 0.5788 - val_accuracy: 0.7035\n",
      "Epoch 2/10\n",
      "453/453 [==============================] - 29s 64ms/step - loss: 0.5126 - accuracy: 0.7522 - val_loss: 0.5570 - val_accuracy: 0.7156\n",
      "Epoch 3/10\n",
      "453/453 [==============================] - 29s 64ms/step - loss: 0.4668 - accuracy: 0.7856 - val_loss: 0.5755 - val_accuracy: 0.7189\n",
      "Epoch 4/10\n",
      "453/453 [==============================] - 28s 63ms/step - loss: 0.4343 - accuracy: 0.8100 - val_loss: 0.5882 - val_accuracy: 0.7187\n",
      "Epoch 5/10\n",
      "453/453 [==============================] - 28s 62ms/step - loss: 0.4142 - accuracy: 0.8184 - val_loss: 0.5955 - val_accuracy: 0.7087\n",
      "Epoch 6/10\n",
      "453/453 [==============================] - 29s 64ms/step - loss: 0.3910 - accuracy: 0.8335 - val_loss: 0.6164 - val_accuracy: 0.7057\n",
      "Epoch 7/10\n",
      "453/453 [==============================] - 29s 64ms/step - loss: 0.3707 - accuracy: 0.8459 - val_loss: 0.6278 - val_accuracy: 0.7035\n",
      "Epoch 8/10\n",
      "453/453 [==============================] - 29s 64ms/step - loss: 0.3494 - accuracy: 0.8587 - val_loss: 0.6633 - val_accuracy: 0.7029\n",
      "Epoch 9/10\n",
      "453/453 [==============================] - 31s 67ms/step - loss: 0.3311 - accuracy: 0.8657 - val_loss: 0.6810 - val_accuracy: 0.6966\n",
      "Epoch 10/10\n",
      "453/453 [==============================] - 28s 62ms/step - loss: 0.3072 - accuracy: 0.8792 - val_loss: 0.7347 - val_accuracy: 0.6924\n"
     ]
    }
   ],
   "source": [
    "embedding_dim = 16\n",
    "model2 = tf.keras.Sequential([\n",
    "    tf.keras.layers.Embedding(vocab_size, embedding_dim, input_length = max_length),\n",
    "    tf.keras.layers.Bidirectional(tf.keras.layers.LSTM(embedding_dim, dropout = 0.3, return_sequences = True)),\n",
    "    tf.keras.layers.Bidirectional(tf.keras.layers.LSTM(embedding_dim)),\n",
    "    tf.keras.layers.Dense(6, activation='relu'),\n",
    "    tf.keras.layers.Dense(1, activation='sigmoid')\n",
    "])\n",
    "\n",
    "model.summary()\n",
    "\n",
    "num_epochs = 10\n",
    "optimizer = tf.keras.optimizers.SGD(lr=0.0158, momentum=0.9) #Stochastic gradient descent optimizer\n",
    "model.compile(loss='binary_crossentropy', optimizer='adam', metrics=['accuracy'])\n",
    "history = model.fit(X_train, y_train, epochs = num_epochs, validation_data=(X_test, y_test))\n"
   ]
  },
  {
   "cell_type": "code",
   "execution_count": 56,
   "id": "a86018ea",
   "metadata": {},
   "outputs": [
    {
     "data": {
      "image/png": "[encoded data removed]",
      "text/plain": [
       "<Figure size 432x288 with 1 Axes>"
      ]
     },
     "metadata": {
      "needs_background": "light"
     },
     "output_type": "display_data"
    },
    {
     "data": {
      "image/png": "[encoded data removed]",
      "text/plain": [
       "<Figure size 432x288 with 1 Axes>"
      ]
     },
     "metadata": {
      "needs_background": "light"
     },
     "output_type": "display_data"
    }
   ],
   "source": [
    "def plot_graphs(history, string):\n",
    "    plt.plot(history.history[string])\n",
    "    plt.plot(history.history['val_'+string])\n",
    "    plt.xlabel(\"Epochs\")\n",
    "    plt.ylabel(string)\n",
    "    plt.title(string + \" over \" + str(num_epochs) + \" epochs\")\n",
    "    plt.legend([string, 'val_'+string])\n",
    "    plt.show()\n",
    "plot_graphs(history, \"accuracy\")\n",
    "plot_graphs(history, \"loss\")"
   ]
  },
  {
   "cell_type": "markdown",
   "id": "cfc21f3e",
   "metadata": {},
   "source": [
    "gridsearch on vocab size, config of layers, embedding dimensions, learning rate, embedding initializers, regularizers, constraints<br>\n",
    "figure out what the ball park is with vocab size first, then finetune with gridsearch"
   ]
  },
  {
   "cell_type": "code",
   "execution_count": 121,
   "id": "f63c5e4d",
   "metadata": {
    "scrolled": true
   },
   "outputs": [
    {
     "name": "stdout",
     "output_type": "stream",
     "text": [
      "Model: \"sequential_12\"\n",
      "_________________________________________________________________\n",
      " Layer (type)                Output Shape              Param #   \n",
      "=================================================================\n",
      " embedding_11 (Embedding)    (None, 29, 16)            80000     \n",
      "                                                                 \n",
      " bidirectional_7 (Bidirectio  (None, 29, 32)           4224      \n",
      " nal)                                                            \n",
      "                                                                 \n",
      " bidirectional_8 (Bidirectio  (None, 32)               6272      \n",
      " nal)                                                            \n",
      "                                                                 \n",
      " dense_16 (Dense)            (None, 6)                 198       \n",
      "                                                                 \n",
      " dense_17 (Dense)            (None, 1)                 7         \n",
      "                                                                 \n",
      "=================================================================\n",
      "Total params: 90,701\n",
      "Trainable params: 90,701\n",
      "Non-trainable params: 0\n",
      "_________________________________________________________________\n",
      "Epoch 1/10\n"
     ]
    },
    {
     "name": "stderr",
     "output_type": "stream",
     "text": [
      "2023-01-22 17:44:36.046827: I tensorflow/core/grappler/optimizers/custom_graph_optimizer_registry.cc:113] Plugin optimizer for device_type GPU is enabled.\n",
      "2023-01-22 17:44:36.528726: I tensorflow/core/grappler/optimizers/custom_graph_optimizer_registry.cc:113] Plugin optimizer for device_type GPU is enabled.\n",
      "2023-01-22 17:44:36.538561: I tensorflow/core/grappler/optimizers/custom_graph_optimizer_registry.cc:113] Plugin optimizer for device_type GPU is enabled.\n",
      "2023-01-22 17:44:36.743138: I tensorflow/core/grappler/optimizers/custom_graph_optimizer_registry.cc:113] Plugin optimizer for device_type GPU is enabled.\n",
      "2023-01-22 17:44:36.753222: I tensorflow/core/grappler/optimizers/custom_graph_optimizer_registry.cc:113] Plugin optimizer for device_type GPU is enabled.\n",
      "2023-01-22 17:44:37.223816: I tensorflow/core/grappler/optimizers/custom_graph_optimizer_registry.cc:113] Plugin optimizer for device_type GPU is enabled.\n",
      "2023-01-22 17:44:37.238482: I tensorflow/core/grappler/optimizers/custom_graph_optimizer_registry.cc:113] Plugin optimizer for device_type GPU is enabled.\n",
      "2023-01-22 17:44:37.630074: I tensorflow/core/grappler/optimizers/custom_graph_optimizer_registry.cc:113] Plugin optimizer for device_type GPU is enabled.\n",
      "2023-01-22 17:44:37.646549: I tensorflow/core/grappler/optimizers/custom_graph_optimizer_registry.cc:113] Plugin optimizer for device_type GPU is enabled.\n"
     ]
    },
    {
     "name": "stdout",
     "output_type": "stream",
     "text": [
      "906/906 [==============================] - ETA: 0s - loss: 0.5904 - accuracy: 0.6849"
     ]
    },
    {
     "name": "stderr",
     "output_type": "stream",
     "text": [
      "2023-01-22 17:45:34.006032: I tensorflow/core/grappler/optimizers/custom_graph_optimizer_registry.cc:113] Plugin optimizer for device_type GPU is enabled.\n",
      "2023-01-22 17:45:34.163727: I tensorflow/core/grappler/optimizers/custom_graph_optimizer_registry.cc:113] Plugin optimizer for device_type GPU is enabled.\n",
      "2023-01-22 17:45:34.171056: I tensorflow/core/grappler/optimizers/custom_graph_optimizer_registry.cc:113] Plugin optimizer for device_type GPU is enabled.\n",
      "2023-01-22 17:45:34.366134: I tensorflow/core/grappler/optimizers/custom_graph_optimizer_registry.cc:113] Plugin optimizer for device_type GPU is enabled.\n",
      "2023-01-22 17:45:34.373384: I tensorflow/core/grappler/optimizers/custom_graph_optimizer_registry.cc:113] Plugin optimizer for device_type GPU is enabled.\n"
     ]
    },
    {
     "name": "stdout",
     "output_type": "stream",
     "text": [
      "906/906 [==============================] - 66s 69ms/step - loss: 0.5904 - accuracy: 0.6849 - val_loss: 0.5603 - val_accuracy: 0.7094\n",
      "Epoch 2/10\n",
      "906/906 [==============================] - 56s 62ms/step - loss: 0.5067 - accuracy: 0.7576 - val_loss: 0.5619 - val_accuracy: 0.7084\n",
      "Epoch 3/10\n",
      "906/906 [==============================] - 59s 65ms/step - loss: 0.4813 - accuracy: 0.7756 - val_loss: 0.5817 - val_accuracy: 0.7073\n",
      "Epoch 4/10\n",
      "906/906 [==============================] - 59s 65ms/step - loss: 0.4613 - accuracy: 0.7867 - val_loss: 0.5770 - val_accuracy: 0.7070\n",
      "Epoch 5/10\n",
      "906/906 [==============================] - 57s 63ms/step - loss: 0.4437 - accuracy: 0.8001 - val_loss: 0.6062 - val_accuracy: 0.7055\n",
      "Epoch 6/10\n",
      "906/906 [==============================] - 55s 60ms/step - loss: 0.4255 - accuracy: 0.8096 - val_loss: 0.6113 - val_accuracy: 0.7068\n",
      "Epoch 7/10\n",
      "906/906 [==============================] - 55s 60ms/step - loss: 0.4077 - accuracy: 0.8187 - val_loss: 0.6347 - val_accuracy: 0.7092\n",
      "Epoch 8/10\n",
      "906/906 [==============================] - 54s 60ms/step - loss: 0.3878 - accuracy: 0.8292 - val_loss: 0.6447 - val_accuracy: 0.6985\n",
      "Epoch 9/10\n",
      "906/906 [==============================] - 55s 60ms/step - loss: 0.3669 - accuracy: 0.8396 - val_loss: 0.6566 - val_accuracy: 0.7039\n",
      "Epoch 10/10\n",
      "906/906 [==============================] - 55s 61ms/step - loss: 0.3509 - accuracy: 0.8462 - val_loss: 0.6796 - val_accuracy: 0.6972\n"
     ]
    },
    {
     "data": {
      "image/png": "[encoded data removed]",
      "text/plain": [
       "<Figure size 432x288 with 1 Axes>"
      ]
     },
     "metadata": {
      "needs_background": "light"
     },
     "output_type": "display_data"
    },
    {
     "data": {
      "image/png": "[encoded data removed]",
      "text/plain": [
       "<Figure size 432x288 with 1 Axes>"
      ]
     },
     "metadata": {
      "needs_background": "light"
     },
     "output_type": "display_data"
    }
   ],
   "source": [
    "embedding_dim = 16\n",
    "model = tf.keras.Sequential([\n",
    "    tf.keras.layers.Embedding(vocab_size, embedding_dim, input_length = max_length),\n",
    "    #tf.keras.layers.Dense(100, activation='relu'),\n",
    "    tf.keras.layers.Bidirectional(tf.keras.layers.LSTM(embedding_dim, dropout = 0.3, return_sequences = True)),\n",
    "    tf.keras.layers.Bidirectional(tf.keras.layers.LSTM(embedding_dim)),\n",
    "    tf.keras.layers.Dense(6, activation='relu'),\n",
    "    tf.keras.layers.Dense(1, activation='sigmoid')\n",
    "])\n",
    "\n",
    "model.summary()\n",
    "\n",
    "num_epochs = 10\n",
    "optimizer = tf.keras.optimizers.SGD(lr=0.0158, momentum=0.9) #Stochastic gradient descent optimizer\n",
    "model.compile(loss='binary_crossentropy', optimizer='adam', metrics=['accuracy'])\n",
    "history = model.fit(X_train, y_train, epochs = num_epochs, validation_data=(X_test, y_test))\n",
    "\n",
    "plot_graphs(history, \"accuracy\")\n",
    "plot_graphs(history, \"loss\")"
   ]
  },
  {
   "cell_type": "code",
   "execution_count": 122,
   "id": "d9a27476",
   "metadata": {},
   "outputs": [
    {
     "name": "stdout",
     "output_type": "stream",
     "text": [
      "Model: \"sequential_13\"\n",
      "_________________________________________________________________\n",
      " Layer (type)                Output Shape              Param #   \n",
      "=================================================================\n",
      " embedding_12 (Embedding)    (None, 29, 16)            80000     \n",
      "                                                                 \n",
      " bidirectional_9 (Bidirectio  (None, 29, 32)           4224      \n",
      " nal)                                                            \n",
      "                                                                 \n",
      " bidirectional_10 (Bidirecti  (None, 32)               6272      \n",
      " onal)                                                           \n",
      "                                                                 \n",
      " dense_18 (Dense)            (None, 6)                 198       \n",
      "                                                                 \n",
      " dense_19 (Dense)            (None, 1)                 7         \n",
      "                                                                 \n",
      "=================================================================\n",
      "Total params: 90,701\n",
      "Trainable params: 90,701\n",
      "Non-trainable params: 0\n",
      "_________________________________________________________________\n",
      "Epoch 1/10\n"
     ]
    },
    {
     "name": "stderr",
     "output_type": "stream",
     "text": [
      "2023-01-22 18:00:31.989765: I tensorflow/core/grappler/optimizers/custom_graph_optimizer_registry.cc:113] Plugin optimizer for device_type GPU is enabled.\n",
      "2023-01-22 18:00:32.512491: I tensorflow/core/grappler/optimizers/custom_graph_optimizer_registry.cc:113] Plugin optimizer for device_type GPU is enabled.\n",
      "2023-01-22 18:00:32.522358: I tensorflow/core/grappler/optimizers/custom_graph_optimizer_registry.cc:113] Plugin optimizer for device_type GPU is enabled.\n",
      "2023-01-22 18:00:32.735933: I tensorflow/core/grappler/optimizers/custom_graph_optimizer_registry.cc:113] Plugin optimizer for device_type GPU is enabled.\n",
      "2023-01-22 18:00:32.745944: I tensorflow/core/grappler/optimizers/custom_graph_optimizer_registry.cc:113] Plugin optimizer for device_type GPU is enabled.\n",
      "2023-01-22 18:00:33.208720: I tensorflow/core/grappler/optimizers/custom_graph_optimizer_registry.cc:113] Plugin optimizer for device_type GPU is enabled.\n",
      "2023-01-22 18:00:33.223609: I tensorflow/core/grappler/optimizers/custom_graph_optimizer_registry.cc:113] Plugin optimizer for device_type GPU is enabled.\n",
      "2023-01-22 18:00:33.615978: I tensorflow/core/grappler/optimizers/custom_graph_optimizer_registry.cc:113] Plugin optimizer for device_type GPU is enabled.\n",
      "2023-01-22 18:00:33.632019: I tensorflow/core/grappler/optimizers/custom_graph_optimizer_registry.cc:113] Plugin optimizer for device_type GPU is enabled.\n"
     ]
    },
    {
     "name": "stdout",
     "output_type": "stream",
     "text": [
      "906/906 [==============================] - ETA: 0s - loss: 0.5876 - accuracy: 0.6883"
     ]
    },
    {
     "name": "stderr",
     "output_type": "stream",
     "text": [
      "2023-01-22 18:01:31.778188: I tensorflow/core/grappler/optimizers/custom_graph_optimizer_registry.cc:113] Plugin optimizer for device_type GPU is enabled.\n",
      "2023-01-22 18:01:31.953829: I tensorflow/core/grappler/optimizers/custom_graph_optimizer_registry.cc:113] Plugin optimizer for device_type GPU is enabled.\n",
      "2023-01-22 18:01:31.962365: I tensorflow/core/grappler/optimizers/custom_graph_optimizer_registry.cc:113] Plugin optimizer for device_type GPU is enabled.\n",
      "2023-01-22 18:01:32.173359: I tensorflow/core/grappler/optimizers/custom_graph_optimizer_registry.cc:113] Plugin optimizer for device_type GPU is enabled.\n",
      "2023-01-22 18:01:32.182082: I tensorflow/core/grappler/optimizers/custom_graph_optimizer_registry.cc:113] Plugin optimizer for device_type GPU is enabled.\n"
     ]
    },
    {
     "name": "stdout",
     "output_type": "stream",
     "text": [
      "906/906 [==============================] - 69s 72ms/step - loss: 0.5876 - accuracy: 0.6883 - val_loss: 0.5602 - val_accuracy: 0.7098\n",
      "Epoch 2/10\n",
      "906/906 [==============================] - 56s 62ms/step - loss: 0.5067 - accuracy: 0.7562 - val_loss: 0.5587 - val_accuracy: 0.7132\n",
      "Epoch 3/10\n",
      "906/906 [==============================] - 54s 59ms/step - loss: 0.4765 - accuracy: 0.7756 - val_loss: 0.5793 - val_accuracy: 0.7101\n",
      "Epoch 4/10\n",
      "906/906 [==============================] - 55s 61ms/step - loss: 0.4517 - accuracy: 0.7899 - val_loss: 0.5722 - val_accuracy: 0.7126\n",
      "Epoch 5/10\n",
      "906/906 [==============================] - 55s 61ms/step - loss: 0.4272 - accuracy: 0.8017 - val_loss: 0.6208 - val_accuracy: 0.7152\n",
      "Epoch 6/10\n",
      "906/906 [==============================] - 54s 60ms/step - loss: 0.4052 - accuracy: 0.8128 - val_loss: 0.6181 - val_accuracy: 0.7094\n",
      "Epoch 7/10\n",
      "906/906 [==============================] - 54s 60ms/step - loss: 0.3854 - accuracy: 0.8215 - val_loss: 0.6560 - val_accuracy: 0.7047\n",
      "Epoch 8/10\n",
      "906/906 [==============================] - 55s 61ms/step - loss: 0.3662 - accuracy: 0.8296 - val_loss: 0.6660 - val_accuracy: 0.7054\n",
      "Epoch 9/10\n",
      "906/906 [==============================] - 55s 61ms/step - loss: 0.3530 - accuracy: 0.8373 - val_loss: 0.7189 - val_accuracy: 0.7052\n",
      "Epoch 10/10\n",
      "906/906 [==============================] - 55s 61ms/step - loss: 0.3383 - accuracy: 0.8435 - val_loss: 0.7511 - val_accuracy: 0.6989\n"
     ]
    },
    {
     "data": {
      "image/png": "[encoded data removed]",
      "text/plain": [
       "<Figure size 432x288 with 1 Axes>"
      ]
     },
     "metadata": {
      "needs_background": "light"
     },
     "output_type": "display_data"
    },
    {
     "data": {
      "image/png": "[encoded data removed]",
      "text/plain": [
       "<Figure size 432x288 with 1 Axes>"
      ]
     },
     "metadata": {
      "needs_background": "light"
     },
     "output_type": "display_data"
    }
   ],
   "source": [
    "embedding_dim = 16\n",
    "model = tf.keras.Sequential([\n",
    "    tf.keras.layers.Embedding(vocab_size, embedding_dim, input_length = max_length),\n",
    "    #tf.keras.layers.Dense(100, activation='relu'),\n",
    "    tf.keras.layers.Bidirectional(tf.keras.layers.LSTM(embedding_dim, dropout = 0.3, return_sequences = True)),\n",
    "    tf.keras.layers.Bidirectional(tf.keras.layers.LSTM(embedding_dim)),\n",
    "    tf.keras.layers.Dense(6, activation='relu'),\n",
    "    tf.keras.layers.Dense(1, activation='sigmoid')\n",
    "])\n",
    "\n",
    "model.summary()\n",
    "\n",
    "num_epochs = 10\n",
    "optimizer = tf.keras.optimizers.SGD(lr=0.0158) #Stochastic gradient descent optimizer\n",
    "model.compile(loss='binary_crossentropy', optimizer='adam', metrics=['accuracy'])\n",
    "history = model.fit(X_train, y_train, epochs = num_epochs, validation_data=(X_test, y_test))\n",
    "\n",
    "plot_graphs(history, \"accuracy\")\n",
    "plot_graphs(history, \"loss\")"
   ]
  },
  {
   "cell_type": "code",
   "execution_count": 123,
   "id": "bc586b85",
   "metadata": {},
   "outputs": [
    {
     "name": "stdout",
     "output_type": "stream",
     "text": [
      "Model: \"sequential_14\"\n",
      "_________________________________________________________________\n",
      " Layer (type)                Output Shape              Param #   \n",
      "=================================================================\n",
      " embedding_13 (Embedding)    (None, 29, 16)            80000     \n",
      "                                                                 \n",
      " bidirectional_11 (Bidirecti  (None, 29, 32)           4224      \n",
      " onal)                                                           \n",
      "                                                                 \n",
      " bidirectional_12 (Bidirecti  (None, 32)               6272      \n",
      " onal)                                                           \n",
      "                                                                 \n",
      " dense_20 (Dense)            (None, 6)                 198       \n",
      "                                                                 \n",
      " dense_21 (Dense)            (None, 1)                 7         \n",
      "                                                                 \n",
      "=================================================================\n",
      "Total params: 90,701\n",
      "Trainable params: 90,701\n",
      "Non-trainable params: 0\n",
      "_________________________________________________________________\n",
      "Epoch 1/10\n"
     ]
    },
    {
     "name": "stderr",
     "output_type": "stream",
     "text": [
      "2023-01-22 18:10:59.965296: I tensorflow/core/grappler/optimizers/custom_graph_optimizer_registry.cc:113] Plugin optimizer for device_type GPU is enabled.\n",
      "2023-01-22 18:11:00.717937: I tensorflow/core/grappler/optimizers/custom_graph_optimizer_registry.cc:113] Plugin optimizer for device_type GPU is enabled.\n",
      "2023-01-22 18:11:00.732399: I tensorflow/core/grappler/optimizers/custom_graph_optimizer_registry.cc:113] Plugin optimizer for device_type GPU is enabled.\n",
      "2023-01-22 18:11:00.960473: I tensorflow/core/grappler/optimizers/custom_graph_optimizer_registry.cc:113] Plugin optimizer for device_type GPU is enabled.\n",
      "2023-01-22 18:11:00.971566: I tensorflow/core/grappler/optimizers/custom_graph_optimizer_registry.cc:113] Plugin optimizer for device_type GPU is enabled.\n",
      "2023-01-22 18:11:01.545418: I tensorflow/core/grappler/optimizers/custom_graph_optimizer_registry.cc:113] Plugin optimizer for device_type GPU is enabled.\n",
      "2023-01-22 18:11:01.560271: I tensorflow/core/grappler/optimizers/custom_graph_optimizer_registry.cc:113] Plugin optimizer for device_type GPU is enabled.\n",
      "2023-01-22 18:11:01.982739: I tensorflow/core/grappler/optimizers/custom_graph_optimizer_registry.cc:113] Plugin optimizer for device_type GPU is enabled.\n",
      "2023-01-22 18:11:01.999246: I tensorflow/core/grappler/optimizers/custom_graph_optimizer_registry.cc:113] Plugin optimizer for device_type GPU is enabled.\n"
     ]
    },
    {
     "name": "stdout",
     "output_type": "stream",
     "text": [
      "906/906 [==============================] - ETA: 0s - loss: 0.6903 - accuracy: 0.6830"
     ]
    },
    {
     "name": "stderr",
     "output_type": "stream",
     "text": [
      "2023-01-22 18:12:00.071548: I tensorflow/core/grappler/optimizers/custom_graph_optimizer_registry.cc:113] Plugin optimizer for device_type GPU is enabled.\n",
      "2023-01-22 18:12:00.251174: I tensorflow/core/grappler/optimizers/custom_graph_optimizer_registry.cc:113] Plugin optimizer for device_type GPU is enabled.\n",
      "2023-01-22 18:12:00.258851: I tensorflow/core/grappler/optimizers/custom_graph_optimizer_registry.cc:113] Plugin optimizer for device_type GPU is enabled.\n",
      "2023-01-22 18:12:00.470318: I tensorflow/core/grappler/optimizers/custom_graph_optimizer_registry.cc:113] Plugin optimizer for device_type GPU is enabled.\n",
      "2023-01-22 18:12:00.477767: I tensorflow/core/grappler/optimizers/custom_graph_optimizer_registry.cc:113] Plugin optimizer for device_type GPU is enabled.\n"
     ]
    },
    {
     "name": "stdout",
     "output_type": "stream",
     "text": [
      "906/906 [==============================] - 71s 72ms/step - loss: 0.6903 - accuracy: 0.6830 - val_loss: 0.5950 - val_accuracy: 0.7072\n",
      "Epoch 2/10\n",
      "906/906 [==============================] - 56s 62ms/step - loss: 0.5465 - accuracy: 0.7516 - val_loss: 0.5897 - val_accuracy: 0.7085\n",
      "Epoch 3/10\n",
      "906/906 [==============================] - 56s 62ms/step - loss: 0.5160 - accuracy: 0.7720 - val_loss: 0.5895 - val_accuracy: 0.7113\n",
      "Epoch 4/10\n",
      "906/906 [==============================] - 57s 62ms/step - loss: 0.4989 - accuracy: 0.7849 - val_loss: 0.6006 - val_accuracy: 0.7098\n",
      "Epoch 5/10\n",
      "906/906 [==============================] - 57s 62ms/step - loss: 0.4841 - accuracy: 0.7931 - val_loss: 0.6137 - val_accuracy: 0.7088\n",
      "Epoch 6/10\n",
      "906/906 [==============================] - 55s 61ms/step - loss: 0.4698 - accuracy: 0.8012 - val_loss: 0.6027 - val_accuracy: 0.7045\n",
      "Epoch 7/10\n",
      "906/906 [==============================] - 55s 60ms/step - loss: 0.4577 - accuracy: 0.8090 - val_loss: 0.6272 - val_accuracy: 0.7058\n",
      "Epoch 8/10\n",
      "906/906 [==============================] - 55s 60ms/step - loss: 0.4468 - accuracy: 0.8156 - val_loss: 0.6196 - val_accuracy: 0.7007\n",
      "Epoch 9/10\n",
      "906/906 [==============================] - 54s 60ms/step - loss: 0.4329 - accuracy: 0.8245 - val_loss: 0.6395 - val_accuracy: 0.7015\n",
      "Epoch 10/10\n",
      "906/906 [==============================] - 54s 60ms/step - loss: 0.4206 - accuracy: 0.8307 - val_loss: 0.6209 - val_accuracy: 0.7036\n"
     ]
    },
    {
     "data": {
      "image/png": "[encoded data removed]",
      "text/plain": [
       "<Figure size 432x288 with 1 Axes>"
      ]
     },
     "metadata": {
      "needs_background": "light"
     },
     "output_type": "display_data"
    },
    {
     "data": {
      "image/png": "[encoded data removed]",
      "text/plain": [
       "<Figure size 432x288 with 1 Axes>"
      ]
     },
     "metadata": {
      "needs_background": "light"
     },
     "output_type": "display_data"
    }
   ],
   "source": [
    "embedding_dim = 16\n",
    "model = tf.keras.Sequential([\n",
    "    tf.keras.layers.Embedding(vocab_size, embedding_dim, input_length = max_length),\n",
    "    #tf.keras.layers.Dense(100, activation='relu'),\n",
    "    tf.keras.layers.Bidirectional(tf.keras.layers.LSTM(embedding_dim, dropout = 0.3, return_sequences = True)),\n",
    "    tf.keras.layers.Bidirectional(tf.keras.layers.LSTM(embedding_dim)),\n",
    "    tf.keras.layers.Dense(6, activation='relu',kernel_regularizer='l1_l2'),\n",
    "    tf.keras.layers.Dense(1, activation='sigmoid')\n",
    "])\n",
    "\n",
    "model.summary()\n",
    "\n",
    "num_epochs = 10\n",
    "optimizer = tf.keras.optimizers.SGD(lr=0.0158, momentum=0.9) #Stochastic gradient descent optimizer\n",
    "model.compile(loss='binary_crossentropy', optimizer='adam', metrics=['accuracy'])\n",
    "history = model.fit(X_train, y_train, epochs = num_epochs, validation_data=(X_test, y_test))\n",
    "\n",
    "plot_graphs(history, \"accuracy\")\n",
    "plot_graphs(history, \"loss\")"
   ]
  },
  {
   "cell_type": "code",
   "execution_count": null,
   "id": "0fc548ae",
   "metadata": {},
   "outputs": [],
   "source": []
  }
 ],
 "metadata": {
  "kernelspec": {
   "display_name": "Python 3 (ipykernel)",
   "language": "python",
   "name": "python3"
  },
  "language_info": {
   "codemirror_mode": {
    "name": "ipython",
    "version": 3
   },
   "file_extension": ".py",
   "mimetype": "text/x-python",
   "name": "python",
   "nbconvert_exporter": "python",
   "pygments_lexer": "ipython3",
   "version": "3.9.10"
  }
 },
 "nbformat": 4,
 "nbformat_minor": 5
}

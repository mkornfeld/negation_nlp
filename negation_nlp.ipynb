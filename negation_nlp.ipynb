{
 "cells": [
  {
   "cell_type": "code",
   "execution_count": 58,
   "id": "c2427d53",
   "metadata": {},
   "outputs": [
    {
     "name": "stderr",
     "output_type": "stream",
     "text": [
      "[nltk_data] Downloading package punkt to\n",
      "[nltk_data]     /Users/myleskornfeld/nltk_data...\n",
      "[nltk_data]   Package punkt is already up-to-date!\n",
      "[nltk_data] Downloading package brown to\n",
      "[nltk_data]     /Users/myleskornfeld/nltk_data...\n",
      "[nltk_data]   Package brown is already up-to-date!\n",
      "[nltk_data] Downloading package stopwords to\n",
      "[nltk_data]     /Users/myleskornfeld/nltk_data...\n",
      "[nltk_data]   Package stopwords is already up-to-date!\n",
      "[nltk_data] Downloading package wordnet to\n",
      "[nltk_data]     /Users/myleskornfeld/nltk_data...\n",
      "[nltk_data]   Package wordnet is already up-to-date!\n",
      "[nltk_data] Downloading package averaged_perceptron_tagger to\n",
      "[nltk_data]     /Users/myleskornfeld/nltk_data...\n",
      "[nltk_data]   Package averaged_perceptron_tagger is already up-to-\n",
      "[nltk_data]       date!\n"
     ]
    }
   ],
   "source": [
    "import tensorflow as tf\n",
    "from tensorflow.keras.preprocessing.sequence import pad_sequences\n",
    "from tensorflow.keras.preprocessing.text import text_to_word_sequence\n",
    "from tensorflow.keras.preprocessing.text import one_hot\n",
    "import pandas as pd\n",
    "import numpy as np\n",
    "from tensorflow.keras.preprocessing.text import Tokenizer\n",
    "import tensorflow_datasets as tfds\n",
    "import matplotlib.pyplot as plt\n",
    "import difflib\n",
    "import nltk\n",
    "from sklearn.model_selection import train_test_split\n",
    "nltk.download('punkt')\n",
    "nltk.download('brown')\n",
    "from nltk.corpus import stopwords\n",
    "nltk.download('stopwords')\n",
    "nltk.download('wordnet')\n",
    "nltk.download('averaged_perceptron_tagger')\n",
    "stop = stopwords.words('english')\n",
    "stop = set(stopwords.words('english')) - {'no', 'not','never',\"don't\",'never','nor'}\n",
    "pd.set_option(\"display.max_rows\", None)\n",
    "pd.set_option(\"display.max_columns\", None)\n",
    "from nltk.tag import pos_tag\n",
    "from nltk.stem.wordnet import WordNetLemmatizer\n",
    "from textblob import TextBlob\n",
    "from nltk import classify\n",
    "from nltk import NaiveBayesClassifier"
   ]
  },
  {
   "cell_type": "code",
   "execution_count": 59,
   "id": "dc65652c",
   "metadata": {},
   "outputs": [
    {
     "name": "stdout",
     "output_type": "stream",
     "text": [
      "{'weren', 'were', 'other', \"aren't\", 't', 'herself', 'was', 'is', 're', 'wasn', 'such', 'what', 'where', \"didn't\", 'as', 'hasn', 'who', 'while', 'only', \"couldn't\", 'just', 'won', 'that', 'than', 'your', 'shan', 'to', 'yourselves', 'below', 'now', 'couldn', 'ours', 'or', 'through', 'above', 'have', 'off', \"you've\", 'once', 'each', 'with', 'its', 'hadn', 'up', 'few', \"mustn't\", 'own', 's', 'can', 'them', 'during', 'don', 'an', 'himself', 'but', 'am', 'theirs', \"doesn't\", 'has', 'hers', \"should've\", 'then', 'it', 'itself', 'themselves', 'because', 'after', 'into', 'how', 'against', 'will', 've', \"that'll\", \"hadn't\", 'd', \"won't\", 'which', 'from', 'when', \"needn't\", 'our', \"isn't\", \"you'd\", 'under', 'all', 'ourselves', 'didn', 'you', \"wouldn't\", 'so', 'ain', 'out', 'doing', 'until', 'any', 'she', 'did', 'be', 'by', 'on', 'll', 'y', 'of', 'haven', 'mightn', 'at', 'should', 'he', 'yours', 'doesn', 'this', 'having', 'these', 'we', 'if', \"weren't\", 'most', 'too', 'myself', 'his', 'isn', 'being', 'm', 'here', 'my', \"hasn't\", \"haven't\", 'o', 'in', 'down', 'been', 'they', 'are', 'ma', 'a', 'over', 'needn', 'him', 'and', 'their', 'between', 'there', 'aren', 'about', 'before', 'same', \"you're\", \"shan't\", 'whom', 'again', \"wasn't\", 'some', 'more', \"shouldn't\", 'had', 'the', \"you'll\", 'mustn', 'for', 'her', 'shouldn', 'does', 'further', 'yourself', \"mightn't\", 'why', 'wouldn', 'both', 'me', \"it's\", 'those', \"she's\", 'very', 'i', 'do'}\n"
     ]
    }
   ],
   "source": [
    "print(stop)"
   ]
  },
  {
   "cell_type": "code",
   "execution_count": 60,
   "id": "325e1421",
   "metadata": {},
   "outputs": [],
   "source": [
    "df_train = pd.read_csv('../training.1600000.processed.noemoticon.csv',encoding='latin-1')\n",
    "df_test = pd.read_csv('../testdata.manual.2009.06.14.csv',encoding='latin-1')\n",
    "df_test = df_test[df_test['sentiment']!=2]"
   ]
  },
  {
   "cell_type": "code",
   "execution_count": 61,
   "id": "7fdbf029",
   "metadata": {
    "scrolled": true
   },
   "outputs": [
    {
     "data": {
      "text/plain": [
       "sentiment    217486\n",
       "user_id      217486\n",
       "date         217486\n",
       "query        217486\n",
       "user         217486\n",
       "text         217486\n",
       "dtype: int64"
      ]
     },
     "execution_count": 61,
     "metadata": {},
     "output_type": "execute_result"
    }
   ],
   "source": [
    "df_train[(df_train['text'].str.contains(r'no|not|never|didnt',regex=True))&(df_train['sentiment']==0)].count()"
   ]
  },
  {
   "cell_type": "code",
   "execution_count": 62,
   "id": "c3964a6b",
   "metadata": {
    "scrolled": true
   },
   "outputs": [
    {
     "data": {
      "text/plain": [
       "sentiment    0\n",
       "user_id      0\n",
       "date         0\n",
       "query        0\n",
       "user         0\n",
       "text         0\n",
       "dtype: int64"
      ]
     },
     "execution_count": 62,
     "metadata": {},
     "output_type": "execute_result"
    }
   ],
   "source": [
    "df_train[(df_train['text'].str.contains(r'no|not|never|didnt|nor',regex=True))&(df_train['sentiment']==2)].count()"
   ]
  },
  {
   "cell_type": "code",
   "execution_count": 126,
   "id": "e3140ba2",
   "metadata": {},
   "outputs": [
    {
     "data": {
      "text/html": [
       "<div>\n",
       "<style scoped>\n",
       "    .dataframe tbody tr th:only-of-type {\n",
       "        vertical-align: middle;\n",
       "    }\n",
       "\n",
       "    .dataframe tbody tr th {\n",
       "        vertical-align: top;\n",
       "    }\n",
       "\n",
       "    .dataframe thead th {\n",
       "        text-align: right;\n",
       "    }\n",
       "</style>\n",
       "<table border=\"1\" class=\"dataframe\">\n",
       "  <thead>\n",
       "    <tr style=\"text-align: right;\">\n",
       "      <th></th>\n",
       "      <th>sentiment</th>\n",
       "      <th>user_id</th>\n",
       "      <th>date</th>\n",
       "      <th>query</th>\n",
       "      <th>user</th>\n",
       "      <th>text</th>\n",
       "    </tr>\n",
       "  </thead>\n",
       "  <tbody>\n",
       "    <tr>\n",
       "      <th>0</th>\n",
       "      <td>0</td>\n",
       "      <td>1467810369</td>\n",
       "      <td>Mon Apr 06 22:19:45 PDT 2009</td>\n",
       "      <td>NO_QUERY</td>\n",
       "      <td>_TheSpecialOne_</td>\n",
       "      <td>@switchfoot http://twitpic.com/2y1zl - Awww, t...</td>\n",
       "    </tr>\n",
       "    <tr>\n",
       "      <th>1</th>\n",
       "      <td>0</td>\n",
       "      <td>1467810672</td>\n",
       "      <td>Mon Apr 06 22:19:49 PDT 2009</td>\n",
       "      <td>NO_QUERY</td>\n",
       "      <td>scotthamilton</td>\n",
       "      <td>is upset that he can't update his Facebook by ...</td>\n",
       "    </tr>\n",
       "    <tr>\n",
       "      <th>2</th>\n",
       "      <td>0</td>\n",
       "      <td>1467810917</td>\n",
       "      <td>Mon Apr 06 22:19:53 PDT 2009</td>\n",
       "      <td>NO_QUERY</td>\n",
       "      <td>mattycus</td>\n",
       "      <td>@Kenichan I dived many times for the ball. Man...</td>\n",
       "    </tr>\n",
       "    <tr>\n",
       "      <th>3</th>\n",
       "      <td>0</td>\n",
       "      <td>1467811184</td>\n",
       "      <td>Mon Apr 06 22:19:57 PDT 2009</td>\n",
       "      <td>NO_QUERY</td>\n",
       "      <td>ElleCTF</td>\n",
       "      <td>my whole body feels itchy and like its on fire</td>\n",
       "    </tr>\n",
       "    <tr>\n",
       "      <th>4</th>\n",
       "      <td>0</td>\n",
       "      <td>1467811193</td>\n",
       "      <td>Mon Apr 06 22:19:57 PDT 2009</td>\n",
       "      <td>NO_QUERY</td>\n",
       "      <td>Karoli</td>\n",
       "      <td>@nationwideclass no, it's not behaving at all....</td>\n",
       "    </tr>\n",
       "  </tbody>\n",
       "</table>\n",
       "</div>"
      ],
      "text/plain": [
       "   sentiment     user_id                          date     query  \\\n",
       "0          0  1467810369  Mon Apr 06 22:19:45 PDT 2009  NO_QUERY   \n",
       "1          0  1467810672  Mon Apr 06 22:19:49 PDT 2009  NO_QUERY   \n",
       "2          0  1467810917  Mon Apr 06 22:19:53 PDT 2009  NO_QUERY   \n",
       "3          0  1467811184  Mon Apr 06 22:19:57 PDT 2009  NO_QUERY   \n",
       "4          0  1467811193  Mon Apr 06 22:19:57 PDT 2009  NO_QUERY   \n",
       "\n",
       "              user                                               text  \n",
       "0  _TheSpecialOne_  @switchfoot http://twitpic.com/2y1zl - Awww, t...  \n",
       "1    scotthamilton  is upset that he can't update his Facebook by ...  \n",
       "2         mattycus  @Kenichan I dived many times for the ball. Man...  \n",
       "3          ElleCTF    my whole body feels itchy and like its on fire   \n",
       "4           Karoli  @nationwideclass no, it's not behaving at all....  "
      ]
     },
     "execution_count": 126,
     "metadata": {},
     "output_type": "execute_result"
    }
   ],
   "source": [
    "df_concat = pd.concat([df_train,df_test],axis=0)\n",
    "df_concat.head()"
   ]
  },
  {
   "cell_type": "code",
   "execution_count": 63,
   "id": "34eb7577",
   "metadata": {
    "scrolled": true
   },
   "outputs": [
    {
     "data": {
      "text/plain": [
       "sentiment    144569\n",
       "user_id      144569\n",
       "date         144569\n",
       "query        144569\n",
       "user         144569\n",
       "text         144569\n",
       "dtype: int64"
      ]
     },
     "execution_count": 63,
     "metadata": {},
     "output_type": "execute_result"
    }
   ],
   "source": [
    "df_train[(df_train['text'].str.contains(r'no|not|never|didnt',regex=True))&(df_train['sentiment']==4)].count()"
   ]
  },
  {
   "cell_type": "code",
   "execution_count": 132,
   "id": "d6ee5e5f",
   "metadata": {},
   "outputs": [
    {
     "data": {
      "text/html": [
       "<div>\n",
       "<style scoped>\n",
       "    .dataframe tbody tr th:only-of-type {\n",
       "        vertical-align: middle;\n",
       "    }\n",
       "\n",
       "    .dataframe tbody tr th {\n",
       "        vertical-align: top;\n",
       "    }\n",
       "\n",
       "    .dataframe thead th {\n",
       "        text-align: right;\n",
       "    }\n",
       "</style>\n",
       "<table border=\"1\" class=\"dataframe\">\n",
       "  <thead>\n",
       "    <tr style=\"text-align: right;\">\n",
       "      <th></th>\n",
       "      <th>sentiment</th>\n",
       "      <th>user_id</th>\n",
       "      <th>date</th>\n",
       "      <th>query</th>\n",
       "      <th>user</th>\n",
       "      <th>text</th>\n",
       "    </tr>\n",
       "  </thead>\n",
       "  <tbody>\n",
       "    <tr>\n",
       "      <th>0</th>\n",
       "      <td>0</td>\n",
       "      <td>1467810369</td>\n",
       "      <td>Mon Apr 06 22:19:45 PDT 2009</td>\n",
       "      <td>NO_QUERY</td>\n",
       "      <td>_TheSpecialOne_</td>\n",
       "      <td>awww thats bummer shoulda got david carr third...</td>\n",
       "    </tr>\n",
       "    <tr>\n",
       "      <th>1</th>\n",
       "      <td>0</td>\n",
       "      <td>1467810672</td>\n",
       "      <td>Mon Apr 06 22:19:49 PDT 2009</td>\n",
       "      <td>NO_QUERY</td>\n",
       "      <td>scotthamilton</td>\n",
       "      <td>upset cant update facebook texting might cry r...</td>\n",
       "    </tr>\n",
       "    <tr>\n",
       "      <th>2</th>\n",
       "      <td>0</td>\n",
       "      <td>1467810917</td>\n",
       "      <td>Mon Apr 06 22:19:53 PDT 2009</td>\n",
       "      <td>NO_QUERY</td>\n",
       "      <td>mattycus</td>\n",
       "      <td>dived many times ball managed save 50 rest go ...</td>\n",
       "    </tr>\n",
       "    <tr>\n",
       "      <th>3</th>\n",
       "      <td>0</td>\n",
       "      <td>1467811184</td>\n",
       "      <td>Mon Apr 06 22:19:57 PDT 2009</td>\n",
       "      <td>NO_QUERY</td>\n",
       "      <td>ElleCTF</td>\n",
       "      <td>whole body feels itchy like fire</td>\n",
       "    </tr>\n",
       "    <tr>\n",
       "      <th>4</th>\n",
       "      <td>0</td>\n",
       "      <td>1467811193</td>\n",
       "      <td>Mon Apr 06 22:19:57 PDT 2009</td>\n",
       "      <td>NO_QUERY</td>\n",
       "      <td>Karoli</td>\n",
       "      <td>no not behaving im mad cant see</td>\n",
       "    </tr>\n",
       "  </tbody>\n",
       "</table>\n",
       "</div>"
      ],
      "text/plain": [
       "   sentiment     user_id                          date     query  \\\n",
       "0          0  1467810369  Mon Apr 06 22:19:45 PDT 2009  NO_QUERY   \n",
       "1          0  1467810672  Mon Apr 06 22:19:49 PDT 2009  NO_QUERY   \n",
       "2          0  1467810917  Mon Apr 06 22:19:53 PDT 2009  NO_QUERY   \n",
       "3          0  1467811184  Mon Apr 06 22:19:57 PDT 2009  NO_QUERY   \n",
       "4          0  1467811193  Mon Apr 06 22:19:57 PDT 2009  NO_QUERY   \n",
       "\n",
       "              user                                               text  \n",
       "0  _TheSpecialOne_  awww thats bummer shoulda got david carr third...  \n",
       "1    scotthamilton  upset cant update facebook texting might cry r...  \n",
       "2         mattycus  dived many times ball managed save 50 rest go ...  \n",
       "3          ElleCTF                   whole body feels itchy like fire  \n",
       "4           Karoli                    no not behaving im mad cant see  "
      ]
     },
     "execution_count": 132,
     "metadata": {},
     "output_type": "execute_result"
    }
   ],
   "source": [
    "df_concat['text'] = df_concat['text'].str.lower()\n",
    "df_concat['text'] = df_concat['text'].apply(lambda x: ' '.join([word for word in x.split() if '@' not in word]))\n",
    "df_concat['text'] = df_concat['text'].apply(lambda x: ' '.join([word for word in x.split() if word not in (stop)]))\n",
    "df_concat['text'] = df_concat['text'].apply(lambda x: ' '.join([word for word in x.split() if 'http' not in word]))\n",
    "df_concat['text'] = df_concat['text'].str.replace(r'[^\\w\\s]','',regex=True)\n",
    "df_concat['sentiment'] = df_concat['sentiment'].replace(4,1)\n",
    "df_concat.head()"
   ]
  },
  {
   "cell_type": "code",
   "execution_count": 133,
   "id": "5c760e12",
   "metadata": {},
   "outputs": [
    {
     "data": {
      "text/plain": [
       "'|    |   sentiment |    user_id | date                         | query    | user            | text                                                                       |\\n|---:|------------:|-----------:|:-----------------------------|:---------|:----------------|:---------------------------------------------------------------------------|\\n|  0 |           0 | 1467810369 | Mon Apr 06 22:19:45 PDT 2009 | NO_QUERY | _TheSpecialOne_ | awww thats bummer shoulda got david carr third day                         |\\n|  1 |           0 | 1467810672 | Mon Apr 06 22:19:49 PDT 2009 | NO_QUERY | scotthamilton   | upset cant update facebook texting might cry result school today also blah |\\n|  2 |           0 | 1467810917 | Mon Apr 06 22:19:53 PDT 2009 | NO_QUERY | mattycus        | dived many times ball managed save 50 rest go bounds                       |\\n|  3 |           0 | 1467811184 | Mon Apr 06 22:19:57 PDT 2009 | NO_QUERY | ElleCTF         | whole body feels itchy like fire                                           |\\n|  4 |           0 | 1467811193 | Mon Apr 06 22:19:57 PDT 2009 | NO_QUERY | Karoli          | no not behaving im mad cant see                                            |'"
      ]
     },
     "execution_count": 133,
     "metadata": {},
     "output_type": "execute_result"
    }
   ],
   "source": [
    "df_concat.head().to_markdown()"
   ]
  },
  {
   "cell_type": "markdown",
   "id": "6d44fc00",
   "metadata": {},
   "source": [
    "Because of the imbalance in the testing data, i will combine the testing adn training and then do an 80/20 split"
   ]
  },
  {
   "cell_type": "code",
   "execution_count": 134,
   "id": "ce8dd682",
   "metadata": {},
   "outputs": [
    {
     "data": {
      "text/plain": [
       "'|    |   index |   sentiment |    user_id | date                         | query    | user            | text                                                           |\\n|---:|--------:|------------:|-----------:|:-----------------------------|:---------|:----------------|:---------------------------------------------------------------|\\n|  0 |       4 |           0 | 1467811193 | Mon Apr 06 22:19:57 PDT 2009 | NO_QUERY | Karoli          | no not behaving im mad cant see                                |\\n|  1 |       5 |           0 | 1467811372 | Mon Apr 06 22:20:00 PDT 2009 | NO_QUERY | joy_wolf        | not whole crew                                                 |\\n|  2 |       7 |           0 | 1467811594 | Mon Apr 06 22:20:03 PDT 2009 | NO_QUERY | coZZ            | hey long time no see yes rains bit bit lol im fine thanks hows |\\n|  3 |       8 |           0 | 1467811795 | Mon Apr 06 22:20:05 PDT 2009 | NO_QUERY | 2Hood4Hollywood | nope                                                           |\\n|  4 |      10 |           0 | 1467812416 | Mon Apr 06 22:20:16 PDT 2009 | NO_QUERY | erinx3leannexo  | spring break plain city snowing                                |'"
      ]
     },
     "execution_count": 134,
     "metadata": {},
     "output_type": "execute_result"
    }
   ],
   "source": [
    "df_neg = df_concat[df_concat['text'].str.contains(r'no|not|never|didnt|never',regex=True)]\n",
    "df_neg = df_neg.reset_index()\n",
    "df_neg.head().to_markdown()"
   ]
  },
  {
   "cell_type": "code",
   "execution_count": 66,
   "id": "acc2143e",
   "metadata": {},
   "outputs": [
    {
     "data": {
      "text/html": [
       "<div>\n",
       "<style scoped>\n",
       "    .dataframe tbody tr th:only-of-type {\n",
       "        vertical-align: middle;\n",
       "    }\n",
       "\n",
       "    .dataframe tbody tr th {\n",
       "        vertical-align: top;\n",
       "    }\n",
       "\n",
       "    .dataframe thead th {\n",
       "        text-align: right;\n",
       "    }\n",
       "</style>\n",
       "<table border=\"1\" class=\"dataframe\">\n",
       "  <thead>\n",
       "    <tr style=\"text-align: right;\">\n",
       "      <th></th>\n",
       "      <th>index</th>\n",
       "      <th>sentiment</th>\n",
       "      <th>user_id</th>\n",
       "      <th>date</th>\n",
       "      <th>query</th>\n",
       "      <th>user</th>\n",
       "      <th>text</th>\n",
       "    </tr>\n",
       "  </thead>\n",
       "  <tbody>\n",
       "    <tr>\n",
       "      <th>0</th>\n",
       "      <td>4</td>\n",
       "      <td>0</td>\n",
       "      <td>1467811193</td>\n",
       "      <td>Mon Apr 06 22:19:57 PDT 2009</td>\n",
       "      <td>NO_QUERY</td>\n",
       "      <td>Karoli</td>\n",
       "      <td>no not behaving all im mad here cant see there</td>\n",
       "    </tr>\n",
       "    <tr>\n",
       "      <th>1</th>\n",
       "      <td>5</td>\n",
       "      <td>0</td>\n",
       "      <td>1467811372</td>\n",
       "      <td>Mon Apr 06 22:20:00 PDT 2009</td>\n",
       "      <td>NO_QUERY</td>\n",
       "      <td>joy_wolf</td>\n",
       "      <td>not whole crew</td>\n",
       "    </tr>\n",
       "    <tr>\n",
       "      <th>2</th>\n",
       "      <td>7</td>\n",
       "      <td>0</td>\n",
       "      <td>1467811594</td>\n",
       "      <td>Mon Apr 06 22:20:03 PDT 2009</td>\n",
       "      <td>NO_QUERY</td>\n",
       "      <td>coZZ</td>\n",
       "      <td>hey long time no see yes rains bit only bit lo...</td>\n",
       "    </tr>\n",
       "    <tr>\n",
       "      <th>3</th>\n",
       "      <td>8</td>\n",
       "      <td>0</td>\n",
       "      <td>1467811795</td>\n",
       "      <td>Mon Apr 06 22:20:05 PDT 2009</td>\n",
       "      <td>NO_QUERY</td>\n",
       "      <td>2Hood4Hollywood</td>\n",
       "      <td>nope</td>\n",
       "    </tr>\n",
       "    <tr>\n",
       "      <th>4</th>\n",
       "      <td>10</td>\n",
       "      <td>0</td>\n",
       "      <td>1467812416</td>\n",
       "      <td>Mon Apr 06 22:20:16 PDT 2009</td>\n",
       "      <td>NO_QUERY</td>\n",
       "      <td>erinx3leannexo</td>\n",
       "      <td>spring break plain city snowing</td>\n",
       "    </tr>\n",
       "  </tbody>\n",
       "</table>\n",
       "</div>"
      ],
      "text/plain": [
       "   index  sentiment     user_id                          date     query  \\\n",
       "0      4          0  1467811193  Mon Apr 06 22:19:57 PDT 2009  NO_QUERY   \n",
       "1      5          0  1467811372  Mon Apr 06 22:20:00 PDT 2009  NO_QUERY   \n",
       "2      7          0  1467811594  Mon Apr 06 22:20:03 PDT 2009  NO_QUERY   \n",
       "3      8          0  1467811795  Mon Apr 06 22:20:05 PDT 2009  NO_QUERY   \n",
       "4     10          0  1467812416  Mon Apr 06 22:20:16 PDT 2009  NO_QUERY   \n",
       "\n",
       "              user                                               text  \n",
       "0           Karoli     no not behaving all im mad here cant see there  \n",
       "1         joy_wolf                                     not whole crew  \n",
       "2             coZZ  hey long time no see yes rains bit only bit lo...  \n",
       "3  2Hood4Hollywood                                               nope  \n",
       "4   erinx3leannexo                    spring break plain city snowing  "
      ]
     },
     "execution_count": 66,
     "metadata": {},
     "output_type": "execute_result"
    }
   ],
   "source": [
    "df_neg['text'] = df_neg['text'].str.lower()\n",
    "df_neg['text'] = df_neg['text'].apply(lambda x: ' '.join([word for word in x.split() if '@' not in word]))\n",
    "df_neg['text'] = df_neg['text'].apply(lambda x: ' '.join([word for word in x.split() if word not in (stop)]))\n",
    "df_neg['text'] = df_neg['text'].str.replace(r'[^\\w\\s]','',regex=True)\n",
    "df_neg.head()"
   ]
  },
  {
   "cell_type": "code",
   "execution_count": 92,
   "id": "06b40c74",
   "metadata": {},
   "outputs": [],
   "source": [
    "df_neg['sentiment'] = df_neg['sentiment'].replace(4,1)"
   ]
  },
  {
   "cell_type": "code",
   "execution_count": 93,
   "id": "cd80a448",
   "metadata": {},
   "outputs": [
    {
     "data": {
      "text/plain": [
       "<AxesSubplot:>"
      ]
     },
     "execution_count": 93,
     "metadata": {},
     "output_type": "execute_result"
    },
    {
     "data": {
      "image/png": "[encoded data removed]",
      "text/plain": [
       "<Figure size 432x288 with 1 Axes>"
      ]
     },
     "metadata": {
      "needs_background": "light"
     },
     "output_type": "display_data"
    }
   ],
   "source": [
    "df_neg['sentiment'].value_counts(sort=False).plot.bar()"
   ]
  },
  {
   "cell_type": "markdown",
   "id": "324dfa1b",
   "metadata": {},
   "source": [
    "Remove outliers"
   ]
  },
  {
   "cell_type": "code",
   "execution_count": 96,
   "id": "756b3cd8",
   "metadata": {},
   "outputs": [
    {
     "data": {
      "text/plain": [
       "count    362116.000000\n",
       "mean          9.397431\n",
       "std           4.068642\n",
       "min           0.000000\n",
       "25%           6.000000\n",
       "50%           9.000000\n",
       "75%          12.000000\n",
       "max          29.000000\n",
       "Name: text, dtype: float64"
      ]
     },
     "execution_count": 96,
     "metadata": {},
     "output_type": "execute_result"
    },
    {
     "data": {
      "image/png": "[encoded data removed]",
      "text/plain": [
       "<Figure size 432x288 with 1 Axes>"
      ]
     },
     "metadata": {
      "needs_background": "light"
     },
     "output_type": "display_data"
    }
   ],
   "source": [
    "# df_neg['text'].str.split().apply(len).value_counts().head()\n",
    "df_neg['text'].apply(lambda n: len(n.split())).hist()\n",
    "df_neg['text'].apply(lambda n: len(n.split())).describe()"
   ]
  },
  {
   "cell_type": "code",
   "execution_count": 97,
   "id": "89be2506",
   "metadata": {},
   "outputs": [],
   "source": [
    "#df_neg = df_neg[df_neg['text'].str.count(\" \") >= 2]"
   ]
  },
  {
   "cell_type": "code",
   "execution_count": 98,
   "id": "1bde9ae1",
   "metadata": {},
   "outputs": [
    {
     "data": {
      "text/plain": [
       "362116"
      ]
     },
     "execution_count": 98,
     "metadata": {},
     "output_type": "execute_result"
    }
   ],
   "source": [
    "vocab_size = 5000\n",
    "max_length = df_neg['text'].apply(lambda n: len(n.split())).max()\n",
    "\n",
    "myTokenizer = Tokenizer(num_words=vocab_size)\n",
    "myTokenizer.fit_on_texts(df_concat['text'])\n",
    "#print(myTokenizer.word_index)\n",
    "sequences = myTokenizer.texts_to_sequences(df_neg['text'])\n",
    "padded = pad_sequences(sequences, maxlen=max_length, padding=\"post\")\n",
    "#padded = pad_sequences(sequences, maxlen=20, padding=\"post\")\n",
    "\n",
    "len(padded)"
   ]
  },
  {
   "cell_type": "code",
   "execution_count": 100,
   "id": "dfd1b9fe",
   "metadata": {},
   "outputs": [
    {
     "data": {
      "text/html": [
       "<div>\n",
       "<style scoped>\n",
       "    .dataframe tbody tr th:only-of-type {\n",
       "        vertical-align: middle;\n",
       "    }\n",
       "\n",
       "    .dataframe tbody tr th {\n",
       "        vertical-align: top;\n",
       "    }\n",
       "\n",
       "    .dataframe thead th {\n",
       "        text-align: right;\n",
       "    }\n",
       "</style>\n",
       "<table border=\"1\" class=\"dataframe\">\n",
       "  <thead>\n",
       "    <tr style=\"text-align: right;\">\n",
       "      <th></th>\n",
       "      <th>index</th>\n",
       "      <th>sentiment</th>\n",
       "      <th>user_id</th>\n",
       "      <th>date</th>\n",
       "      <th>query</th>\n",
       "      <th>user</th>\n",
       "      <th>text</th>\n",
       "    </tr>\n",
       "  </thead>\n",
       "  <tbody>\n",
       "    <tr>\n",
       "      <th>0</th>\n",
       "      <td>4</td>\n",
       "      <td>0</td>\n",
       "      <td>1467811193</td>\n",
       "      <td>Mon Apr 06 22:19:57 PDT 2009</td>\n",
       "      <td>NO_QUERY</td>\n",
       "      <td>Karoli</td>\n",
       "      <td>no not behaving all im mad here cant see there</td>\n",
       "    </tr>\n",
       "    <tr>\n",
       "      <th>1</th>\n",
       "      <td>5</td>\n",
       "      <td>0</td>\n",
       "      <td>1467811372</td>\n",
       "      <td>Mon Apr 06 22:20:00 PDT 2009</td>\n",
       "      <td>NO_QUERY</td>\n",
       "      <td>joy_wolf</td>\n",
       "      <td>not whole crew</td>\n",
       "    </tr>\n",
       "    <tr>\n",
       "      <th>2</th>\n",
       "      <td>7</td>\n",
       "      <td>0</td>\n",
       "      <td>1467811594</td>\n",
       "      <td>Mon Apr 06 22:20:03 PDT 2009</td>\n",
       "      <td>NO_QUERY</td>\n",
       "      <td>coZZ</td>\n",
       "      <td>hey long time no see yes rains bit only bit lo...</td>\n",
       "    </tr>\n",
       "    <tr>\n",
       "      <th>3</th>\n",
       "      <td>8</td>\n",
       "      <td>0</td>\n",
       "      <td>1467811795</td>\n",
       "      <td>Mon Apr 06 22:20:05 PDT 2009</td>\n",
       "      <td>NO_QUERY</td>\n",
       "      <td>2Hood4Hollywood</td>\n",
       "      <td>nope</td>\n",
       "    </tr>\n",
       "    <tr>\n",
       "      <th>4</th>\n",
       "      <td>10</td>\n",
       "      <td>0</td>\n",
       "      <td>1467812416</td>\n",
       "      <td>Mon Apr 06 22:20:16 PDT 2009</td>\n",
       "      <td>NO_QUERY</td>\n",
       "      <td>erinx3leannexo</td>\n",
       "      <td>spring break plain city snowing</td>\n",
       "    </tr>\n",
       "  </tbody>\n",
       "</table>\n",
       "</div>"
      ],
      "text/plain": [
       "   index  sentiment     user_id                          date     query  \\\n",
       "0      4          0  1467811193  Mon Apr 06 22:19:57 PDT 2009  NO_QUERY   \n",
       "1      5          0  1467811372  Mon Apr 06 22:20:00 PDT 2009  NO_QUERY   \n",
       "2      7          0  1467811594  Mon Apr 06 22:20:03 PDT 2009  NO_QUERY   \n",
       "3      8          0  1467811795  Mon Apr 06 22:20:05 PDT 2009  NO_QUERY   \n",
       "4     10          0  1467812416  Mon Apr 06 22:20:16 PDT 2009  NO_QUERY   \n",
       "\n",
       "              user                                               text  \n",
       "0           Karoli     no not behaving all im mad here cant see there  \n",
       "1         joy_wolf                                     not whole crew  \n",
       "2             coZZ  hey long time no see yes rains bit only bit lo...  \n",
       "3  2Hood4Hollywood                                               nope  \n",
       "4   erinx3leannexo                    spring break plain city snowing  "
      ]
     },
     "execution_count": 100,
     "metadata": {},
     "output_type": "execute_result"
    }
   ],
   "source": [
    "df_neg.head()"
   ]
  },
  {
   "cell_type": "code",
   "execution_count": 101,
   "id": "157bbdd3",
   "metadata": {},
   "outputs": [],
   "source": [
    "df_final = df_neg.join(pd.DataFrame(padded))"
   ]
  },
  {
   "cell_type": "code",
   "execution_count": 102,
   "id": "687e0ad6",
   "metadata": {},
   "outputs": [
    {
     "data": {
      "text/html": [
       "<div>\n",
       "<style scoped>\n",
       "    .dataframe tbody tr th:only-of-type {\n",
       "        vertical-align: middle;\n",
       "    }\n",
       "\n",
       "    .dataframe tbody tr th {\n",
       "        vertical-align: top;\n",
       "    }\n",
       "\n",
       "    .dataframe thead th {\n",
       "        text-align: right;\n",
       "    }\n",
       "</style>\n",
       "<table border=\"1\" class=\"dataframe\">\n",
       "  <thead>\n",
       "    <tr style=\"text-align: right;\">\n",
       "      <th></th>\n",
       "      <th>index</th>\n",
       "      <th>sentiment</th>\n",
       "      <th>user_id</th>\n",
       "      <th>date</th>\n",
       "      <th>query</th>\n",
       "      <th>user</th>\n",
       "      <th>text</th>\n",
       "      <th>0</th>\n",
       "      <th>1</th>\n",
       "      <th>2</th>\n",
       "      <th>3</th>\n",
       "      <th>4</th>\n",
       "      <th>5</th>\n",
       "      <th>6</th>\n",
       "      <th>7</th>\n",
       "      <th>8</th>\n",
       "      <th>9</th>\n",
       "      <th>10</th>\n",
       "      <th>11</th>\n",
       "      <th>12</th>\n",
       "      <th>13</th>\n",
       "      <th>14</th>\n",
       "      <th>15</th>\n",
       "      <th>16</th>\n",
       "      <th>17</th>\n",
       "      <th>18</th>\n",
       "      <th>19</th>\n",
       "      <th>20</th>\n",
       "      <th>21</th>\n",
       "      <th>22</th>\n",
       "      <th>23</th>\n",
       "      <th>24</th>\n",
       "      <th>25</th>\n",
       "      <th>26</th>\n",
       "      <th>27</th>\n",
       "      <th>28</th>\n",
       "    </tr>\n",
       "  </thead>\n",
       "  <tbody>\n",
       "    <tr>\n",
       "      <th>0</th>\n",
       "      <td>4</td>\n",
       "      <td>0</td>\n",
       "      <td>1467811193</td>\n",
       "      <td>Mon Apr 06 22:19:57 PDT 2009</td>\n",
       "      <td>NO_QUERY</td>\n",
       "      <td>Karoli</td>\n",
       "      <td>no not behaving all im mad here cant see there</td>\n",
       "      <td>36</td>\n",
       "      <td>24</td>\n",
       "      <td>32</td>\n",
       "      <td>58</td>\n",
       "      <td>617</td>\n",
       "      <td>91</td>\n",
       "      <td>171</td>\n",
       "      <td>68</td>\n",
       "      <td>86</td>\n",
       "      <td>0</td>\n",
       "      <td>0</td>\n",
       "      <td>0</td>\n",
       "      <td>0</td>\n",
       "      <td>0</td>\n",
       "      <td>0</td>\n",
       "      <td>0</td>\n",
       "      <td>0</td>\n",
       "      <td>0</td>\n",
       "      <td>0</td>\n",
       "      <td>0</td>\n",
       "      <td>0</td>\n",
       "      <td>0</td>\n",
       "      <td>0</td>\n",
       "      <td>0</td>\n",
       "      <td>0</td>\n",
       "      <td>0</td>\n",
       "      <td>0</td>\n",
       "      <td>0</td>\n",
       "      <td>0</td>\n",
       "    </tr>\n",
       "    <tr>\n",
       "      <th>1</th>\n",
       "      <td>5</td>\n",
       "      <td>0</td>\n",
       "      <td>1467811372</td>\n",
       "      <td>Mon Apr 06 22:20:00 PDT 2009</td>\n",
       "      <td>NO_QUERY</td>\n",
       "      <td>joy_wolf</td>\n",
       "      <td>not whole crew</td>\n",
       "      <td>24</td>\n",
       "      <td>450</td>\n",
       "      <td>2247</td>\n",
       "      <td>0</td>\n",
       "      <td>0</td>\n",
       "      <td>0</td>\n",
       "      <td>0</td>\n",
       "      <td>0</td>\n",
       "      <td>0</td>\n",
       "      <td>0</td>\n",
       "      <td>0</td>\n",
       "      <td>0</td>\n",
       "      <td>0</td>\n",
       "      <td>0</td>\n",
       "      <td>0</td>\n",
       "      <td>0</td>\n",
       "      <td>0</td>\n",
       "      <td>0</td>\n",
       "      <td>0</td>\n",
       "      <td>0</td>\n",
       "      <td>0</td>\n",
       "      <td>0</td>\n",
       "      <td>0</td>\n",
       "      <td>0</td>\n",
       "      <td>0</td>\n",
       "      <td>0</td>\n",
       "      <td>0</td>\n",
       "      <td>0</td>\n",
       "      <td>0</td>\n",
       "    </tr>\n",
       "    <tr>\n",
       "      <th>2</th>\n",
       "      <td>7</td>\n",
       "      <td>0</td>\n",
       "      <td>1467811594</td>\n",
       "      <td>Mon Apr 06 22:20:03 PDT 2009</td>\n",
       "      <td>NO_QUERY</td>\n",
       "      <td>coZZ</td>\n",
       "      <td>hey long time no see yes rains bit only bit lo...</td>\n",
       "      <td>157</td>\n",
       "      <td>172</td>\n",
       "      <td>50</td>\n",
       "      <td>36</td>\n",
       "      <td>68</td>\n",
       "      <td>160</td>\n",
       "      <td>2765</td>\n",
       "      <td>131</td>\n",
       "      <td>115</td>\n",
       "      <td>131</td>\n",
       "      <td>49</td>\n",
       "      <td>58</td>\n",
       "      <td>549</td>\n",
       "      <td>82</td>\n",
       "      <td>1786</td>\n",
       "      <td>0</td>\n",
       "      <td>0</td>\n",
       "      <td>0</td>\n",
       "      <td>0</td>\n",
       "      <td>0</td>\n",
       "      <td>0</td>\n",
       "      <td>0</td>\n",
       "      <td>0</td>\n",
       "      <td>0</td>\n",
       "      <td>0</td>\n",
       "      <td>0</td>\n",
       "      <td>0</td>\n",
       "      <td>0</td>\n",
       "      <td>0</td>\n",
       "    </tr>\n",
       "    <tr>\n",
       "      <th>3</th>\n",
       "      <td>8</td>\n",
       "      <td>0</td>\n",
       "      <td>1467811795</td>\n",
       "      <td>Mon Apr 06 22:20:05 PDT 2009</td>\n",
       "      <td>NO_QUERY</td>\n",
       "      <td>2Hood4Hollywood</td>\n",
       "      <td>nope</td>\n",
       "      <td>827</td>\n",
       "      <td>0</td>\n",
       "      <td>0</td>\n",
       "      <td>0</td>\n",
       "      <td>0</td>\n",
       "      <td>0</td>\n",
       "      <td>0</td>\n",
       "      <td>0</td>\n",
       "      <td>0</td>\n",
       "      <td>0</td>\n",
       "      <td>0</td>\n",
       "      <td>0</td>\n",
       "      <td>0</td>\n",
       "      <td>0</td>\n",
       "      <td>0</td>\n",
       "      <td>0</td>\n",
       "      <td>0</td>\n",
       "      <td>0</td>\n",
       "      <td>0</td>\n",
       "      <td>0</td>\n",
       "      <td>0</td>\n",
       "      <td>0</td>\n",
       "      <td>0</td>\n",
       "      <td>0</td>\n",
       "      <td>0</td>\n",
       "      <td>0</td>\n",
       "      <td>0</td>\n",
       "      <td>0</td>\n",
       "      <td>0</td>\n",
       "    </tr>\n",
       "    <tr>\n",
       "      <th>4</th>\n",
       "      <td>10</td>\n",
       "      <td>0</td>\n",
       "      <td>1467812416</td>\n",
       "      <td>Mon Apr 06 22:20:16 PDT 2009</td>\n",
       "      <td>NO_QUERY</td>\n",
       "      <td>erinx3leannexo</td>\n",
       "      <td>spring break plain city snowing</td>\n",
       "      <td>1689</td>\n",
       "      <td>546</td>\n",
       "      <td>3268</td>\n",
       "      <td>628</td>\n",
       "      <td>0</td>\n",
       "      <td>0</td>\n",
       "      <td>0</td>\n",
       "      <td>0</td>\n",
       "      <td>0</td>\n",
       "      <td>0</td>\n",
       "      <td>0</td>\n",
       "      <td>0</td>\n",
       "      <td>0</td>\n",
       "      <td>0</td>\n",
       "      <td>0</td>\n",
       "      <td>0</td>\n",
       "      <td>0</td>\n",
       "      <td>0</td>\n",
       "      <td>0</td>\n",
       "      <td>0</td>\n",
       "      <td>0</td>\n",
       "      <td>0</td>\n",
       "      <td>0</td>\n",
       "      <td>0</td>\n",
       "      <td>0</td>\n",
       "      <td>0</td>\n",
       "      <td>0</td>\n",
       "      <td>0</td>\n",
       "      <td>0</td>\n",
       "    </tr>\n",
       "  </tbody>\n",
       "</table>\n",
       "</div>"
      ],
      "text/plain": [
       "   index  sentiment     user_id                          date     query  \\\n",
       "0      4          0  1467811193  Mon Apr 06 22:19:57 PDT 2009  NO_QUERY   \n",
       "1      5          0  1467811372  Mon Apr 06 22:20:00 PDT 2009  NO_QUERY   \n",
       "2      7          0  1467811594  Mon Apr 06 22:20:03 PDT 2009  NO_QUERY   \n",
       "3      8          0  1467811795  Mon Apr 06 22:20:05 PDT 2009  NO_QUERY   \n",
       "4     10          0  1467812416  Mon Apr 06 22:20:16 PDT 2009  NO_QUERY   \n",
       "\n",
       "              user                                               text     0  \\\n",
       "0           Karoli     no not behaving all im mad here cant see there    36   \n",
       "1         joy_wolf                                     not whole crew    24   \n",
       "2             coZZ  hey long time no see yes rains bit only bit lo...   157   \n",
       "3  2Hood4Hollywood                                               nope   827   \n",
       "4   erinx3leannexo                    spring break plain city snowing  1689   \n",
       "\n",
       "     1     2    3    4    5     6    7    8    9  10  11   12  13    14  15  \\\n",
       "0   24    32   58  617   91   171   68   86    0   0   0    0   0     0   0   \n",
       "1  450  2247    0    0    0     0    0    0    0   0   0    0   0     0   0   \n",
       "2  172    50   36   68  160  2765  131  115  131  49  58  549  82  1786   0   \n",
       "3    0     0    0    0    0     0    0    0    0   0   0    0   0     0   0   \n",
       "4  546  3268  628    0    0     0    0    0    0   0   0    0   0     0   0   \n",
       "\n",
       "   16  17  18  19  20  21  22  23  24  25  26  27  28  \n",
       "0   0   0   0   0   0   0   0   0   0   0   0   0   0  \n",
       "1   0   0   0   0   0   0   0   0   0   0   0   0   0  \n",
       "2   0   0   0   0   0   0   0   0   0   0   0   0   0  \n",
       "3   0   0   0   0   0   0   0   0   0   0   0   0   0  \n",
       "4   0   0   0   0   0   0   0   0   0   0   0   0   0  "
      ]
     },
     "execution_count": 102,
     "metadata": {},
     "output_type": "execute_result"
    }
   ],
   "source": [
    "df_final.head()"
   ]
  },
  {
   "cell_type": "code",
   "execution_count": 103,
   "id": "5322a6b0",
   "metadata": {},
   "outputs": [
    {
     "data": {
      "text/html": [
       "<div>\n",
       "<style scoped>\n",
       "    .dataframe tbody tr th:only-of-type {\n",
       "        vertical-align: middle;\n",
       "    }\n",
       "\n",
       "    .dataframe tbody tr th {\n",
       "        vertical-align: top;\n",
       "    }\n",
       "\n",
       "    .dataframe thead th {\n",
       "        text-align: right;\n",
       "    }\n",
       "</style>\n",
       "<table border=\"1\" class=\"dataframe\">\n",
       "  <thead>\n",
       "    <tr style=\"text-align: right;\">\n",
       "      <th></th>\n",
       "      <th>sentiment</th>\n",
       "      <th>0</th>\n",
       "      <th>1</th>\n",
       "      <th>2</th>\n",
       "      <th>3</th>\n",
       "      <th>4</th>\n",
       "      <th>5</th>\n",
       "      <th>6</th>\n",
       "      <th>7</th>\n",
       "      <th>8</th>\n",
       "      <th>9</th>\n",
       "      <th>10</th>\n",
       "      <th>11</th>\n",
       "      <th>12</th>\n",
       "      <th>13</th>\n",
       "      <th>14</th>\n",
       "      <th>15</th>\n",
       "      <th>16</th>\n",
       "      <th>17</th>\n",
       "      <th>18</th>\n",
       "      <th>19</th>\n",
       "      <th>20</th>\n",
       "      <th>21</th>\n",
       "      <th>22</th>\n",
       "      <th>23</th>\n",
       "      <th>24</th>\n",
       "      <th>25</th>\n",
       "      <th>26</th>\n",
       "      <th>27</th>\n",
       "      <th>28</th>\n",
       "    </tr>\n",
       "  </thead>\n",
       "  <tbody>\n",
       "    <tr>\n",
       "      <th>0</th>\n",
       "      <td>0</td>\n",
       "      <td>36</td>\n",
       "      <td>24</td>\n",
       "      <td>32</td>\n",
       "      <td>58</td>\n",
       "      <td>617</td>\n",
       "      <td>91</td>\n",
       "      <td>171</td>\n",
       "      <td>68</td>\n",
       "      <td>86</td>\n",
       "      <td>0</td>\n",
       "      <td>0</td>\n",
       "      <td>0</td>\n",
       "      <td>0</td>\n",
       "      <td>0</td>\n",
       "      <td>0</td>\n",
       "      <td>0</td>\n",
       "      <td>0</td>\n",
       "      <td>0</td>\n",
       "      <td>0</td>\n",
       "      <td>0</td>\n",
       "      <td>0</td>\n",
       "      <td>0</td>\n",
       "      <td>0</td>\n",
       "      <td>0</td>\n",
       "      <td>0</td>\n",
       "      <td>0</td>\n",
       "      <td>0</td>\n",
       "      <td>0</td>\n",
       "      <td>0</td>\n",
       "    </tr>\n",
       "    <tr>\n",
       "      <th>1</th>\n",
       "      <td>0</td>\n",
       "      <td>24</td>\n",
       "      <td>450</td>\n",
       "      <td>2247</td>\n",
       "      <td>0</td>\n",
       "      <td>0</td>\n",
       "      <td>0</td>\n",
       "      <td>0</td>\n",
       "      <td>0</td>\n",
       "      <td>0</td>\n",
       "      <td>0</td>\n",
       "      <td>0</td>\n",
       "      <td>0</td>\n",
       "      <td>0</td>\n",
       "      <td>0</td>\n",
       "      <td>0</td>\n",
       "      <td>0</td>\n",
       "      <td>0</td>\n",
       "      <td>0</td>\n",
       "      <td>0</td>\n",
       "      <td>0</td>\n",
       "      <td>0</td>\n",
       "      <td>0</td>\n",
       "      <td>0</td>\n",
       "      <td>0</td>\n",
       "      <td>0</td>\n",
       "      <td>0</td>\n",
       "      <td>0</td>\n",
       "      <td>0</td>\n",
       "      <td>0</td>\n",
       "    </tr>\n",
       "    <tr>\n",
       "      <th>2</th>\n",
       "      <td>0</td>\n",
       "      <td>157</td>\n",
       "      <td>172</td>\n",
       "      <td>50</td>\n",
       "      <td>36</td>\n",
       "      <td>68</td>\n",
       "      <td>160</td>\n",
       "      <td>2765</td>\n",
       "      <td>131</td>\n",
       "      <td>115</td>\n",
       "      <td>131</td>\n",
       "      <td>49</td>\n",
       "      <td>58</td>\n",
       "      <td>549</td>\n",
       "      <td>82</td>\n",
       "      <td>1786</td>\n",
       "      <td>0</td>\n",
       "      <td>0</td>\n",
       "      <td>0</td>\n",
       "      <td>0</td>\n",
       "      <td>0</td>\n",
       "      <td>0</td>\n",
       "      <td>0</td>\n",
       "      <td>0</td>\n",
       "      <td>0</td>\n",
       "      <td>0</td>\n",
       "      <td>0</td>\n",
       "      <td>0</td>\n",
       "      <td>0</td>\n",
       "      <td>0</td>\n",
       "    </tr>\n",
       "    <tr>\n",
       "      <th>3</th>\n",
       "      <td>0</td>\n",
       "      <td>827</td>\n",
       "      <td>0</td>\n",
       "      <td>0</td>\n",
       "      <td>0</td>\n",
       "      <td>0</td>\n",
       "      <td>0</td>\n",
       "      <td>0</td>\n",
       "      <td>0</td>\n",
       "      <td>0</td>\n",
       "      <td>0</td>\n",
       "      <td>0</td>\n",
       "      <td>0</td>\n",
       "      <td>0</td>\n",
       "      <td>0</td>\n",
       "      <td>0</td>\n",
       "      <td>0</td>\n",
       "      <td>0</td>\n",
       "      <td>0</td>\n",
       "      <td>0</td>\n",
       "      <td>0</td>\n",
       "      <td>0</td>\n",
       "      <td>0</td>\n",
       "      <td>0</td>\n",
       "      <td>0</td>\n",
       "      <td>0</td>\n",
       "      <td>0</td>\n",
       "      <td>0</td>\n",
       "      <td>0</td>\n",
       "      <td>0</td>\n",
       "    </tr>\n",
       "    <tr>\n",
       "      <th>4</th>\n",
       "      <td>0</td>\n",
       "      <td>1689</td>\n",
       "      <td>546</td>\n",
       "      <td>3268</td>\n",
       "      <td>628</td>\n",
       "      <td>0</td>\n",
       "      <td>0</td>\n",
       "      <td>0</td>\n",
       "      <td>0</td>\n",
       "      <td>0</td>\n",
       "      <td>0</td>\n",
       "      <td>0</td>\n",
       "      <td>0</td>\n",
       "      <td>0</td>\n",
       "      <td>0</td>\n",
       "      <td>0</td>\n",
       "      <td>0</td>\n",
       "      <td>0</td>\n",
       "      <td>0</td>\n",
       "      <td>0</td>\n",
       "      <td>0</td>\n",
       "      <td>0</td>\n",
       "      <td>0</td>\n",
       "      <td>0</td>\n",
       "      <td>0</td>\n",
       "      <td>0</td>\n",
       "      <td>0</td>\n",
       "      <td>0</td>\n",
       "      <td>0</td>\n",
       "      <td>0</td>\n",
       "    </tr>\n",
       "  </tbody>\n",
       "</table>\n",
       "</div>"
      ],
      "text/plain": [
       "   sentiment     0    1     2    3    4    5     6    7    8    9  10  11  \\\n",
       "0          0    36   24    32   58  617   91   171   68   86    0   0   0   \n",
       "1          0    24  450  2247    0    0    0     0    0    0    0   0   0   \n",
       "2          0   157  172    50   36   68  160  2765  131  115  131  49  58   \n",
       "3          0   827    0     0    0    0    0     0    0    0    0   0   0   \n",
       "4          0  1689  546  3268  628    0    0     0    0    0    0   0   0   \n",
       "\n",
       "    12  13    14  15  16  17  18  19  20  21  22  23  24  25  26  27  28  \n",
       "0    0   0     0   0   0   0   0   0   0   0   0   0   0   0   0   0   0  \n",
       "1    0   0     0   0   0   0   0   0   0   0   0   0   0   0   0   0   0  \n",
       "2  549  82  1786   0   0   0   0   0   0   0   0   0   0   0   0   0   0  \n",
       "3    0   0     0   0   0   0   0   0   0   0   0   0   0   0   0   0   0  \n",
       "4    0   0     0   0   0   0   0   0   0   0   0   0   0   0   0   0   0  "
      ]
     },
     "execution_count": 103,
     "metadata": {},
     "output_type": "execute_result"
    }
   ],
   "source": [
    "df_data = df_final.drop(['index','user_id','date','query','user','text'],axis=1)\n",
    "df_data.head()"
   ]
  },
  {
   "cell_type": "code",
   "execution_count": 119,
   "id": "b31dc425",
   "metadata": {},
   "outputs": [],
   "source": [
    "df_sample = df_data.sample(frac=0.1,random_state=42)\n",
    "y = df_sample['sentiment']\n",
    "X = df_sample.drop('sentiment',axis=1)\n",
    "\n",
    "X_train, X_test, y_train, y_test = train_test_split(X,y,test_size=0.2)\n",
    "X_train = np.array(X_train)\n",
    "X_test = np.array(X_test)\n",
    "y_train = np.array(y_train)\n",
    "y_test = np.array(y_test)"
   ]
  },
  {
   "cell_type": "code",
   "execution_count": 111,
   "id": "8aa58e98",
   "metadata": {},
   "outputs": [],
   "source": [
    "def determine_lr(model, name, guess):\n",
    "    lr_schedule = tf.keras.callbacks.LearningRateScheduler(\n",
    "        lambda epoch: guess * 10**(epoch/15))\n",
    "    optimizer = tf.keras.optimizers.SGD(lr=guess, momentum=0.9) #Stochastic gradient descent optimizer\n",
    "    model.compile(optimizer='adam',\n",
    "                  loss=tf.keras.losses.BinaryCrossentropy(),\n",
    "                  metrics=['accuracy'])\n",
    "    history = model.fit(X_train, y_train, epochs=70, callbacks = lr_schedule)\n",
    "    plt.semilogx(history.history[\"lr\"], history.history[\"loss\"])\n",
    "    plt.xlabel(\"Learning Rate (log)\")\n",
    "    plt.ylabel(\"Loss\")\n",
    "    plt.title(\"Learning Rate Determination \"+name)\n",
    "    plt.show()\n",
    "\n",
    "#Produces a summary of the model and returns the history\n",
    "def run_model(model, lrate):\n",
    "    optimizer = tf.keras.optimizers.SGD(lr=lrate, momentum=0.9) #Stochastic gradient descent optimizer\n",
    "    model.compile(optimizer = 'adam',\n",
    "                  loss=tf.keras.losses.BinaryCrossentropy(),\n",
    "                  metrics=['accuracy'])\n",
    "    print('data is compiled')\n",
    "    history = model.fit(x=X_train, y=y_train, epochs=epoch_num, validation_data=(X_test, y_test))\n",
    "    model.summary()\n",
    "    return history"
   ]
  },
  {
   "cell_type": "code",
   "execution_count": 112,
   "id": "c994b5db",
   "metadata": {},
   "outputs": [
    {
     "name": "stdout",
     "output_type": "stream",
     "text": [
      "Epoch 1/70\n"
     ]
    },
    {
     "name": "stderr",
     "output_type": "stream",
     "text": [
      "2023-01-22 16:49:09.159656: I tensorflow/core/grappler/optimizers/custom_graph_optimizer_registry.cc:113] Plugin optimizer for device_type GPU is enabled.\n",
      "2023-01-22 16:49:09.413090: I tensorflow/core/grappler/optimizers/custom_graph_optimizer_registry.cc:113] Plugin optimizer for device_type GPU is enabled.\n",
      "2023-01-22 16:49:09.424800: I tensorflow/core/grappler/optimizers/custom_graph_optimizer_registry.cc:113] Plugin optimizer for device_type GPU is enabled.\n",
      "2023-01-22 16:49:09.758632: I tensorflow/core/grappler/optimizers/custom_graph_optimizer_registry.cc:113] Plugin optimizer for device_type GPU is enabled.\n",
      "2023-01-22 16:49:09.773181: I tensorflow/core/grappler/optimizers/custom_graph_optimizer_registry.cc:113] Plugin optimizer for device_type GPU is enabled.\n"
     ]
    },
    {
     "name": "stdout",
     "output_type": "stream",
     "text": [
      "453/453 [==============================] - 18s 35ms/step - loss: 0.6627 - accuracy: 0.6007 - lr: 1.0000e-09\n",
      "Epoch 2/70\n",
      "453/453 [==============================] - 14s 30ms/step - loss: 0.6627 - accuracy: 0.6007 - lr: 1.1659e-09\n",
      "Epoch 3/70\n",
      "453/453 [==============================] - 14s 30ms/step - loss: 0.6627 - accuracy: 0.6007 - lr: 1.3594e-09\n",
      "Epoch 4/70\n",
      "453/453 [==============================] - 14s 30ms/step - loss: 0.6627 - accuracy: 0.6007 - lr: 1.5849e-09\n",
      "Epoch 5/70\n",
      "453/453 [==============================] - 14s 30ms/step - loss: 0.6627 - accuracy: 0.6007 - lr: 1.8478e-09\n",
      "Epoch 6/70\n",
      "453/453 [==============================] - 14s 30ms/step - loss: 0.6627 - accuracy: 0.6007 - lr: 2.1544e-09\n",
      "Epoch 7/70\n",
      "453/453 [==============================] - 14s 30ms/step - loss: 0.6627 - accuracy: 0.6007 - lr: 2.5119e-09\n",
      "Epoch 8/70\n",
      "453/453 [==============================] - 14s 30ms/step - loss: 0.6627 - accuracy: 0.6007 - lr: 2.9286e-09\n",
      "Epoch 9/70\n",
      "453/453 [==============================] - 14s 30ms/step - loss: 0.6627 - accuracy: 0.6007 - lr: 3.4145e-09\n",
      "Epoch 10/70\n",
      "453/453 [==============================] - 14s 30ms/step - loss: 0.6627 - accuracy: 0.6007 - lr: 3.9811e-09\n",
      "Epoch 11/70\n",
      "453/453 [==============================] - 13s 30ms/step - loss: 0.6627 - accuracy: 0.6007 - lr: 4.6416e-09\n",
      "Epoch 12/70\n",
      "453/453 [==============================] - 14s 30ms/step - loss: 0.6627 - accuracy: 0.6007 - lr: 5.4117e-09\n",
      "Epoch 13/70\n",
      "453/453 [==============================] - 14s 30ms/step - loss: 0.6627 - accuracy: 0.6007 - lr: 6.3096e-09\n",
      "Epoch 14/70\n",
      "453/453 [==============================] - 14s 30ms/step - loss: 0.6627 - accuracy: 0.6007 - lr: 7.3564e-09\n",
      "Epoch 15/70\n",
      "453/453 [==============================] - 14s 30ms/step - loss: 0.6627 - accuracy: 0.6007 - lr: 8.5770e-09\n",
      "Epoch 16/70\n",
      "453/453 [==============================] - 14s 30ms/step - loss: 0.6627 - accuracy: 0.6007 - lr: 1.0000e-08\n",
      "Epoch 17/70\n",
      "453/453 [==============================] - 14s 30ms/step - loss: 0.6627 - accuracy: 0.6007 - lr: 1.1659e-08\n",
      "Epoch 18/70\n",
      "453/453 [==============================] - 14s 31ms/step - loss: 0.6627 - accuracy: 0.6007 - lr: 1.3594e-08\n",
      "Epoch 19/70\n",
      "453/453 [==============================] - 14s 30ms/step - loss: 0.6627 - accuracy: 0.6007 - lr: 1.5849e-08\n",
      "Epoch 20/70\n",
      "453/453 [==============================] - 14s 30ms/step - loss: 0.6627 - accuracy: 0.6007 - lr: 1.8478e-08\n",
      "Epoch 21/70\n",
      "453/453 [==============================] - 14s 31ms/step - loss: 0.6627 - accuracy: 0.6007 - lr: 2.1544e-08\n",
      "Epoch 22/70\n",
      "453/453 [==============================] - 14s 31ms/step - loss: 0.6627 - accuracy: 0.6007 - lr: 2.5119e-08\n",
      "Epoch 23/70\n",
      "453/453 [==============================] - 14s 31ms/step - loss: 0.6627 - accuracy: 0.6007 - lr: 2.9286e-08\n",
      "Epoch 24/70\n",
      "453/453 [==============================] - 14s 31ms/step - loss: 0.6627 - accuracy: 0.6007 - lr: 3.4145e-08\n",
      "Epoch 25/70\n",
      "453/453 [==============================] - 14s 31ms/step - loss: 0.6627 - accuracy: 0.6007 - lr: 3.9811e-08\n",
      "Epoch 26/70\n",
      "453/453 [==============================] - 14s 30ms/step - loss: 0.6627 - accuracy: 0.6007 - lr: 4.6416e-08\n",
      "Epoch 27/70\n",
      "453/453 [==============================] - 14s 30ms/step - loss: 0.6627 - accuracy: 0.6007 - lr: 5.4117e-08\n",
      "Epoch 28/70\n",
      "453/453 [==============================] - 14s 30ms/step - loss: 0.6627 - accuracy: 0.6007 - lr: 6.3096e-08\n",
      "Epoch 29/70\n",
      "453/453 [==============================] - 14s 30ms/step - loss: 0.6627 - accuracy: 0.6007 - lr: 7.3564e-08\n",
      "Epoch 30/70\n",
      "453/453 [==============================] - 14s 30ms/step - loss: 0.6627 - accuracy: 0.6007 - lr: 8.5770e-08\n",
      "Epoch 31/70\n",
      "453/453 [==============================] - 14s 30ms/step - loss: 0.6627 - accuracy: 0.6007 - lr: 1.0000e-07\n",
      "Epoch 32/70\n",
      "453/453 [==============================] - 14s 30ms/step - loss: 0.6627 - accuracy: 0.6007 - lr: 1.1659e-07\n",
      "Epoch 33/70\n",
      "453/453 [==============================] - 14s 30ms/step - loss: 0.6626 - accuracy: 0.6007 - lr: 1.3594e-07\n",
      "Epoch 34/70\n",
      "453/453 [==============================] - 14s 30ms/step - loss: 0.6626 - accuracy: 0.6007 - lr: 1.5849e-07\n",
      "Epoch 35/70\n",
      "453/453 [==============================] - 14s 30ms/step - loss: 0.6626 - accuracy: 0.6007 - lr: 1.8478e-07\n",
      "Epoch 36/70\n",
      "453/453 [==============================] - 14s 30ms/step - loss: 0.6626 - accuracy: 0.6007 - lr: 2.1544e-07\n",
      "Epoch 37/70\n",
      "453/453 [==============================] - 14s 30ms/step - loss: 0.6626 - accuracy: 0.6007 - lr: 2.5119e-07\n",
      "Epoch 38/70\n",
      "453/453 [==============================] - 14s 30ms/step - loss: 0.6625 - accuracy: 0.6007 - lr: 2.9286e-07\n",
      "Epoch 39/70\n",
      "453/453 [==============================] - 14s 30ms/step - loss: 0.6625 - accuracy: 0.6007 - lr: 3.4145e-07\n",
      "Epoch 40/70\n",
      "453/453 [==============================] - 14s 30ms/step - loss: 0.6625 - accuracy: 0.6007 - lr: 3.9811e-07\n",
      "Epoch 41/70\n",
      "453/453 [==============================] - 14s 30ms/step - loss: 0.6624 - accuracy: 0.6007 - lr: 4.6416e-07\n",
      "Epoch 42/70\n",
      "453/453 [==============================] - 14s 30ms/step - loss: 0.6624 - accuracy: 0.6007 - lr: 5.4117e-07\n",
      "Epoch 43/70\n",
      "453/453 [==============================] - 14s 30ms/step - loss: 0.6623 - accuracy: 0.6007 - lr: 6.3096e-07\n",
      "Epoch 44/70\n",
      "453/453 [==============================] - 14s 30ms/step - loss: 0.6622 - accuracy: 0.6007 - lr: 7.3564e-07\n",
      "Epoch 45/70\n",
      "453/453 [==============================] - 14s 30ms/step - loss: 0.6621 - accuracy: 0.6007 - lr: 8.5770e-07\n",
      "Epoch 46/70\n",
      "453/453 [==============================] - 14s 30ms/step - loss: 0.6620 - accuracy: 0.6007 - lr: 1.0000e-06\n",
      "Epoch 47/70\n",
      "453/453 [==============================] - 14s 30ms/step - loss: 0.6619 - accuracy: 0.6007 - lr: 1.1659e-06\n",
      "Epoch 48/70\n",
      "453/453 [==============================] - 13s 30ms/step - loss: 0.6618 - accuracy: 0.6007 - lr: 1.3594e-06\n",
      "Epoch 49/70\n",
      "453/453 [==============================] - 14s 30ms/step - loss: 0.6616 - accuracy: 0.6007 - lr: 1.5849e-06\n",
      "Epoch 50/70\n",
      "453/453 [==============================] - 14s 31ms/step - loss: 0.6614 - accuracy: 0.6007 - lr: 1.8478e-06\n",
      "Epoch 51/70\n",
      "453/453 [==============================] - 14s 30ms/step - loss: 0.6612 - accuracy: 0.6007 - lr: 2.1544e-06\n",
      "Epoch 52/70\n",
      "453/453 [==============================] - 14s 30ms/step - loss: 0.6609 - accuracy: 0.6007 - lr: 2.5119e-06\n",
      "Epoch 53/70\n",
      "453/453 [==============================] - 14s 30ms/step - loss: 0.6605 - accuracy: 0.6007 - lr: 2.9286e-06\n",
      "Epoch 54/70\n",
      "453/453 [==============================] - 14s 30ms/step - loss: 0.6601 - accuracy: 0.6007 - lr: 3.4145e-06\n",
      "Epoch 55/70\n",
      "453/453 [==============================] - 14s 30ms/step - loss: 0.6596 - accuracy: 0.6007 - lr: 3.9811e-06\n",
      "Epoch 56/70\n",
      "453/453 [==============================] - 14s 30ms/step - loss: 0.6590 - accuracy: 0.6007 - lr: 4.6416e-06\n",
      "Epoch 57/70\n",
      "453/453 [==============================] - 14s 30ms/step - loss: 0.6582 - accuracy: 0.6007 - lr: 5.4117e-06\n",
      "Epoch 58/70\n",
      "453/453 [==============================] - 14s 31ms/step - loss: 0.6573 - accuracy: 0.6007 - lr: 6.3096e-06\n",
      "Epoch 59/70\n",
      "453/453 [==============================] - 14s 30ms/step - loss: 0.6561 - accuracy: 0.6007 - lr: 7.3564e-06\n",
      "Epoch 60/70\n",
      "453/453 [==============================] - 14s 30ms/step - loss: 0.6546 - accuracy: 0.6007 - lr: 8.5770e-06\n",
      "Epoch 61/70\n",
      "453/453 [==============================] - 14s 30ms/step - loss: 0.6526 - accuracy: 0.6007 - lr: 1.0000e-05\n",
      "Epoch 62/70\n",
      "453/453 [==============================] - 14s 30ms/step - loss: 0.6499 - accuracy: 0.6009 - lr: 1.1659e-05\n",
      "Epoch 63/70\n",
      "453/453 [==============================] - 14s 30ms/step - loss: 0.6463 - accuracy: 0.6011 - lr: 1.3594e-05\n",
      "Epoch 64/70\n",
      "453/453 [==============================] - 14s 30ms/step - loss: 0.6411 - accuracy: 0.6018 - lr: 1.5849e-05\n",
      "Epoch 65/70\n",
      "453/453 [==============================] - 14s 30ms/step - loss: 0.6334 - accuracy: 0.6057 - lr: 1.8478e-05\n",
      "Epoch 66/70\n",
      "453/453 [==============================] - 14s 30ms/step - loss: 0.6216 - accuracy: 0.6184 - lr: 2.1544e-05\n",
      "Epoch 67/70\n",
      "453/453 [==============================] - 14s 30ms/step - loss: 0.6047 - accuracy: 0.6482 - lr: 2.5119e-05\n",
      "Epoch 68/70\n",
      "453/453 [==============================] - 14s 30ms/step - loss: 0.5850 - accuracy: 0.6911 - lr: 2.9286e-05\n",
      "Epoch 69/70\n"
     ]
    },
    {
     "name": "stdout",
     "output_type": "stream",
     "text": [
      "453/453 [==============================] - 14s 30ms/step - loss: 0.5682 - accuracy: 0.7198 - lr: 3.4145e-05\n",
      "Epoch 70/70\n",
      "453/453 [==============================] - 14s 30ms/step - loss: 0.5550 - accuracy: 0.7283 - lr: 3.9811e-05\n"
     ]
    },
    {
     "data": {
      "image/png": "[encoded data removed]",
      "text/plain": [
       "<Figure size 432x288 with 1 Axes>"
      ]
     },
     "metadata": {
      "needs_background": "light"
     },
     "output_type": "display_data"
    }
   ],
   "source": [
    "determine_lr(model, \"model\", 1e-9)"
   ]
  },
  {
   "cell_type": "code",
   "execution_count": 113,
   "id": "5f656471",
   "metadata": {},
   "outputs": [
    {
     "name": "stdout",
     "output_type": "stream",
     "text": [
      "Epoch 1/70\n"
     ]
    },
    {
     "name": "stderr",
     "output_type": "stream",
     "text": [
      "2023-01-22 17:08:42.349139: I tensorflow/core/grappler/optimizers/custom_graph_optimizer_registry.cc:113] Plugin optimizer for device_type GPU is enabled.\n",
      "2023-01-22 17:08:42.589304: I tensorflow/core/grappler/optimizers/custom_graph_optimizer_registry.cc:113] Plugin optimizer for device_type GPU is enabled.\n",
      "2023-01-22 17:08:42.601268: I tensorflow/core/grappler/optimizers/custom_graph_optimizer_registry.cc:113] Plugin optimizer for device_type GPU is enabled.\n",
      "2023-01-22 17:08:42.953529: I tensorflow/core/grappler/optimizers/custom_graph_optimizer_registry.cc:113] Plugin optimizer for device_type GPU is enabled.\n",
      "2023-01-22 17:08:42.968546: I tensorflow/core/grappler/optimizers/custom_graph_optimizer_registry.cc:113] Plugin optimizer for device_type GPU is enabled.\n"
     ]
    },
    {
     "name": "stdout",
     "output_type": "stream",
     "text": [
      "453/453 [==============================] - 18s 37ms/step - loss: 0.5447 - accuracy: 0.7395 - lr: 1.0000e-05\n",
      "Epoch 2/70\n",
      "453/453 [==============================] - 14s 32ms/step - loss: 0.5423 - accuracy: 0.7406 - lr: 1.1659e-05\n",
      "Epoch 3/70\n",
      "453/453 [==============================] - 14s 31ms/step - loss: 0.5394 - accuracy: 0.7414 - lr: 1.3594e-05\n",
      "Epoch 4/70\n",
      "453/453 [==============================] - 14s 31ms/step - loss: 0.5361 - accuracy: 0.7449 - lr: 1.5849e-05\n",
      "Epoch 5/70\n",
      "453/453 [==============================] - 14s 31ms/step - loss: 0.5326 - accuracy: 0.7455 - lr: 1.8478e-05\n",
      "Epoch 6/70\n",
      "453/453 [==============================] - 14s 31ms/step - loss: 0.5286 - accuracy: 0.7487 - lr: 2.1544e-05\n",
      "Epoch 7/70\n",
      "453/453 [==============================] - 14s 31ms/step - loss: 0.5239 - accuracy: 0.7503 - lr: 2.5119e-05\n",
      "Epoch 8/70\n",
      "453/453 [==============================] - 14s 31ms/step - loss: 0.5178 - accuracy: 0.7556 - lr: 2.9286e-05\n",
      "Epoch 9/70\n",
      "453/453 [==============================] - 14s 31ms/step - loss: 0.5130 - accuracy: 0.7598 - lr: 3.4145e-05\n",
      "Epoch 10/70\n",
      "453/453 [==============================] - 14s 31ms/step - loss: 0.5063 - accuracy: 0.7624 - lr: 3.9811e-05\n",
      "Epoch 11/70\n",
      "453/453 [==============================] - 14s 31ms/step - loss: 0.4982 - accuracy: 0.7675 - lr: 4.6416e-05\n",
      "Epoch 12/70\n",
      "453/453 [==============================] - 14s 31ms/step - loss: 0.4910 - accuracy: 0.7718 - lr: 5.4117e-05\n",
      "Epoch 13/70\n",
      "453/453 [==============================] - 14s 31ms/step - loss: 0.4813 - accuracy: 0.7773 - lr: 6.3096e-05\n",
      "Epoch 14/70\n",
      "453/453 [==============================] - 14s 31ms/step - loss: 0.4733 - accuracy: 0.7845 - lr: 7.3564e-05\n",
      "Epoch 15/70\n",
      "453/453 [==============================] - 14s 30ms/step - loss: 0.4635 - accuracy: 0.7880 - lr: 8.5770e-05\n",
      "Epoch 16/70\n",
      "453/453 [==============================] - 14s 31ms/step - loss: 0.4530 - accuracy: 0.7954 - lr: 1.0000e-04\n",
      "Epoch 17/70\n",
      "453/453 [==============================] - 14s 31ms/step - loss: 0.4422 - accuracy: 0.8012 - lr: 1.1659e-04\n",
      "Epoch 18/70\n",
      "453/453 [==============================] - 14s 31ms/step - loss: 0.4348 - accuracy: 0.8068 - lr: 1.3594e-04\n",
      "Epoch 19/70\n",
      "453/453 [==============================] - 14s 31ms/step - loss: 0.4173 - accuracy: 0.8164 - lr: 1.5849e-04\n",
      "Epoch 20/70\n",
      "453/453 [==============================] - 14s 31ms/step - loss: 0.4075 - accuracy: 0.8204 - lr: 1.8478e-04\n",
      "Epoch 21/70\n",
      "453/453 [==============================] - 14s 31ms/step - loss: 0.3977 - accuracy: 0.8262 - lr: 2.1544e-04\n",
      "Epoch 22/70\n",
      "453/453 [==============================] - 14s 30ms/step - loss: 0.3910 - accuracy: 0.8307 - lr: 2.5119e-04\n",
      "Epoch 23/70\n",
      "453/453 [==============================] - 14s 30ms/step - loss: 0.3856 - accuracy: 0.8351 - lr: 2.9286e-04\n",
      "Epoch 24/70\n",
      "453/453 [==============================] - 14s 30ms/step - loss: 0.3802 - accuracy: 0.8405 - lr: 3.4145e-04\n",
      "Epoch 25/70\n",
      "453/453 [==============================] - 14s 30ms/step - loss: 0.3781 - accuracy: 0.8421 - lr: 3.9811e-04\n",
      "Epoch 26/70\n",
      "453/453 [==============================] - 14s 30ms/step - loss: 0.3763 - accuracy: 0.8429 - lr: 4.6416e-04\n",
      "Epoch 27/70\n",
      "453/453 [==============================] - 14s 30ms/step - loss: 0.3738 - accuracy: 0.8451 - lr: 5.4117e-04\n",
      "Epoch 28/70\n",
      "453/453 [==============================] - 14s 30ms/step - loss: 0.3699 - accuracy: 0.8456 - lr: 6.3096e-04\n",
      "Epoch 29/70\n",
      "453/453 [==============================] - 14s 30ms/step - loss: 0.3680 - accuracy: 0.8465 - lr: 7.3564e-04\n",
      "Epoch 30/70\n",
      "453/453 [==============================] - 14s 30ms/step - loss: 0.3653 - accuracy: 0.8512 - lr: 8.5770e-04\n",
      "Epoch 31/70\n",
      "453/453 [==============================] - 14s 31ms/step - loss: 0.3561 - accuracy: 0.8575 - lr: 0.0010\n",
      "Epoch 32/70\n",
      "453/453 [==============================] - 14s 31ms/step - loss: 0.3506 - accuracy: 0.8588 - lr: 0.0012\n",
      "Epoch 33/70\n",
      "453/453 [==============================] - 14s 31ms/step - loss: 0.3395 - accuracy: 0.8667 - lr: 0.0014\n",
      "Epoch 34/70\n",
      "453/453 [==============================] - 14s 30ms/step - loss: 0.3318 - accuracy: 0.8706 - lr: 0.0016\n",
      "Epoch 35/70\n",
      "453/453 [==============================] - 14s 30ms/step - loss: 0.3196 - accuracy: 0.8741 - lr: 0.0018\n",
      "Epoch 36/70\n",
      "453/453 [==============================] - 14s 30ms/step - loss: 0.3145 - accuracy: 0.8735 - lr: 0.0022\n",
      "Epoch 37/70\n",
      "453/453 [==============================] - 14s 30ms/step - loss: 0.3017 - accuracy: 0.8802 - lr: 0.0025\n",
      "Epoch 38/70\n",
      "453/453 [==============================] - 14s 31ms/step - loss: 0.3102 - accuracy: 0.8696 - lr: 0.0029\n",
      "Epoch 39/70\n",
      "453/453 [==============================] - 14s 30ms/step - loss: 0.2990 - accuracy: 0.8730 - lr: 0.0034\n",
      "Epoch 40/70\n",
      "453/453 [==============================] - 14s 30ms/step - loss: 0.2824 - accuracy: 0.8802 - lr: 0.0040\n",
      "Epoch 41/70\n",
      "453/453 [==============================] - 14s 30ms/step - loss: 0.2669 - accuracy: 0.8878 - lr: 0.0046\n",
      "Epoch 42/70\n",
      "453/453 [==============================] - 14s 30ms/step - loss: 0.2357 - accuracy: 0.8971 - lr: 0.0054\n",
      "Epoch 43/70\n",
      "453/453 [==============================] - 14s 30ms/step - loss: 0.2217 - accuracy: 0.9049 - lr: 0.0063\n",
      "Epoch 44/70\n",
      "453/453 [==============================] - 14s 30ms/step - loss: 0.2091 - accuracy: 0.9121 - lr: 0.0074\n",
      "Epoch 45/70\n",
      "453/453 [==============================] - 14s 30ms/step - loss: 0.2026 - accuracy: 0.9149 - lr: 0.0086\n",
      "Epoch 46/70\n",
      "453/453 [==============================] - 14s 30ms/step - loss: 0.1894 - accuracy: 0.9219 - lr: 0.0100\n",
      "Epoch 47/70\n",
      "453/453 [==============================] - 14s 30ms/step - loss: 0.1846 - accuracy: 0.9248 - lr: 0.0117\n",
      "Epoch 48/70\n",
      "453/453 [==============================] - 14s 30ms/step - loss: 0.1918 - accuracy: 0.9224 - lr: 0.0136\n",
      "Epoch 49/70\n",
      "453/453 [==============================] - 14s 30ms/step - loss: 0.1887 - accuracy: 0.9254 - lr: 0.0158\n",
      "Epoch 50/70\n",
      "453/453 [==============================] - 14s 30ms/step - loss: 0.1941 - accuracy: 0.9232 - lr: 0.0185\n",
      "Epoch 51/70\n",
      "453/453 [==============================] - 14s 30ms/step - loss: 0.2172 - accuracy: 0.9120 - lr: 0.0215\n",
      "Epoch 52/70\n",
      "453/453 [==============================] - 14s 30ms/step - loss: 0.2497 - accuracy: 0.8999 - lr: 0.0251\n",
      "Epoch 53/70\n",
      "453/453 [==============================] - 14s 30ms/step - loss: 0.2682 - accuracy: 0.8893 - lr: 0.0293\n",
      "Epoch 54/70\n",
      "453/453 [==============================] - 14s 30ms/step - loss: 0.3084 - accuracy: 0.8651 - lr: 0.0341\n",
      "Epoch 55/70\n",
      "453/453 [==============================] - 14s 30ms/step - loss: 0.3667 - accuracy: 0.8407 - lr: 0.0398\n",
      "Epoch 56/70\n",
      "453/453 [==============================] - 14s 30ms/step - loss: 0.4036 - accuracy: 0.8118 - lr: 0.0464\n",
      "Epoch 57/70\n",
      "453/453 [==============================] - 14s 30ms/step - loss: 0.4515 - accuracy: 0.7898 - lr: 0.0541\n",
      "Epoch 58/70\n",
      "453/453 [==============================] - 14s 30ms/step - loss: 0.4996 - accuracy: 0.7626 - lr: 0.0631\n",
      "Epoch 59/70\n",
      "453/453 [==============================] - 14s 30ms/step - loss: 0.4984 - accuracy: 0.7588 - lr: 0.0736\n",
      "Epoch 60/70\n",
      "453/453 [==============================] - 14s 30ms/step - loss: 0.5174 - accuracy: 0.7479 - lr: 0.0858\n",
      "Epoch 61/70\n",
      "453/453 [==============================] - 14s 30ms/step - loss: 0.5385 - accuracy: 0.7401 - lr: 0.1000\n",
      "Epoch 62/70\n",
      "453/453 [==============================] - 14s 30ms/step - loss: 0.5819 - accuracy: 0.6905 - lr: 0.1166\n",
      "Epoch 63/70\n",
      "453/453 [==============================] - 14s 30ms/step - loss: 0.6000 - accuracy: 0.6687 - lr: 0.1359\n",
      "Epoch 64/70\n",
      "453/453 [==============================] - 14s 30ms/step - loss: 0.6260 - accuracy: 0.6370 - lr: 0.1585\n",
      "Epoch 65/70\n",
      "453/453 [==============================] - 14s 30ms/step - loss: 0.6365 - accuracy: 0.6248 - lr: 0.1848\n",
      "Epoch 66/70\n",
      "453/453 [==============================] - 13s 30ms/step - loss: 0.6613 - accuracy: 0.6076 - lr: 0.2154\n",
      "Epoch 67/70\n",
      "453/453 [==============================] - 13s 29ms/step - loss: 0.6775 - accuracy: 0.5956 - lr: 0.2512\n",
      "Epoch 68/70\n",
      "453/453 [==============================] - 13s 30ms/step - loss: 0.6789 - accuracy: 0.5967 - lr: 0.2929\n",
      "Epoch 69/70\n",
      "453/453 [==============================] - 13s 30ms/step - loss: 0.6794 - accuracy: 0.5938 - lr: 0.3415\n",
      "Epoch 70/70\n"
     ]
    },
    {
     "name": "stdout",
     "output_type": "stream",
     "text": [
      "453/453 [==============================] - 13s 29ms/step - loss: 0.6806 - accuracy: 0.5918 - lr: 0.3981\n"
     ]
    },
    {
     "data": {
      "image/png": "[encoded data removed]",
      "text/plain": [
       "<Figure size 432x288 with 1 Axes>"
      ]
     },
     "metadata": {
      "needs_background": "light"
     },
     "output_type": "display_data"
    }
   ],
   "source": [
    "determine_lr(model, \"model\", 1e-5)"
   ]
  },
  {
   "cell_type": "code",
   "execution_count": 117,
   "id": "36d2cb08",
   "metadata": {},
   "outputs": [
    {
     "name": "stdout",
     "output_type": "stream",
     "text": [
      "Model: \"sequential_10\"\n",
      "_________________________________________________________________\n",
      " Layer (type)                Output Shape              Param #   \n",
      "=================================================================\n",
      " embedding_9 (Embedding)     (None, 29, 16)            80000     \n",
      "                                                                 \n",
      " bidirectional_3 (Bidirectio  (None, 29, 32)           4224      \n",
      " nal)                                                            \n",
      "                                                                 \n",
      " bidirectional_4 (Bidirectio  (None, 32)               6272      \n",
      " nal)                                                            \n",
      "                                                                 \n",
      " dense_12 (Dense)            (None, 6)                 198       \n",
      "                                                                 \n",
      " dense_13 (Dense)            (None, 1)                 7         \n",
      "                                                                 \n",
      "=================================================================\n",
      "Total params: 90,701\n",
      "Trainable params: 90,701\n",
      "Non-trainable params: 0\n",
      "_________________________________________________________________\n",
      "Epoch 1/10\n"
     ]
    },
    {
     "name": "stderr",
     "output_type": "stream",
     "text": [
      "2023-01-22 17:37:42.574722: I tensorflow/core/grappler/optimizers/custom_graph_optimizer_registry.cc:113] Plugin optimizer for device_type GPU is enabled.\n",
      "2023-01-22 17:37:43.083292: I tensorflow/core/grappler/optimizers/custom_graph_optimizer_registry.cc:113] Plugin optimizer for device_type GPU is enabled.\n",
      "2023-01-22 17:37:43.093650: I tensorflow/core/grappler/optimizers/custom_graph_optimizer_registry.cc:113] Plugin optimizer for device_type GPU is enabled.\n",
      "2023-01-22 17:37:43.303524: I tensorflow/core/grappler/optimizers/custom_graph_optimizer_registry.cc:113] Plugin optimizer for device_type GPU is enabled.\n",
      "2023-01-22 17:37:43.316266: I tensorflow/core/grappler/optimizers/custom_graph_optimizer_registry.cc:113] Plugin optimizer for device_type GPU is enabled.\n",
      "2023-01-22 17:37:43.775307: I tensorflow/core/grappler/optimizers/custom_graph_optimizer_registry.cc:113] Plugin optimizer for device_type GPU is enabled.\n",
      "2023-01-22 17:37:43.790250: I tensorflow/core/grappler/optimizers/custom_graph_optimizer_registry.cc:113] Plugin optimizer for device_type GPU is enabled.\n",
      "2023-01-22 17:37:44.170141: I tensorflow/core/grappler/optimizers/custom_graph_optimizer_registry.cc:113] Plugin optimizer for device_type GPU is enabled.\n",
      "2023-01-22 17:37:44.185620: I tensorflow/core/grappler/optimizers/custom_graph_optimizer_registry.cc:113] Plugin optimizer for device_type GPU is enabled.\n"
     ]
    },
    {
     "name": "stdout",
     "output_type": "stream",
     "text": [
      "453/453 [==============================] - ETA: 0s - loss: 0.6214 - accuracy: 0.6536"
     ]
    },
    {
     "name": "stderr",
     "output_type": "stream",
     "text": [
      "2023-01-22 17:38:15.011269: I tensorflow/core/grappler/optimizers/custom_graph_optimizer_registry.cc:113] Plugin optimizer for device_type GPU is enabled.\n",
      "2023-01-22 17:38:15.160968: I tensorflow/core/grappler/optimizers/custom_graph_optimizer_registry.cc:113] Plugin optimizer for device_type GPU is enabled.\n",
      "2023-01-22 17:38:15.168004: I tensorflow/core/grappler/optimizers/custom_graph_optimizer_registry.cc:113] Plugin optimizer for device_type GPU is enabled.\n",
      "2023-01-22 17:38:15.354060: I tensorflow/core/grappler/optimizers/custom_graph_optimizer_registry.cc:113] Plugin optimizer for device_type GPU is enabled.\n",
      "2023-01-22 17:38:15.361398: I tensorflow/core/grappler/optimizers/custom_graph_optimizer_registry.cc:113] Plugin optimizer for device_type GPU is enabled.\n"
     ]
    },
    {
     "name": "stdout",
     "output_type": "stream",
     "text": [
      "453/453 [==============================] - 38s 76ms/step - loss: 0.6214 - accuracy: 0.6536 - val_loss: 0.5788 - val_accuracy: 0.7035\n",
      "Epoch 2/10\n",
      "453/453 [==============================] - 29s 64ms/step - loss: 0.5126 - accuracy: 0.7522 - val_loss: 0.5570 - val_accuracy: 0.7156\n",
      "Epoch 3/10\n",
      "453/453 [==============================] - 29s 64ms/step - loss: 0.4668 - accuracy: 0.7856 - val_loss: 0.5755 - val_accuracy: 0.7189\n",
      "Epoch 4/10\n",
      "453/453 [==============================] - 28s 63ms/step - loss: 0.4343 - accuracy: 0.8100 - val_loss: 0.5882 - val_accuracy: 0.7187\n",
      "Epoch 5/10\n",
      "453/453 [==============================] - 28s 62ms/step - loss: 0.4142 - accuracy: 0.8184 - val_loss: 0.5955 - val_accuracy: 0.7087\n",
      "Epoch 6/10\n",
      "453/453 [==============================] - 29s 64ms/step - loss: 0.3910 - accuracy: 0.8335 - val_loss: 0.6164 - val_accuracy: 0.7057\n",
      "Epoch 7/10\n",
      "453/453 [==============================] - 29s 64ms/step - loss: 0.3707 - accuracy: 0.8459 - val_loss: 0.6278 - val_accuracy: 0.7035\n",
      "Epoch 8/10\n",
      "453/453 [==============================] - 29s 64ms/step - loss: 0.3494 - accuracy: 0.8587 - val_loss: 0.6633 - val_accuracy: 0.7029\n",
      "Epoch 9/10\n",
      "453/453 [==============================] - 31s 67ms/step - loss: 0.3311 - accuracy: 0.8657 - val_loss: 0.6810 - val_accuracy: 0.6966\n",
      "Epoch 10/10\n",
      "453/453 [==============================] - 28s 62ms/step - loss: 0.3072 - accuracy: 0.8792 - val_loss: 0.7347 - val_accuracy: 0.6924\n"
     ]
    }
   ],
   "source": [
    "embedding_dim = 16\n",
    "model = tf.keras.Sequential([\n",
    "    tf.keras.layers.Embedding(vocab_size, embedding_dim, input_length = max_length),\n",
    "    #tf.keras.layers.Dense(100, activation='relu'),\n",
    "    tf.keras.layers.Bidirectional(tf.keras.layers.LSTM(embedding_dim, dropout = 0.3, return_sequences = True)),\n",
    "    tf.keras.layers.Bidirectional(tf.keras.layers.LSTM(embedding_dim)),\n",
    "    tf.keras.layers.Dense(6, activation='relu'),\n",
    "    tf.keras.layers.Dense(1, activation='sigmoid')\n",
    "])\n",
    "\n",
    "model.summary()\n",
    "\n",
    "num_epochs = 10\n",
    "optimizer = tf.keras.optimizers.SGD(lr=0.0158, momentum=0.9) #Stochastic gradient descent optimizer\n",
    "model.compile(loss='binary_crossentropy', optimizer='adam', metrics=['accuracy'])\n",
    "history = model.fit(X_train, y_train, epochs = num_epochs, validation_data=(X_test, y_test))\n"
   ]
  },
  {
   "cell_type": "code",
   "execution_count": 118,
   "id": "80b70916",
   "metadata": {},
   "outputs": [
    {
     "data": {
      "image/png": "[encoded data removed]",
      "text/plain": [
       "<Figure size 432x288 with 1 Axes>"
      ]
     },
     "metadata": {
      "needs_background": "light"
     },
     "output_type": "display_data"
    },
    {
     "data": {
      "image/png": "[encoded data removed]",
      "text/plain": [
       "<Figure size 432x288 with 1 Axes>"
      ]
     },
     "metadata": {
      "needs_background": "light"
     },
     "output_type": "display_data"
    }
   ],
   "source": [
    "def plot_graphs(history, string):\n",
    "    plt.plot(history.history[string])\n",
    "    plt.plot(history.history['val_'+string])\n",
    "    plt.xlabel(\"Epochs\")\n",
    "    plt.ylabel(string)\n",
    "    plt.title(string + \" over \" + str(num_epochs) + \" epochs\")\n",
    "    plt.legend([string, 'val_'+string])\n",
    "    plt.show()\n",
    "plot_graphs(history, \"accuracy\")\n",
    "plot_graphs(history, \"loss\")"
   ]
  },
  {
   "cell_type": "markdown",
   "id": "cfc21f3e",
   "metadata": {},
   "source": [
    "gridsearch on vocab size, config of layers, embedding dimensions, learning rate, embedding initializers, regularizers, constraints<br>\n",
    "figure out what the ball park is with vocab size first, then finetune with gridsearch"
   ]
  },
  {
   "cell_type": "code",
   "execution_count": 121,
   "id": "5d2370a2",
   "metadata": {
    "scrolled": true
   },
   "outputs": [
    {
     "name": "stdout",
     "output_type": "stream",
     "text": [
      "Model: \"sequential_12\"\n",
      "_________________________________________________________________\n",
      " Layer (type)                Output Shape              Param #   \n",
      "=================================================================\n",
      " embedding_11 (Embedding)    (None, 29, 16)            80000     \n",
      "                                                                 \n",
      " bidirectional_7 (Bidirectio  (None, 29, 32)           4224      \n",
      " nal)                                                            \n",
      "                                                                 \n",
      " bidirectional_8 (Bidirectio  (None, 32)               6272      \n",
      " nal)                                                            \n",
      "                                                                 \n",
      " dense_16 (Dense)            (None, 6)                 198       \n",
      "                                                                 \n",
      " dense_17 (Dense)            (None, 1)                 7         \n",
      "                                                                 \n",
      "=================================================================\n",
      "Total params: 90,701\n",
      "Trainable params: 90,701\n",
      "Non-trainable params: 0\n",
      "_________________________________________________________________\n",
      "Epoch 1/10\n"
     ]
    },
    {
     "name": "stderr",
     "output_type": "stream",
     "text": [
      "2023-01-22 17:44:36.046827: I tensorflow/core/grappler/optimizers/custom_graph_optimizer_registry.cc:113] Plugin optimizer for device_type GPU is enabled.\n",
      "2023-01-22 17:44:36.528726: I tensorflow/core/grappler/optimizers/custom_graph_optimizer_registry.cc:113] Plugin optimizer for device_type GPU is enabled.\n",
      "2023-01-22 17:44:36.538561: I tensorflow/core/grappler/optimizers/custom_graph_optimizer_registry.cc:113] Plugin optimizer for device_type GPU is enabled.\n",
      "2023-01-22 17:44:36.743138: I tensorflow/core/grappler/optimizers/custom_graph_optimizer_registry.cc:113] Plugin optimizer for device_type GPU is enabled.\n",
      "2023-01-22 17:44:36.753222: I tensorflow/core/grappler/optimizers/custom_graph_optimizer_registry.cc:113] Plugin optimizer for device_type GPU is enabled.\n",
      "2023-01-22 17:44:37.223816: I tensorflow/core/grappler/optimizers/custom_graph_optimizer_registry.cc:113] Plugin optimizer for device_type GPU is enabled.\n",
      "2023-01-22 17:44:37.238482: I tensorflow/core/grappler/optimizers/custom_graph_optimizer_registry.cc:113] Plugin optimizer for device_type GPU is enabled.\n",
      "2023-01-22 17:44:37.630074: I tensorflow/core/grappler/optimizers/custom_graph_optimizer_registry.cc:113] Plugin optimizer for device_type GPU is enabled.\n",
      "2023-01-22 17:44:37.646549: I tensorflow/core/grappler/optimizers/custom_graph_optimizer_registry.cc:113] Plugin optimizer for device_type GPU is enabled.\n"
     ]
    },
    {
     "name": "stdout",
     "output_type": "stream",
     "text": [
      "906/906 [==============================] - ETA: 0s - loss: 0.5904 - accuracy: 0.6849"
     ]
    },
    {
     "name": "stderr",
     "output_type": "stream",
     "text": [
      "2023-01-22 17:45:34.006032: I tensorflow/core/grappler/optimizers/custom_graph_optimizer_registry.cc:113] Plugin optimizer for device_type GPU is enabled.\n",
      "2023-01-22 17:45:34.163727: I tensorflow/core/grappler/optimizers/custom_graph_optimizer_registry.cc:113] Plugin optimizer for device_type GPU is enabled.\n",
      "2023-01-22 17:45:34.171056: I tensorflow/core/grappler/optimizers/custom_graph_optimizer_registry.cc:113] Plugin optimizer for device_type GPU is enabled.\n",
      "2023-01-22 17:45:34.366134: I tensorflow/core/grappler/optimizers/custom_graph_optimizer_registry.cc:113] Plugin optimizer for device_type GPU is enabled.\n",
      "2023-01-22 17:45:34.373384: I tensorflow/core/grappler/optimizers/custom_graph_optimizer_registry.cc:113] Plugin optimizer for device_type GPU is enabled.\n"
     ]
    },
    {
     "name": "stdout",
     "output_type": "stream",
     "text": [
      "906/906 [==============================] - 66s 69ms/step - loss: 0.5904 - accuracy: 0.6849 - val_loss: 0.5603 - val_accuracy: 0.7094\n",
      "Epoch 2/10\n",
      "906/906 [==============================] - 56s 62ms/step - loss: 0.5067 - accuracy: 0.7576 - val_loss: 0.5619 - val_accuracy: 0.7084\n",
      "Epoch 3/10\n",
      "906/906 [==============================] - 59s 65ms/step - loss: 0.4813 - accuracy: 0.7756 - val_loss: 0.5817 - val_accuracy: 0.7073\n",
      "Epoch 4/10\n",
      "906/906 [==============================] - 59s 65ms/step - loss: 0.4613 - accuracy: 0.7867 - val_loss: 0.5770 - val_accuracy: 0.7070\n",
      "Epoch 5/10\n",
      "906/906 [==============================] - 57s 63ms/step - loss: 0.4437 - accuracy: 0.8001 - val_loss: 0.6062 - val_accuracy: 0.7055\n",
      "Epoch 6/10\n",
      "906/906 [==============================] - 55s 60ms/step - loss: 0.4255 - accuracy: 0.8096 - val_loss: 0.6113 - val_accuracy: 0.7068\n",
      "Epoch 7/10\n",
      "906/906 [==============================] - 55s 60ms/step - loss: 0.4077 - accuracy: 0.8187 - val_loss: 0.6347 - val_accuracy: 0.7092\n",
      "Epoch 8/10\n",
      "906/906 [==============================] - 54s 60ms/step - loss: 0.3878 - accuracy: 0.8292 - val_loss: 0.6447 - val_accuracy: 0.6985\n",
      "Epoch 9/10\n",
      "906/906 [==============================] - 55s 60ms/step - loss: 0.3669 - accuracy: 0.8396 - val_loss: 0.6566 - val_accuracy: 0.7039\n",
      "Epoch 10/10\n",
      "906/906 [==============================] - 55s 61ms/step - loss: 0.3509 - accuracy: 0.8462 - val_loss: 0.6796 - val_accuracy: 0.6972\n"
     ]
    },
    {
     "data": {
      "image/png": "[encoded data removed]",
      "text/plain": [
       "<Figure size 432x288 with 1 Axes>"
      ]
     },
     "metadata": {
      "needs_background": "light"
     },
     "output_type": "display_data"
    },
    {
     "data": {
      "image/png": "[encoded data removed]",
      "text/plain": [
       "<Figure size 432x288 with 1 Axes>"
      ]
     },
     "metadata": {
      "needs_background": "light"
     },
     "output_type": "display_data"
    }
   ],
   "source": [
    "embedding_dim = 16\n",
    "model = tf.keras.Sequential([\n",
    "    tf.keras.layers.Embedding(vocab_size, embedding_dim, input_length = max_length),\n",
    "    #tf.keras.layers.Dense(100, activation='relu'),\n",
    "    tf.keras.layers.Bidirectional(tf.keras.layers.LSTM(embedding_dim, dropout = 0.3, return_sequences = True)),\n",
    "    tf.keras.layers.Bidirectional(tf.keras.layers.LSTM(embedding_dim)),\n",
    "    tf.keras.layers.Dense(6, activation='relu'),\n",
    "    tf.keras.layers.Dense(1, activation='sigmoid')\n",
    "])\n",
    "\n",
    "model.summary()\n",
    "\n",
    "num_epochs = 10\n",
    "optimizer = tf.keras.optimizers.SGD(lr=0.0158, momentum=0.9) #Stochastic gradient descent optimizer\n",
    "model.compile(loss='binary_crossentropy', optimizer='adam', metrics=['accuracy'])\n",
    "history = model.fit(X_train, y_train, epochs = num_epochs, validation_data=(X_test, y_test))\n",
    "\n",
    "plot_graphs(history, \"accuracy\")\n",
    "plot_graphs(history, \"loss\")"
   ]
  },
  {
   "cell_type": "code",
   "execution_count": 122,
   "id": "14800ec6",
   "metadata": {},
   "outputs": [
    {
     "name": "stdout",
     "output_type": "stream",
     "text": [
      "Model: \"sequential_13\"\n",
      "_________________________________________________________________\n",
      " Layer (type)                Output Shape              Param #   \n",
      "=================================================================\n",
      " embedding_12 (Embedding)    (None, 29, 16)            80000     \n",
      "                                                                 \n",
      " bidirectional_9 (Bidirectio  (None, 29, 32)           4224      \n",
      " nal)                                                            \n",
      "                                                                 \n",
      " bidirectional_10 (Bidirecti  (None, 32)               6272      \n",
      " onal)                                                           \n",
      "                                                                 \n",
      " dense_18 (Dense)            (None, 6)                 198       \n",
      "                                                                 \n",
      " dense_19 (Dense)            (None, 1)                 7         \n",
      "                                                                 \n",
      "=================================================================\n",
      "Total params: 90,701\n",
      "Trainable params: 90,701\n",
      "Non-trainable params: 0\n",
      "_________________________________________________________________\n",
      "Epoch 1/10\n"
     ]
    },
    {
     "name": "stderr",
     "output_type": "stream",
     "text": [
      "2023-01-22 18:00:31.989765: I tensorflow/core/grappler/optimizers/custom_graph_optimizer_registry.cc:113] Plugin optimizer for device_type GPU is enabled.\n",
      "2023-01-22 18:00:32.512491: I tensorflow/core/grappler/optimizers/custom_graph_optimizer_registry.cc:113] Plugin optimizer for device_type GPU is enabled.\n",
      "2023-01-22 18:00:32.522358: I tensorflow/core/grappler/optimizers/custom_graph_optimizer_registry.cc:113] Plugin optimizer for device_type GPU is enabled.\n",
      "2023-01-22 18:00:32.735933: I tensorflow/core/grappler/optimizers/custom_graph_optimizer_registry.cc:113] Plugin optimizer for device_type GPU is enabled.\n",
      "2023-01-22 18:00:32.745944: I tensorflow/core/grappler/optimizers/custom_graph_optimizer_registry.cc:113] Plugin optimizer for device_type GPU is enabled.\n",
      "2023-01-22 18:00:33.208720: I tensorflow/core/grappler/optimizers/custom_graph_optimizer_registry.cc:113] Plugin optimizer for device_type GPU is enabled.\n",
      "2023-01-22 18:00:33.223609: I tensorflow/core/grappler/optimizers/custom_graph_optimizer_registry.cc:113] Plugin optimizer for device_type GPU is enabled.\n",
      "2023-01-22 18:00:33.615978: I tensorflow/core/grappler/optimizers/custom_graph_optimizer_registry.cc:113] Plugin optimizer for device_type GPU is enabled.\n",
      "2023-01-22 18:00:33.632019: I tensorflow/core/grappler/optimizers/custom_graph_optimizer_registry.cc:113] Plugin optimizer for device_type GPU is enabled.\n"
     ]
    },
    {
     "name": "stdout",
     "output_type": "stream",
     "text": [
      "906/906 [==============================] - ETA: 0s - loss: 0.5876 - accuracy: 0.6883"
     ]
    },
    {
     "name": "stderr",
     "output_type": "stream",
     "text": [
      "2023-01-22 18:01:31.778188: I tensorflow/core/grappler/optimizers/custom_graph_optimizer_registry.cc:113] Plugin optimizer for device_type GPU is enabled.\n",
      "2023-01-22 18:01:31.953829: I tensorflow/core/grappler/optimizers/custom_graph_optimizer_registry.cc:113] Plugin optimizer for device_type GPU is enabled.\n",
      "2023-01-22 18:01:31.962365: I tensorflow/core/grappler/optimizers/custom_graph_optimizer_registry.cc:113] Plugin optimizer for device_type GPU is enabled.\n",
      "2023-01-22 18:01:32.173359: I tensorflow/core/grappler/optimizers/custom_graph_optimizer_registry.cc:113] Plugin optimizer for device_type GPU is enabled.\n",
      "2023-01-22 18:01:32.182082: I tensorflow/core/grappler/optimizers/custom_graph_optimizer_registry.cc:113] Plugin optimizer for device_type GPU is enabled.\n"
     ]
    },
    {
     "name": "stdout",
     "output_type": "stream",
     "text": [
      "906/906 [==============================] - 69s 72ms/step - loss: 0.5876 - accuracy: 0.6883 - val_loss: 0.5602 - val_accuracy: 0.7098\n",
      "Epoch 2/10\n",
      "906/906 [==============================] - 56s 62ms/step - loss: 0.5067 - accuracy: 0.7562 - val_loss: 0.5587 - val_accuracy: 0.7132\n",
      "Epoch 3/10\n",
      "906/906 [==============================] - 54s 59ms/step - loss: 0.4765 - accuracy: 0.7756 - val_loss: 0.5793 - val_accuracy: 0.7101\n",
      "Epoch 4/10\n",
      "906/906 [==============================] - 55s 61ms/step - loss: 0.4517 - accuracy: 0.7899 - val_loss: 0.5722 - val_accuracy: 0.7126\n",
      "Epoch 5/10\n",
      "906/906 [==============================] - 55s 61ms/step - loss: 0.4272 - accuracy: 0.8017 - val_loss: 0.6208 - val_accuracy: 0.7152\n",
      "Epoch 6/10\n",
      "906/906 [==============================] - 54s 60ms/step - loss: 0.4052 - accuracy: 0.8128 - val_loss: 0.6181 - val_accuracy: 0.7094\n",
      "Epoch 7/10\n",
      "906/906 [==============================] - 54s 60ms/step - loss: 0.3854 - accuracy: 0.8215 - val_loss: 0.6560 - val_accuracy: 0.7047\n",
      "Epoch 8/10\n",
      "906/906 [==============================] - 55s 61ms/step - loss: 0.3662 - accuracy: 0.8296 - val_loss: 0.6660 - val_accuracy: 0.7054\n",
      "Epoch 9/10\n",
      "906/906 [==============================] - 55s 61ms/step - loss: 0.3530 - accuracy: 0.8373 - val_loss: 0.7189 - val_accuracy: 0.7052\n",
      "Epoch 10/10\n",
      "906/906 [==============================] - 55s 61ms/step - loss: 0.3383 - accuracy: 0.8435 - val_loss: 0.7511 - val_accuracy: 0.6989\n"
     ]
    },
    {
     "data": {
      "image/png": "[encoded data removed]",
      "text/plain": [
       "<Figure size 432x288 with 1 Axes>"
      ]
     },
     "metadata": {
      "needs_background": "light"
     },
     "output_type": "display_data"
    },
    {
     "data": {
      "image/png": "[encoded data removed]",
      "text/plain": [
       "<Figure size 432x288 with 1 Axes>"
      ]
     },
     "metadata": {
      "needs_background": "light"
     },
     "output_type": "display_data"
    }
   ],
   "source": [
    "embedding_dim = 16\n",
    "model = tf.keras.Sequential([\n",
    "    tf.keras.layers.Embedding(vocab_size, embedding_dim, input_length = max_length),\n",
    "    #tf.keras.layers.Dense(100, activation='relu'),\n",
    "    tf.keras.layers.Bidirectional(tf.keras.layers.LSTM(embedding_dim, dropout = 0.3, return_sequences = True)),\n",
    "    tf.keras.layers.Bidirectional(tf.keras.layers.LSTM(embedding_dim)),\n",
    "    tf.keras.layers.Dense(6, activation='relu'),\n",
    "    tf.keras.layers.Dense(1, activation='sigmoid')\n",
    "])\n",
    "\n",
    "model.summary()\n",
    "\n",
    "num_epochs = 10\n",
    "optimizer = tf.keras.optimizers.SGD(lr=0.0158) #Stochastic gradient descent optimizer\n",
    "model.compile(loss='binary_crossentropy', optimizer='adam', metrics=['accuracy'])\n",
    "history = model.fit(X_train, y_train, epochs = num_epochs, validation_data=(X_test, y_test))\n",
    "\n",
    "plot_graphs(history, \"accuracy\")\n",
    "plot_graphs(history, \"loss\")"
   ]
  },
  {
   "cell_type": "code",
   "execution_count": 123,
   "id": "45c4c9c3",
   "metadata": {},
   "outputs": [
    {
     "name": "stdout",
     "output_type": "stream",
     "text": [
      "Model: \"sequential_14\"\n",
      "_________________________________________________________________\n",
      " Layer (type)                Output Shape              Param #   \n",
      "=================================================================\n",
      " embedding_13 (Embedding)    (None, 29, 16)            80000     \n",
      "                                                                 \n",
      " bidirectional_11 (Bidirecti  (None, 29, 32)           4224      \n",
      " onal)                                                           \n",
      "                                                                 \n",
      " bidirectional_12 (Bidirecti  (None, 32)               6272      \n",
      " onal)                                                           \n",
      "                                                                 \n",
      " dense_20 (Dense)            (None, 6)                 198       \n",
      "                                                                 \n",
      " dense_21 (Dense)            (None, 1)                 7         \n",
      "                                                                 \n",
      "=================================================================\n",
      "Total params: 90,701\n",
      "Trainable params: 90,701\n",
      "Non-trainable params: 0\n",
      "_________________________________________________________________\n",
      "Epoch 1/10\n"
     ]
    },
    {
     "name": "stderr",
     "output_type": "stream",
     "text": [
      "2023-01-22 18:10:59.965296: I tensorflow/core/grappler/optimizers/custom_graph_optimizer_registry.cc:113] Plugin optimizer for device_type GPU is enabled.\n",
      "2023-01-22 18:11:00.717937: I tensorflow/core/grappler/optimizers/custom_graph_optimizer_registry.cc:113] Plugin optimizer for device_type GPU is enabled.\n",
      "2023-01-22 18:11:00.732399: I tensorflow/core/grappler/optimizers/custom_graph_optimizer_registry.cc:113] Plugin optimizer for device_type GPU is enabled.\n",
      "2023-01-22 18:11:00.960473: I tensorflow/core/grappler/optimizers/custom_graph_optimizer_registry.cc:113] Plugin optimizer for device_type GPU is enabled.\n",
      "2023-01-22 18:11:00.971566: I tensorflow/core/grappler/optimizers/custom_graph_optimizer_registry.cc:113] Plugin optimizer for device_type GPU is enabled.\n",
      "2023-01-22 18:11:01.545418: I tensorflow/core/grappler/optimizers/custom_graph_optimizer_registry.cc:113] Plugin optimizer for device_type GPU is enabled.\n",
      "2023-01-22 18:11:01.560271: I tensorflow/core/grappler/optimizers/custom_graph_optimizer_registry.cc:113] Plugin optimizer for device_type GPU is enabled.\n",
      "2023-01-22 18:11:01.982739: I tensorflow/core/grappler/optimizers/custom_graph_optimizer_registry.cc:113] Plugin optimizer for device_type GPU is enabled.\n",
      "2023-01-22 18:11:01.999246: I tensorflow/core/grappler/optimizers/custom_graph_optimizer_registry.cc:113] Plugin optimizer for device_type GPU is enabled.\n"
     ]
    },
    {
     "name": "stdout",
     "output_type": "stream",
     "text": [
      "906/906 [==============================] - ETA: 0s - loss: 0.6903 - accuracy: 0.6830"
     ]
    },
    {
     "name": "stderr",
     "output_type": "stream",
     "text": [
      "2023-01-22 18:12:00.071548: I tensorflow/core/grappler/optimizers/custom_graph_optimizer_registry.cc:113] Plugin optimizer for device_type GPU is enabled.\n",
      "2023-01-22 18:12:00.251174: I tensorflow/core/grappler/optimizers/custom_graph_optimizer_registry.cc:113] Plugin optimizer for device_type GPU is enabled.\n",
      "2023-01-22 18:12:00.258851: I tensorflow/core/grappler/optimizers/custom_graph_optimizer_registry.cc:113] Plugin optimizer for device_type GPU is enabled.\n",
      "2023-01-22 18:12:00.470318: I tensorflow/core/grappler/optimizers/custom_graph_optimizer_registry.cc:113] Plugin optimizer for device_type GPU is enabled.\n",
      "2023-01-22 18:12:00.477767: I tensorflow/core/grappler/optimizers/custom_graph_optimizer_registry.cc:113] Plugin optimizer for device_type GPU is enabled.\n"
     ]
    },
    {
     "name": "stdout",
     "output_type": "stream",
     "text": [
      "906/906 [==============================] - 71s 72ms/step - loss: 0.6903 - accuracy: 0.6830 - val_loss: 0.5950 - val_accuracy: 0.7072\n",
      "Epoch 2/10\n",
      "906/906 [==============================] - 56s 62ms/step - loss: 0.5465 - accuracy: 0.7516 - val_loss: 0.5897 - val_accuracy: 0.7085\n",
      "Epoch 3/10\n",
      "906/906 [==============================] - 56s 62ms/step - loss: 0.5160 - accuracy: 0.7720 - val_loss: 0.5895 - val_accuracy: 0.7113\n",
      "Epoch 4/10\n",
      "906/906 [==============================] - 57s 62ms/step - loss: 0.4989 - accuracy: 0.7849 - val_loss: 0.6006 - val_accuracy: 0.7098\n",
      "Epoch 5/10\n",
      "906/906 [==============================] - 57s 62ms/step - loss: 0.4841 - accuracy: 0.7931 - val_loss: 0.6137 - val_accuracy: 0.7088\n",
      "Epoch 6/10\n",
      "906/906 [==============================] - 55s 61ms/step - loss: 0.4698 - accuracy: 0.8012 - val_loss: 0.6027 - val_accuracy: 0.7045\n",
      "Epoch 7/10\n",
      "906/906 [==============================] - 55s 60ms/step - loss: 0.4577 - accuracy: 0.8090 - val_loss: 0.6272 - val_accuracy: 0.7058\n",
      "Epoch 8/10\n",
      "906/906 [==============================] - 55s 60ms/step - loss: 0.4468 - accuracy: 0.8156 - val_loss: 0.6196 - val_accuracy: 0.7007\n",
      "Epoch 9/10\n",
      "906/906 [==============================] - 54s 60ms/step - loss: 0.4329 - accuracy: 0.8245 - val_loss: 0.6395 - val_accuracy: 0.7015\n",
      "Epoch 10/10\n",
      "906/906 [==============================] - 54s 60ms/step - loss: 0.4206 - accuracy: 0.8307 - val_loss: 0.6209 - val_accuracy: 0.7036\n"
     ]
    },
    {
     "data": {
      "image/png": "[encoded data removed]",
      "text/plain": [
       "<Figure size 432x288 with 1 Axes>"
      ]
     },
     "metadata": {
      "needs_background": "light"
     },
     "output_type": "display_data"
    },
    {
     "data": {
      "image/png": "[encoded data removed]",
      "text/plain": [
       "<Figure size 432x288 with 1 Axes>"
      ]
     },
     "metadata": {
      "needs_background": "light"
     },
     "output_type": "display_data"
    }
   ],
   "source": [
    "embedding_dim = 16\n",
    "model = tf.keras.Sequential([\n",
    "    tf.keras.layers.Embedding(vocab_size, embedding_dim, input_length = max_length),\n",
    "    #tf.keras.layers.Dense(100, activation='relu'),\n",
    "    tf.keras.layers.Bidirectional(tf.keras.layers.LSTM(embedding_dim, dropout = 0.3, return_sequences = True)),\n",
    "    tf.keras.layers.Bidirectional(tf.keras.layers.LSTM(embedding_dim)),\n",
    "    tf.keras.layers.Dense(6, activation='relu',kernel_regularizer='l1_l2'),\n",
    "    tf.keras.layers.Dense(1, activation='sigmoid')\n",
    "])\n",
    "\n",
    "model.summary()\n",
    "\n",
    "num_epochs = 10\n",
    "optimizer = tf.keras.optimizers.SGD(lr=0.0158, momentum=0.9) #Stochastic gradient descent optimizer\n",
    "model.compile(loss='binary_crossentropy', optimizer='adam', metrics=['accuracy'])\n",
    "history = model.fit(X_train, y_train, epochs = num_epochs, validation_data=(X_test, y_test))\n",
    "\n",
    "plot_graphs(history, \"accuracy\")\n",
    "plot_graphs(history, \"loss\")"
   ]
  },
  {
   "cell_type": "code",
   "execution_count": null,
   "id": "957335d4",
   "metadata": {},
   "outputs": [],
   "source": []
  }
 ],
 "metadata": {
  "kernelspec": {
   "display_name": "Python 3 (ipykernel)",
   "language": "python",
   "name": "python3"
  },
  "language_info": {
   "codemirror_mode": {
    "name": "ipython",
    "version": 3
   },
   "file_extension": ".py",
   "mimetype": "text/x-python",
   "name": "python",
   "nbconvert_exporter": "python",
   "pygments_lexer": "ipython3",
   "version": "3.9.10"
  }
 },
 "nbformat": 4,
 "nbformat_minor": 5
}
